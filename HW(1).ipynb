{
  "nbformat": 4,
  "nbformat_minor": 0,
  "metadata": {
    "colab": {
      "provenance": [],
      "authorship_tag": "ABX9TyMvPGHnpMSzsPk3cNJ3bRl8",
      "include_colab_link": true
    },
    "kernelspec": {
      "name": "python3",
      "display_name": "Python 3"
    },
    "language_info": {
      "name": "python"
    }
  },
  "cells": [
    {
      "cell_type": "markdown",
      "metadata": {
        "id": "view-in-github",
        "colab_type": "text"
      },
      "source": [
        "<a href=\"https://colab.research.google.com/github/daa103/DAA_ESAA/blob/main/HW(1).ipynb\" target=\"_parent\"><img src=\"https://colab.research.google.com/assets/colab-badge.svg\" alt=\"Open In Colab\"/></a>"
      ]
    },
    {
      "cell_type": "markdown",
      "source": [
        "#넘파이\n",
        "\n",
        "\n",
        "> **넘파이개념**\n",
        "\n",
        "*   Numpy=Nemerical Python \n",
        "*   빠른 배열의 연산속도 보장\n",
        "*   C/C++ 같은 저수준 언어 기반의 호환 API제공\n",
        "*  다양한 데이터 핸들링기능 제공\n",
        "\n",
        "> **넘파이ndarray 개요**\n",
        "\n",
        "* np.array(): ndarray로 변환을 원하는 객체를 인자로 입력하면 ndarray 반환\n",
        "* ndarray.shape: ndarray의 차원과 크기를 튜플로 나타내줌\n",
        "* ndarray.ndim: 각 array의 차원을 확인\n",
        "\n",
        "\n",
        "\n",
        " \n",
        "\n",
        "\n",
        "\n",
        "\n",
        "\n"
      ],
      "metadata": {
        "id": "uDzk1I-_dAIr"
      }
    },
    {
      "cell_type": "code",
      "source": [
        "import numpy as np\n",
        " \n",
        "array1= np.array([1,2,3])\n",
        "print('array1 type:', type(array1))\n",
        "print('array1 array 형태:', array1.shape)\n",
        "\n",
        "array2=np.array([[1,2,3],[2,3,4]])\n",
        "print('array2 type:',type(array2))\n",
        "print('array2 array 형태:',array2.shape)\n",
        "\n",
        "array3=np.array([[1,2,3]])\n",
        "print('array3 type:',type(array3))\n",
        "print('array3 array 형태:',array3.shape)"
      ],
      "metadata": {
        "colab": {
          "base_uri": "https://localhost:8080/"
        },
        "id": "7xMHVQQf6hDn",
        "outputId": "3ec1294d-e736-416a-ce72-5261d537baf8"
      },
      "execution_count": null,
      "outputs": [
        {
          "output_type": "stream",
          "name": "stdout",
          "text": [
            "array1 type: <class 'numpy.ndarray'>\n",
            "array1 array 형태: (3,)\n",
            "array2 type: <class 'numpy.ndarray'>\n",
            "array2 array 형태: (2, 3)\n",
            "array3 type: <class 'numpy.ndarray'>\n",
            "array3 array 형태: (1, 3)\n"
          ]
        }
      ]
    },
    {
      "cell_type": "code",
      "source": [
        "print('array1:{:0}차원, array2:{:1}차원, array3:{:2}차원'.format(array1.ndim,array2.ndim,array3.ndim))"
      ],
      "metadata": {
        "colab": {
          "base_uri": "https://localhost:8080/"
        },
        "id": "lTiZ_weI-bcP",
        "outputId": "9b06f319-dee5-4dbc-c8b5-488705d0874f"
      },
      "execution_count": null,
      "outputs": [
        {
          "output_type": "stream",
          "name": "stdout",
          "text": [
            "array1:1차원, array2:2차원, array3: 2차원\n"
          ]
        }
      ]
    },
    {
      "cell_type": "markdown",
      "source": [
        "> **ndarray의 데이터 타입**\n",
        "\n",
        "* ndarray내 데이터값: 숫자값, 문자열값, 불값 가능\n",
        "* 데이터 타입은 같은 데이터타입만 가능\n",
        "* 데이터타입은 dtype속성으로 확인 가능\n",
        "* 다른 데이터타입이 섞여있을때 더 큰 데이터타입으로 변환\n",
        "* ndarray내 데이터값 타입 변경: astype() 이용"
      ],
      "metadata": {
        "id": "1r47gOth_Cnh"
      }
    },
    {
      "cell_type": "code",
      "source": [
        "list1=[1,2,3]\n",
        "print(type(list1))\n",
        "array1=np.array(list1)\n",
        "print(type(array1))\n",
        "print(array1,array1.dtype)"
      ],
      "metadata": {
        "colab": {
          "base_uri": "https://localhost:8080/"
        },
        "id": "xbC6nUO4_nOI",
        "outputId": "86aeeade-ad25-4760-a023-9ebab6b0ace3"
      },
      "execution_count": null,
      "outputs": [
        {
          "output_type": "stream",
          "name": "stdout",
          "text": [
            "<class 'list'>\n",
            "<class 'numpy.ndarray'>\n",
            "[1 2 3] int64\n"
          ]
        }
      ]
    },
    {
      "cell_type": "code",
      "source": [
        "list2=[1,2,'test']\n",
        "array2=np.array(list2)\n",
        "print(array2, array2.dtype)\n",
        "\n",
        "list3=[1,2,3.0]\n",
        "array3=np.array(list3)\n",
        "print(array3,array3.dtype)"
      ],
      "metadata": {
        "colab": {
          "base_uri": "https://localhost:8080/"
        },
        "id": "4jcd23vpBFCK",
        "outputId": "f03471d0-2a7a-4456-e2c9-83f62e7667a3"
      },
      "execution_count": null,
      "outputs": [
        {
          "output_type": "stream",
          "name": "stdout",
          "text": [
            "['1' '2' 'test'] <U21\n",
            "[1. 2. 3.] float64\n"
          ]
        }
      ]
    },
    {
      "cell_type": "markdown",
      "source": [
        "> **ndarray 편리하게 생성-arange,zeros,ones**\n",
        "\n",
        "* ndarray를 연속값이나 0또는 1로 초기화해서 쉽게 생성할때 사용\n",
        "* arrange() :0부터 함수값-1까지 변환\n",
        "* zeros() : 튜플형태의 shape를 입력하면 0으로 채운 shape의 ndarray로 반환\n",
        "* ones() : 1로채운 ndarray로 반환환\n"
      ],
      "metadata": {
        "id": "FlRkFy6sBu_l"
      }
    },
    {
      "cell_type": "code",
      "source": [
        "sequence_array=np.arange(10)\n",
        "print(sequence_array)\n",
        "print(sequence_array.dtype, sequence_array.shape)"
      ],
      "metadata": {
        "colab": {
          "base_uri": "https://localhost:8080/"
        },
        "id": "JmhXll1HCMUh",
        "outputId": "2e806a46-bf80-450b-fc8e-8a2c06c5cea1"
      },
      "execution_count": null,
      "outputs": [
        {
          "output_type": "stream",
          "name": "stdout",
          "text": [
            "[0 1 2 3 4 5 6 7 8 9]\n",
            "int64 (10,)\n"
          ]
        }
      ]
    },
    {
      "cell_type": "code",
      "source": [
        "zero_array=np.zeros((3,2),dtype='int32')\n",
        "print(zero_array)\n",
        "print(zero_array.dtype,zero_array.shape)\n",
        "\n",
        "one_array=np.ones((3,2))\n",
        "print(one_array)\n",
        "print(one_array.dtype, one_array.shape)"
      ],
      "metadata": {
        "colab": {
          "base_uri": "https://localhost:8080/"
        },
        "id": "dAaQKX7IENKZ",
        "outputId": "7308a733-74de-4256-cb7a-cf410086e40a"
      },
      "execution_count": null,
      "outputs": [
        {
          "output_type": "stream",
          "name": "stdout",
          "text": [
            "[[0 0]\n",
            " [0 0]\n",
            " [0 0]]\n",
            "int32 (3, 2)\n",
            "[[1. 1.]\n",
            " [1. 1.]\n",
            " [1. 1.]]\n",
            "float64 (3, 2)\n"
          ]
        }
      ]
    },
    {
      "cell_type": "markdown",
      "source": [
        ">**ndarray의 차원과 크기를 변경하는 reshape()**\n",
        "\n",
        "* reshape()는 ndarray를 특정차원과 크기로 변환\n",
        "* 인자로 -1을 적용하는경우 ndarray와 호환되는 새로운 shape로 변환"
      ],
      "metadata": {
        "id": "gBISbuMtEjLT"
      }
    },
    {
      "cell_type": "code",
      "source": [
        "array1=np.arange(10)\n",
        "print('array1:/n', array1)\n",
        "\n",
        "array2=array1.reshape(2,5)\n",
        "print('array2:/n',array2)\n",
        "\n",
        "array3=array1.reshape(5,2)\n",
        "print('array3:/n',array3)"
      ],
      "metadata": {
        "colab": {
          "base_uri": "https://localhost:8080/"
        },
        "id": "SfO78bmjFe5b",
        "outputId": "546a2903-a1dd-455c-d492-b2cb7172940e"
      },
      "execution_count": null,
      "outputs": [
        {
          "output_type": "stream",
          "name": "stdout",
          "text": [
            "array1:/n [0 1 2 3 4 5 6 7 8 9]\n",
            "array2:/n [[0 1 2 3 4]\n",
            " [5 6 7 8 9]]\n",
            "array3:/n [[0 1]\n",
            " [2 3]\n",
            " [4 5]\n",
            " [6 7]\n",
            " [8 9]]\n"
          ]
        }
      ]
    },
    {
      "cell_type": "code",
      "source": [
        "array1=np.arange(10)\n",
        "print(array1)\n",
        "array2=array1.reshape(-1,5)\n",
        "print('array2 shape:',array2.shape)\n",
        "array3=array1.reshape(5,-1)\n",
        "print('array3 shape:',array3.shape)"
      ],
      "metadata": {
        "colab": {
          "base_uri": "https://localhost:8080/"
        },
        "id": "zJ9aJBVdF1cv",
        "outputId": "d2aeec90-62da-4e77-efd1-baae898c37f0"
      },
      "execution_count": null,
      "outputs": [
        {
          "output_type": "stream",
          "name": "stdout",
          "text": [
            "[0 1 2 3 4 5 6 7 8 9]\n",
            "array2 shape: (2, 5)\n",
            "array3 shape: (5, 2)\n"
          ]
        }
      ]
    },
    {
      "cell_type": "code",
      "source": [
        "array1=np.arange(8)\n",
        "array3d=array1.reshape((2,2,2))\n",
        "print('array3d:/n',array3d.tolist())\n",
        "\n",
        "#3차원 ndarray를 2차원 ndarray로 변환\n",
        "array5=array3d.reshape(-1,1)\n",
        "print('array5:/n',array5.tolist())\n",
        "print('array5 shape:',array5.shape)\n",
        "#1차원 ndarray를 2차원 ndarray로 변환\n",
        "array6=array1.reshape(-1,1)\n",
        "print('array6:/n',array6.tolist())\n",
        "print('array6:/n',array6.tolist())\n",
        "print('array6 shape:',array6.shape)"
      ],
      "metadata": {
        "colab": {
          "base_uri": "https://localhost:8080/"
        },
        "id": "ulob3tRJGrXm",
        "outputId": "991b22b6-f91f-485c-a910-2ff8e889c957"
      },
      "execution_count": null,
      "outputs": [
        {
          "output_type": "stream",
          "name": "stdout",
          "text": [
            "array3d:/n [[[0, 1], [2, 3]], [[4, 5], [6, 7]]]\n",
            "array5:/n [[0], [1], [2], [3], [4], [5], [6], [7]]\n",
            "array5 shape: (8, 1)\n",
            "array6:/n [[0], [1], [2], [3], [4], [5], [6], [7]]\n",
            "array6:/n [[0], [1], [2], [3], [4], [5], [6], [7]]\n",
            "array6 shape: (8, 1)\n"
          ]
        }
      ]
    },
    {
      "cell_type": "markdown",
      "source": [
        ">**넘파이의 ndarray의 데이터세트 선택하기-인덱싱**\n",
        "\n",
        "####1. 단일값 추출"
      ],
      "metadata": {
        "id": "3FOixpr0HmgT"
      }
    },
    {
      "cell_type": "code",
      "source": [
        "#1부터 9까지 1차원 ndarray생성\n",
        "array1=np.arange(start=1,stop=10)\n",
        "print('array1:',array1)\n",
        "#index는 0부터 시작하므로 array1[2]는 3번째 인덱스위치의 데이터 의미\n",
        "value=array1[2]\n",
        "print('value:',value)\n",
        "print(type(value))\n",
        "\n",
        "#다차원 ndarray에서 단일값 추출\n",
        "array1d=np.arange(start=1,stop=10)\n",
        "array2d=array1d.reshape(3,3)\n",
        "print(array2d)\n",
        "\n",
        "print('(row=0, col=0)index 가리키는값:', array2d[0,0])\n",
        "print('(row=0, col=1)index 가리키는값:', array2d[0,1])\n",
        "print('(row=1, col=0)index 가리키는값:', array2d[1,0])\n",
        "print('(row=2, col=2)index 가리키는값:', array2d[2,2])"
      ],
      "metadata": {
        "colab": {
          "base_uri": "https://localhost:8080/"
        },
        "id": "_8mm1BFTHun5",
        "outputId": "1560799a-f4ad-46d2-da02-c766f662b17f"
      },
      "execution_count": null,
      "outputs": [
        {
          "output_type": "stream",
          "name": "stdout",
          "text": [
            "array1: [1 2 3 4 5 6 7 8 9]\n",
            "value: 3\n",
            "<class 'numpy.int64'>\n",
            "[[1 2 3]\n",
            " [4 5 6]\n",
            " [7 8 9]]\n",
            "(row=0, col=0)index 가리키는값: 1\n",
            "(row=0, col=1)index 가리키는값: 2\n",
            "(row=1, col=0)index 가리키는값: 4\n",
            "(row=2, col=2)index 가리키는값: 9\n"
          ]
        }
      ]
    },
    {
      "cell_type": "markdown",
      "source": [
        "####2. 슬라이싱\n",
        ":기호를 이용하여 연속 데이터 슬라이싱하여 추출출"
      ],
      "metadata": {
        "id": "iTAXzOA8KfQY"
      }
    },
    {
      "cell_type": "code",
      "source": [
        "array1=np.arange(start=1,stop=10)\n",
        "array3=array1[0:3]\n",
        "print(array3)\n",
        "print(type(array3))\n",
        "\n",
        "#2차원 ndarray에서 슬라이싱하기\n",
        "array1d=np.arange(start=1,stop=10)\n",
        "array2d=array1d.reshape(3,3)\n",
        "print('array2d:\\n',array2d)\n",
        "\n",
        "print('array2d[0:2,0:2]\\n',array2d[0:2,0:2])\n",
        "print('array2d[1:3,0:3]\\n',array2d[1:3,0:3])\n",
        "print('array2d[1:3,:]\\n',array2d[1:3,:])\n",
        "print('array2d[:,:]\\n',array2d[:,:])"
      ],
      "metadata": {
        "colab": {
          "base_uri": "https://localhost:8080/"
        },
        "id": "h-Jq80MPK00J",
        "outputId": "1cb8786f-cbf2-4e39-95c5-c9b7d4df0cd1"
      },
      "execution_count": null,
      "outputs": [
        {
          "output_type": "stream",
          "name": "stdout",
          "text": [
            "[1 2 3]\n",
            "<class 'numpy.ndarray'>\n",
            "array2d:\n",
            " [[1 2 3]\n",
            " [4 5 6]\n",
            " [7 8 9]]\n",
            "array2d[0:2,0:2]\n",
            " [[1 2]\n",
            " [4 5]]\n",
            "array2d[1:3,0:3]\n",
            " [[4 5 6]\n",
            " [7 8 9]]\n",
            "array2d[1:3,:]\n",
            " [[4 5 6]\n",
            " [7 8 9]]\n",
            "array2d[:,:]\n",
            " [[1 2 3]\n",
            " [4 5 6]\n",
            " [7 8 9]]\n"
          ]
        }
      ]
    },
    {
      "cell_type": "markdown",
      "source": [
        "####3. 팬시인덱싱\n",
        ":인덱스 집합 지정후 ndarray를 반환하는 인덱싱 방법법"
      ],
      "metadata": {
        "id": "l7XvJkO3Mvs5"
      }
    },
    {
      "cell_type": "code",
      "source": [
        "array1d=np.arange(start=1,stop=10)\n",
        "array2d=array1d.reshape(3,3)\n",
        "\n",
        "array3=array2d[[0,1],2]\n",
        "print('array2d[[0,1],2]=>',array3.tolist())\n",
        "array4=array2d[[0,1],0:2]\n",
        "print('array2d[[0,1],0:2]=>',array4.tolist())\n",
        "array5=array2d[[0,1]]\n",
        "print('array2d[[0,1]]=>',array5.tolist())\n",
        "\n"
      ],
      "metadata": {
        "colab": {
          "base_uri": "https://localhost:8080/"
        },
        "id": "y8IpQvUcMy8V",
        "outputId": "299f4f4e-778b-428d-8934-0492d1771114"
      },
      "execution_count": null,
      "outputs": [
        {
          "output_type": "stream",
          "name": "stdout",
          "text": [
            "array2d[[0,1],2]=> [3, 6]\n",
            "array2d[[0,1],0:2]=> [[1, 2], [4, 5]]\n",
            "array2d[[0,1]]=> [[1, 2, 3], [4, 5, 6]]\n"
          ]
        }
      ]
    },
    {
      "cell_type": "markdown",
      "source": [
        "####4. 불린 인덱싱\n",
        ":for loop/ if else보다 간단한 구현현"
      ],
      "metadata": {
        "id": "V3c7VwEQN1aS"
      }
    },
    {
      "cell_type": "code",
      "source": [
        "array1d= np.arange(start=1,stop=10)\n",
        "#[]안에  array1d>5 Boolean indexing을 적용\n",
        "array3=array1d[array1d>5]\n",
        "print('array1d>5 불린 인덱싱결과값:',array3)\n",
        "\n",
        "boolean_indexes=np.array([False,False,False,False,False,True,True,True,True])\n",
        "array3=array1d[boolean_indexes]\n",
        "print('불린인덱스로 필터링결과:',array3)\n",
        "\n",
        "indexes=np.array([5,6,7,8])\n",
        "array4=array1d[indexes]\n",
        "print('일반 인덱스로 필터링결과:',array4)"
      ],
      "metadata": {
        "colab": {
          "base_uri": "https://localhost:8080/"
        },
        "id": "MQPlvdFfN4I_",
        "outputId": "ab6dc38d-074f-4205-aa3a-57be05e65ac4"
      },
      "execution_count": null,
      "outputs": [
        {
          "output_type": "stream",
          "name": "stdout",
          "text": [
            "array1d>5 불린 인덱싱결과값: [6 7 8 9]\n",
            "불린인덱스로 필터링결과: [6 7 8 9]\n",
            "일반 인덱스로 필터링결과: [6 7 8 9]\n"
          ]
        }
      ]
    },
    {
      "cell_type": "markdown",
      "source": [
        ">**행렬 정렬**\n",
        "* sort()\n"
      ],
      "metadata": {
        "id": "Jcq6eLNEPKAV"
      }
    },
    {
      "cell_type": "code",
      "source": [
        "org_array=np.array([3,1,9,5])\n",
        "print('원본 행렬:',org_array)\n",
        "#np.sort()로 정렬\n",
        "sort_array1=np.sort(org_array)\n",
        "print('np.sort() 호출 후 반환된 정렬 행렬:',sort_array1)\n",
        "print('np.sort()호출 후 원본 행렬:',org_array)\n",
        "#ndarray.sort()로 정렬\n",
        "sort_array2=org_array.sort()\n",
        "print('org_array.sort() 호출 후 반환된 행렬:',sort_array2)\n",
        "print('org_array.sort() 호출 후 원본 행렬:',org_array)\n",
        "\n",
        "#내림차순정렬은 [::-1] 정렬\n",
        "\n",
        "sort_array1_desc=np.sort(org_array)[::-1]\n",
        "print('내림차순으로 정렬:',sort_array1_desc)"
      ],
      "metadata": {
        "colab": {
          "base_uri": "https://localhost:8080/"
        },
        "id": "v7XmH9QAPgoZ",
        "outputId": "a7ac9d10-9efa-4ee6-cd91-5a172fd48a73"
      },
      "execution_count": null,
      "outputs": [
        {
          "output_type": "stream",
          "name": "stdout",
          "text": [
            "원본 행렬: [3 1 9 5]\n",
            "np.sort() 호출 후 반환된 정렬 행렬: [1 3 5 9]\n",
            "np.sort()호출 후 원본 행렬: [3 1 9 5]\n",
            "org_array.sort() 호출 후 반환된 행렬: None\n",
            "org_array.sort() 호출 후 원본 행렬: [1 3 5 9]\n",
            "내림차순으로 정렬: [9 5 3 1]\n"
          ]
        }
      ]
    },
    {
      "cell_type": "code",
      "source": [
        "#행렬이 2차원이상일때 axis축으로 로우방향, 칼럼방향으로 정렬\n",
        "array2d=np.array([[8,12],[7,1]])\n",
        "sort_array2d_axis0=np.sort(array2d,axis=0)\n",
        "print('로우방향으로 정렬:\\n',sort_array2d_axis0)\n",
        "sort_array2d_axis1=np.sort(array2d,axis=1)\n",
        "print('칼럼방향으로 정렬:\\n',sort_array2d_axis1)"
      ],
      "metadata": {
        "colab": {
          "base_uri": "https://localhost:8080/"
        },
        "id": "Eh4q_UNJQzsG",
        "outputId": "9d052a14-c70a-497b-b802-520c59e40461"
      },
      "execution_count": null,
      "outputs": [
        {
          "output_type": "stream",
          "name": "stdout",
          "text": [
            "로우방향으로 정렬:\n",
            " [[ 7  1]\n",
            " [ 8 12]]\n",
            "칼럼방향으로 정렬:\n",
            " [[ 8 12]\n",
            " [ 1  7]]\n"
          ]
        }
      ]
    },
    {
      "cell_type": "markdown",
      "source": [
        "> * argsort()"
      ],
      "metadata": {
        "id": "WnlxG6c-Ru65"
      }
    },
    {
      "cell_type": "code",
      "source": [
        "#원본이 정렬되었을때 기존 원본행렬 원소에 대한 인덱스가 필요할때\n",
        "org_array=np.array([3,1,9,5])\n",
        "sort_indices=np.argsort(org_array)\n",
        "print(type(sort_indices))\n",
        "print('행렬 정렬시 원본 행렬의 인덱스:',sort_indices)\n",
        "\n",
        "#내림차순으로 정렬시 np.argsort()[::-1]\n",
        "org_array=np.array([3,1,9,5])\n",
        "sort_indices_desc=np.argsort(org_array)[::-1]\n",
        "print('행렬 내림차순 정렬시 원본 행렬의 인덱스:',sort_indices_desc)"
      ],
      "metadata": {
        "colab": {
          "base_uri": "https://localhost:8080/"
        },
        "id": "njWHqknkRzxA",
        "outputId": "e6dd511f-b930-4d75-8fab-2080e47e6427"
      },
      "execution_count": null,
      "outputs": [
        {
          "output_type": "stream",
          "name": "stdout",
          "text": [
            "<class 'numpy.ndarray'>\n",
            "행렬 정렬시 원본 행렬의 인덱스: [1 0 3 2]\n",
            "행렬 내림차순 정렬시 원본 행렬의 인덱스: [2 3 0 1]\n"
          ]
        }
      ]
    },
    {
      "cell_type": "markdown",
      "source": [
        ">**선형대수 연산-행렬내적과 전치행렬 구하기**\n",
        " * 행렬내적> np.dot()\n"
      ],
      "metadata": {
        "id": "r-R50FtuSxtn"
      }
    },
    {
      "cell_type": "code",
      "source": [
        "A=np.array([[1,2,3],[4,5,6]])\n",
        "B=np.array([[7,8],[9,10],[11,12]])\n",
        "dot_product=np.dot(A,B)\n",
        "print('행렬 내적결과:\\n',dot_product)"
      ],
      "metadata": {
        "colab": {
          "base_uri": "https://localhost:8080/"
        },
        "id": "jUOHdGbaTHSa",
        "outputId": "fe278e21-b680-4428-ee61-45cfedff9721"
      },
      "execution_count": null,
      "outputs": [
        {
          "output_type": "stream",
          "name": "stdout",
          "text": [
            "행렬 내적결과:\n",
            " [[ 58  64]\n",
            " [139 154]]\n"
          ]
        }
      ]
    },
    {
      "cell_type": "markdown",
      "source": [
        ">* 전치 행렬 > transpose()"
      ],
      "metadata": {
        "id": "9MpioFwBTaY1"
      }
    },
    {
      "cell_type": "code",
      "source": [
        "A=np.array([[1,2],[3,4]])\n",
        "transpose_mat=np.transpose(A)\n",
        "print('A의 전치행렬:\\n',transpose_mat)"
      ],
      "metadata": {
        "colab": {
          "base_uri": "https://localhost:8080/"
        },
        "id": "ymf6QOAETgyN",
        "outputId": "28da54cd-b036-4535-e690-992e0a23c986"
      },
      "execution_count": null,
      "outputs": [
        {
          "output_type": "stream",
          "name": "stdout",
          "text": [
            "A의 전치행렬:\n",
            " [[1 3]\n",
            " [2 4]]\n"
          ]
        }
      ]
    }
  ]
}