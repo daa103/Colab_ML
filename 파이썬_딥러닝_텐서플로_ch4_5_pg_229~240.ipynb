{
  "nbformat": 4,
  "nbformat_minor": 0,
  "metadata": {
    "colab": {
      "provenance": [],
      "authorship_tag": "ABX9TyP9CYvfIHo2+FC0gBsloui8",
      "include_colab_link": true
    },
    "kernelspec": {
      "name": "python3",
      "display_name": "Python 3"
    },
    "language_info": {
      "name": "python"
    },
    "widgets": {
      "application/vnd.jupyter.widget-state+json": {
        "f415523eb0a3476d9113747162e3fc1f": {
          "model_module": "@jupyter-widgets/controls",
          "model_name": "HBoxModel",
          "model_module_version": "1.5.0",
          "state": {
            "_dom_classes": [],
            "_model_module": "@jupyter-widgets/controls",
            "_model_module_version": "1.5.0",
            "_model_name": "HBoxModel",
            "_view_count": null,
            "_view_module": "@jupyter-widgets/controls",
            "_view_module_version": "1.5.0",
            "_view_name": "HBoxView",
            "box_style": "",
            "children": [
              "IPY_MODEL_c58b852fce6a486f90a5e1a669c820f9",
              "IPY_MODEL_19b3cda48f224843ada1f2f6ce0ffd3c",
              "IPY_MODEL_55060fea713144ba935002b1d0bf1479"
            ],
            "layout": "IPY_MODEL_0cd5ad808f394919882a39c912a5f367"
          }
        },
        "c58b852fce6a486f90a5e1a669c820f9": {
          "model_module": "@jupyter-widgets/controls",
          "model_name": "HTMLModel",
          "model_module_version": "1.5.0",
          "state": {
            "_dom_classes": [],
            "_model_module": "@jupyter-widgets/controls",
            "_model_module_version": "1.5.0",
            "_model_name": "HTMLModel",
            "_view_count": null,
            "_view_module": "@jupyter-widgets/controls",
            "_view_module_version": "1.5.0",
            "_view_name": "HTMLView",
            "description": "",
            "description_tooltip": null,
            "layout": "IPY_MODEL_dbdcc63535b54e6394484ea9d254df57",
            "placeholder": "​",
            "style": "IPY_MODEL_ce1da421a1604415862f1ba9085529e9",
            "value": "Dl Completed...: 100%"
          }
        },
        "19b3cda48f224843ada1f2f6ce0ffd3c": {
          "model_module": "@jupyter-widgets/controls",
          "model_name": "FloatProgressModel",
          "model_module_version": "1.5.0",
          "state": {
            "_dom_classes": [],
            "_model_module": "@jupyter-widgets/controls",
            "_model_module_version": "1.5.0",
            "_model_name": "FloatProgressModel",
            "_view_count": null,
            "_view_module": "@jupyter-widgets/controls",
            "_view_module_version": "1.5.0",
            "_view_name": "ProgressView",
            "bar_style": "success",
            "description": "",
            "description_tooltip": null,
            "layout": "IPY_MODEL_8ca32f31a10c4725af90475aab5830d4",
            "max": 1,
            "min": 0,
            "orientation": "horizontal",
            "style": "IPY_MODEL_c946f9efedee4423addf42d82535e3a7",
            "value": 1
          }
        },
        "55060fea713144ba935002b1d0bf1479": {
          "model_module": "@jupyter-widgets/controls",
          "model_name": "HTMLModel",
          "model_module_version": "1.5.0",
          "state": {
            "_dom_classes": [],
            "_model_module": "@jupyter-widgets/controls",
            "_model_module_version": "1.5.0",
            "_model_name": "HTMLModel",
            "_view_count": null,
            "_view_module": "@jupyter-widgets/controls",
            "_view_module_version": "1.5.0",
            "_view_name": "HTMLView",
            "description": "",
            "description_tooltip": null,
            "layout": "IPY_MODEL_938e46d0786847efa754ff43611d0629",
            "placeholder": "​",
            "style": "IPY_MODEL_692ac64780c54036bd1fa1a832cf91a5",
            "value": " 2/2 [01:36&lt;00:00, 33.37s/ url]"
          }
        },
        "0cd5ad808f394919882a39c912a5f367": {
          "model_module": "@jupyter-widgets/base",
          "model_name": "LayoutModel",
          "model_module_version": "1.2.0",
          "state": {
            "_model_module": "@jupyter-widgets/base",
            "_model_module_version": "1.2.0",
            "_model_name": "LayoutModel",
            "_view_count": null,
            "_view_module": "@jupyter-widgets/base",
            "_view_module_version": "1.2.0",
            "_view_name": "LayoutView",
            "align_content": null,
            "align_items": null,
            "align_self": null,
            "border": null,
            "bottom": null,
            "display": null,
            "flex": null,
            "flex_flow": null,
            "grid_area": null,
            "grid_auto_columns": null,
            "grid_auto_flow": null,
            "grid_auto_rows": null,
            "grid_column": null,
            "grid_gap": null,
            "grid_row": null,
            "grid_template_areas": null,
            "grid_template_columns": null,
            "grid_template_rows": null,
            "height": null,
            "justify_content": null,
            "justify_items": null,
            "left": null,
            "margin": null,
            "max_height": null,
            "max_width": null,
            "min_height": null,
            "min_width": null,
            "object_fit": null,
            "object_position": null,
            "order": null,
            "overflow": null,
            "overflow_x": null,
            "overflow_y": null,
            "padding": null,
            "right": null,
            "top": null,
            "visibility": null,
            "width": null
          }
        },
        "dbdcc63535b54e6394484ea9d254df57": {
          "model_module": "@jupyter-widgets/base",
          "model_name": "LayoutModel",
          "model_module_version": "1.2.0",
          "state": {
            "_model_module": "@jupyter-widgets/base",
            "_model_module_version": "1.2.0",
            "_model_name": "LayoutModel",
            "_view_count": null,
            "_view_module": "@jupyter-widgets/base",
            "_view_module_version": "1.2.0",
            "_view_name": "LayoutView",
            "align_content": null,
            "align_items": null,
            "align_self": null,
            "border": null,
            "bottom": null,
            "display": null,
            "flex": null,
            "flex_flow": null,
            "grid_area": null,
            "grid_auto_columns": null,
            "grid_auto_flow": null,
            "grid_auto_rows": null,
            "grid_column": null,
            "grid_gap": null,
            "grid_row": null,
            "grid_template_areas": null,
            "grid_template_columns": null,
            "grid_template_rows": null,
            "height": null,
            "justify_content": null,
            "justify_items": null,
            "left": null,
            "margin": null,
            "max_height": null,
            "max_width": null,
            "min_height": null,
            "min_width": null,
            "object_fit": null,
            "object_position": null,
            "order": null,
            "overflow": null,
            "overflow_x": null,
            "overflow_y": null,
            "padding": null,
            "right": null,
            "top": null,
            "visibility": null,
            "width": null
          }
        },
        "ce1da421a1604415862f1ba9085529e9": {
          "model_module": "@jupyter-widgets/controls",
          "model_name": "DescriptionStyleModel",
          "model_module_version": "1.5.0",
          "state": {
            "_model_module": "@jupyter-widgets/controls",
            "_model_module_version": "1.5.0",
            "_model_name": "DescriptionStyleModel",
            "_view_count": null,
            "_view_module": "@jupyter-widgets/base",
            "_view_module_version": "1.2.0",
            "_view_name": "StyleView",
            "description_width": ""
          }
        },
        "8ca32f31a10c4725af90475aab5830d4": {
          "model_module": "@jupyter-widgets/base",
          "model_name": "LayoutModel",
          "model_module_version": "1.2.0",
          "state": {
            "_model_module": "@jupyter-widgets/base",
            "_model_module_version": "1.2.0",
            "_model_name": "LayoutModel",
            "_view_count": null,
            "_view_module": "@jupyter-widgets/base",
            "_view_module_version": "1.2.0",
            "_view_name": "LayoutView",
            "align_content": null,
            "align_items": null,
            "align_self": null,
            "border": null,
            "bottom": null,
            "display": null,
            "flex": null,
            "flex_flow": null,
            "grid_area": null,
            "grid_auto_columns": null,
            "grid_auto_flow": null,
            "grid_auto_rows": null,
            "grid_column": null,
            "grid_gap": null,
            "grid_row": null,
            "grid_template_areas": null,
            "grid_template_columns": null,
            "grid_template_rows": null,
            "height": null,
            "justify_content": null,
            "justify_items": null,
            "left": null,
            "margin": null,
            "max_height": null,
            "max_width": null,
            "min_height": null,
            "min_width": null,
            "object_fit": null,
            "object_position": null,
            "order": null,
            "overflow": null,
            "overflow_x": null,
            "overflow_y": null,
            "padding": null,
            "right": null,
            "top": null,
            "visibility": null,
            "width": "20px"
          }
        },
        "c946f9efedee4423addf42d82535e3a7": {
          "model_module": "@jupyter-widgets/controls",
          "model_name": "ProgressStyleModel",
          "model_module_version": "1.5.0",
          "state": {
            "_model_module": "@jupyter-widgets/controls",
            "_model_module_version": "1.5.0",
            "_model_name": "ProgressStyleModel",
            "_view_count": null,
            "_view_module": "@jupyter-widgets/base",
            "_view_module_version": "1.2.0",
            "_view_name": "StyleView",
            "bar_color": null,
            "description_width": ""
          }
        },
        "938e46d0786847efa754ff43611d0629": {
          "model_module": "@jupyter-widgets/base",
          "model_name": "LayoutModel",
          "model_module_version": "1.2.0",
          "state": {
            "_model_module": "@jupyter-widgets/base",
            "_model_module_version": "1.2.0",
            "_model_name": "LayoutModel",
            "_view_count": null,
            "_view_module": "@jupyter-widgets/base",
            "_view_module_version": "1.2.0",
            "_view_name": "LayoutView",
            "align_content": null,
            "align_items": null,
            "align_self": null,
            "border": null,
            "bottom": null,
            "display": null,
            "flex": null,
            "flex_flow": null,
            "grid_area": null,
            "grid_auto_columns": null,
            "grid_auto_flow": null,
            "grid_auto_rows": null,
            "grid_column": null,
            "grid_gap": null,
            "grid_row": null,
            "grid_template_areas": null,
            "grid_template_columns": null,
            "grid_template_rows": null,
            "height": null,
            "justify_content": null,
            "justify_items": null,
            "left": null,
            "margin": null,
            "max_height": null,
            "max_width": null,
            "min_height": null,
            "min_width": null,
            "object_fit": null,
            "object_position": null,
            "order": null,
            "overflow": null,
            "overflow_x": null,
            "overflow_y": null,
            "padding": null,
            "right": null,
            "top": null,
            "visibility": null,
            "width": null
          }
        },
        "692ac64780c54036bd1fa1a832cf91a5": {
          "model_module": "@jupyter-widgets/controls",
          "model_name": "DescriptionStyleModel",
          "model_module_version": "1.5.0",
          "state": {
            "_model_module": "@jupyter-widgets/controls",
            "_model_module_version": "1.5.0",
            "_model_name": "DescriptionStyleModel",
            "_view_count": null,
            "_view_module": "@jupyter-widgets/base",
            "_view_module_version": "1.2.0",
            "_view_name": "StyleView",
            "description_width": ""
          }
        },
        "dfe76e0117ef43799a3cdafc96b9b565": {
          "model_module": "@jupyter-widgets/controls",
          "model_name": "HBoxModel",
          "model_module_version": "1.5.0",
          "state": {
            "_dom_classes": [],
            "_model_module": "@jupyter-widgets/controls",
            "_model_module_version": "1.5.0",
            "_model_name": "HBoxModel",
            "_view_count": null,
            "_view_module": "@jupyter-widgets/controls",
            "_view_module_version": "1.5.0",
            "_view_name": "HBoxView",
            "box_style": "",
            "children": [
              "IPY_MODEL_ff0642d4d7e24670abd594aa5349d716",
              "IPY_MODEL_84c088c1aba14a6f97523ef5c8c6342b",
              "IPY_MODEL_6c968638b59941e38b1a680748f84a8d"
            ],
            "layout": "IPY_MODEL_06ab64d72b6e472ebb76b675dd5a3473"
          }
        },
        "ff0642d4d7e24670abd594aa5349d716": {
          "model_module": "@jupyter-widgets/controls",
          "model_name": "HTMLModel",
          "model_module_version": "1.5.0",
          "state": {
            "_dom_classes": [],
            "_model_module": "@jupyter-widgets/controls",
            "_model_module_version": "1.5.0",
            "_model_name": "HTMLModel",
            "_view_count": null,
            "_view_module": "@jupyter-widgets/controls",
            "_view_module_version": "1.5.0",
            "_view_name": "HTMLView",
            "description": "",
            "description_tooltip": null,
            "layout": "IPY_MODEL_f12ae78a97c649a3b0ea10724e9045e9",
            "placeholder": "​",
            "style": "IPY_MODEL_ea21aa6881a54a09898fb18fc6eeaad3",
            "value": "Dl Size...: 100%"
          }
        },
        "84c088c1aba14a6f97523ef5c8c6342b": {
          "model_module": "@jupyter-widgets/controls",
          "model_name": "FloatProgressModel",
          "model_module_version": "1.5.0",
          "state": {
            "_dom_classes": [],
            "_model_module": "@jupyter-widgets/controls",
            "_model_module_version": "1.5.0",
            "_model_name": "FloatProgressModel",
            "_view_count": null,
            "_view_module": "@jupyter-widgets/controls",
            "_view_module_version": "1.5.0",
            "_view_name": "ProgressView",
            "bar_style": "success",
            "description": "",
            "description_tooltip": null,
            "layout": "IPY_MODEL_931e647b42ac4cc4876b9fedbffcc2d1",
            "max": 1,
            "min": 0,
            "orientation": "horizontal",
            "style": "IPY_MODEL_281e225c7f4c4b11bb0a9e2c92f72f35",
            "value": 1
          }
        },
        "6c968638b59941e38b1a680748f84a8d": {
          "model_module": "@jupyter-widgets/controls",
          "model_name": "HTMLModel",
          "model_module_version": "1.5.0",
          "state": {
            "_dom_classes": [],
            "_model_module": "@jupyter-widgets/controls",
            "_model_module_version": "1.5.0",
            "_model_name": "HTMLModel",
            "_view_count": null,
            "_view_module": "@jupyter-widgets/controls",
            "_view_module_version": "1.5.0",
            "_view_name": "HTMLView",
            "description": "",
            "description_tooltip": null,
            "layout": "IPY_MODEL_8d28f98bb64b43bc8a556cb852bdab96",
            "placeholder": "​",
            "style": "IPY_MODEL_7f9390822bbb4047af3adb864ccfcebf",
            "value": " 773/773 [01:36&lt;00:00, 14.12 MiB/s]"
          }
        },
        "06ab64d72b6e472ebb76b675dd5a3473": {
          "model_module": "@jupyter-widgets/base",
          "model_name": "LayoutModel",
          "model_module_version": "1.2.0",
          "state": {
            "_model_module": "@jupyter-widgets/base",
            "_model_module_version": "1.2.0",
            "_model_name": "LayoutModel",
            "_view_count": null,
            "_view_module": "@jupyter-widgets/base",
            "_view_module_version": "1.2.0",
            "_view_name": "LayoutView",
            "align_content": null,
            "align_items": null,
            "align_self": null,
            "border": null,
            "bottom": null,
            "display": null,
            "flex": null,
            "flex_flow": null,
            "grid_area": null,
            "grid_auto_columns": null,
            "grid_auto_flow": null,
            "grid_auto_rows": null,
            "grid_column": null,
            "grid_gap": null,
            "grid_row": null,
            "grid_template_areas": null,
            "grid_template_columns": null,
            "grid_template_rows": null,
            "height": null,
            "justify_content": null,
            "justify_items": null,
            "left": null,
            "margin": null,
            "max_height": null,
            "max_width": null,
            "min_height": null,
            "min_width": null,
            "object_fit": null,
            "object_position": null,
            "order": null,
            "overflow": null,
            "overflow_x": null,
            "overflow_y": null,
            "padding": null,
            "right": null,
            "top": null,
            "visibility": null,
            "width": null
          }
        },
        "f12ae78a97c649a3b0ea10724e9045e9": {
          "model_module": "@jupyter-widgets/base",
          "model_name": "LayoutModel",
          "model_module_version": "1.2.0",
          "state": {
            "_model_module": "@jupyter-widgets/base",
            "_model_module_version": "1.2.0",
            "_model_name": "LayoutModel",
            "_view_count": null,
            "_view_module": "@jupyter-widgets/base",
            "_view_module_version": "1.2.0",
            "_view_name": "LayoutView",
            "align_content": null,
            "align_items": null,
            "align_self": null,
            "border": null,
            "bottom": null,
            "display": null,
            "flex": null,
            "flex_flow": null,
            "grid_area": null,
            "grid_auto_columns": null,
            "grid_auto_flow": null,
            "grid_auto_rows": null,
            "grid_column": null,
            "grid_gap": null,
            "grid_row": null,
            "grid_template_areas": null,
            "grid_template_columns": null,
            "grid_template_rows": null,
            "height": null,
            "justify_content": null,
            "justify_items": null,
            "left": null,
            "margin": null,
            "max_height": null,
            "max_width": null,
            "min_height": null,
            "min_width": null,
            "object_fit": null,
            "object_position": null,
            "order": null,
            "overflow": null,
            "overflow_x": null,
            "overflow_y": null,
            "padding": null,
            "right": null,
            "top": null,
            "visibility": null,
            "width": null
          }
        },
        "ea21aa6881a54a09898fb18fc6eeaad3": {
          "model_module": "@jupyter-widgets/controls",
          "model_name": "DescriptionStyleModel",
          "model_module_version": "1.5.0",
          "state": {
            "_model_module": "@jupyter-widgets/controls",
            "_model_module_version": "1.5.0",
            "_model_name": "DescriptionStyleModel",
            "_view_count": null,
            "_view_module": "@jupyter-widgets/base",
            "_view_module_version": "1.2.0",
            "_view_name": "StyleView",
            "description_width": ""
          }
        },
        "931e647b42ac4cc4876b9fedbffcc2d1": {
          "model_module": "@jupyter-widgets/base",
          "model_name": "LayoutModel",
          "model_module_version": "1.2.0",
          "state": {
            "_model_module": "@jupyter-widgets/base",
            "_model_module_version": "1.2.0",
            "_model_name": "LayoutModel",
            "_view_count": null,
            "_view_module": "@jupyter-widgets/base",
            "_view_module_version": "1.2.0",
            "_view_name": "LayoutView",
            "align_content": null,
            "align_items": null,
            "align_self": null,
            "border": null,
            "bottom": null,
            "display": null,
            "flex": null,
            "flex_flow": null,
            "grid_area": null,
            "grid_auto_columns": null,
            "grid_auto_flow": null,
            "grid_auto_rows": null,
            "grid_column": null,
            "grid_gap": null,
            "grid_row": null,
            "grid_template_areas": null,
            "grid_template_columns": null,
            "grid_template_rows": null,
            "height": null,
            "justify_content": null,
            "justify_items": null,
            "left": null,
            "margin": null,
            "max_height": null,
            "max_width": null,
            "min_height": null,
            "min_width": null,
            "object_fit": null,
            "object_position": null,
            "order": null,
            "overflow": null,
            "overflow_x": null,
            "overflow_y": null,
            "padding": null,
            "right": null,
            "top": null,
            "visibility": null,
            "width": "20px"
          }
        },
        "281e225c7f4c4b11bb0a9e2c92f72f35": {
          "model_module": "@jupyter-widgets/controls",
          "model_name": "ProgressStyleModel",
          "model_module_version": "1.5.0",
          "state": {
            "_model_module": "@jupyter-widgets/controls",
            "_model_module_version": "1.5.0",
            "_model_name": "ProgressStyleModel",
            "_view_count": null,
            "_view_module": "@jupyter-widgets/base",
            "_view_module_version": "1.2.0",
            "_view_name": "StyleView",
            "bar_color": null,
            "description_width": ""
          }
        },
        "8d28f98bb64b43bc8a556cb852bdab96": {
          "model_module": "@jupyter-widgets/base",
          "model_name": "LayoutModel",
          "model_module_version": "1.2.0",
          "state": {
            "_model_module": "@jupyter-widgets/base",
            "_model_module_version": "1.2.0",
            "_model_name": "LayoutModel",
            "_view_count": null,
            "_view_module": "@jupyter-widgets/base",
            "_view_module_version": "1.2.0",
            "_view_name": "LayoutView",
            "align_content": null,
            "align_items": null,
            "align_self": null,
            "border": null,
            "bottom": null,
            "display": null,
            "flex": null,
            "flex_flow": null,
            "grid_area": null,
            "grid_auto_columns": null,
            "grid_auto_flow": null,
            "grid_auto_rows": null,
            "grid_column": null,
            "grid_gap": null,
            "grid_row": null,
            "grid_template_areas": null,
            "grid_template_columns": null,
            "grid_template_rows": null,
            "height": null,
            "justify_content": null,
            "justify_items": null,
            "left": null,
            "margin": null,
            "max_height": null,
            "max_width": null,
            "min_height": null,
            "min_width": null,
            "object_fit": null,
            "object_position": null,
            "order": null,
            "overflow": null,
            "overflow_x": null,
            "overflow_y": null,
            "padding": null,
            "right": null,
            "top": null,
            "visibility": null,
            "width": null
          }
        },
        "7f9390822bbb4047af3adb864ccfcebf": {
          "model_module": "@jupyter-widgets/controls",
          "model_name": "DescriptionStyleModel",
          "model_module_version": "1.5.0",
          "state": {
            "_model_module": "@jupyter-widgets/controls",
            "_model_module_version": "1.5.0",
            "_model_name": "DescriptionStyleModel",
            "_view_count": null,
            "_view_module": "@jupyter-widgets/base",
            "_view_module_version": "1.2.0",
            "_view_name": "StyleView",
            "description_width": ""
          }
        },
        "88a997e0e6a94060a376f302f9b850ba": {
          "model_module": "@jupyter-widgets/controls",
          "model_name": "HBoxModel",
          "model_module_version": "1.5.0",
          "state": {
            "_dom_classes": [],
            "_model_module": "@jupyter-widgets/controls",
            "_model_module_version": "1.5.0",
            "_model_name": "HBoxModel",
            "_view_count": null,
            "_view_module": "@jupyter-widgets/controls",
            "_view_module_version": "1.5.0",
            "_view_name": "HBoxView",
            "box_style": "",
            "children": [
              "IPY_MODEL_9d30a1c62de94a22bb958eceadf58362",
              "IPY_MODEL_a3c0896e7f444dd49cb23f0a6da757a7",
              "IPY_MODEL_ee12704287d240478f4e62b87baeaa3b"
            ],
            "layout": "IPY_MODEL_3a768c18f39d45d2aa47271a4b3fd9f6"
          }
        },
        "9d30a1c62de94a22bb958eceadf58362": {
          "model_module": "@jupyter-widgets/controls",
          "model_name": "HTMLModel",
          "model_module_version": "1.5.0",
          "state": {
            "_dom_classes": [],
            "_model_module": "@jupyter-widgets/controls",
            "_model_module_version": "1.5.0",
            "_model_name": "HTMLModel",
            "_view_count": null,
            "_view_module": "@jupyter-widgets/controls",
            "_view_module_version": "1.5.0",
            "_view_name": "HTMLView",
            "description": "",
            "description_tooltip": null,
            "layout": "IPY_MODEL_3c2f0e6a855648ad9e67d0e13fec06ee",
            "placeholder": "​",
            "style": "IPY_MODEL_bc7f7ef293544ca88feb9919736974c0",
            "value": "Extraction completed...: 100%"
          }
        },
        "a3c0896e7f444dd49cb23f0a6da757a7": {
          "model_module": "@jupyter-widgets/controls",
          "model_name": "FloatProgressModel",
          "model_module_version": "1.5.0",
          "state": {
            "_dom_classes": [],
            "_model_module": "@jupyter-widgets/controls",
            "_model_module_version": "1.5.0",
            "_model_name": "FloatProgressModel",
            "_view_count": null,
            "_view_module": "@jupyter-widgets/controls",
            "_view_module_version": "1.5.0",
            "_view_name": "ProgressView",
            "bar_style": "success",
            "description": "",
            "description_tooltip": null,
            "layout": "IPY_MODEL_462fc326f62b4417b9edf4214c2f41fb",
            "max": 1,
            "min": 0,
            "orientation": "horizontal",
            "style": "IPY_MODEL_81aa2c4f9d9a412bad5eb59ed1a49908",
            "value": 1
          }
        },
        "ee12704287d240478f4e62b87baeaa3b": {
          "model_module": "@jupyter-widgets/controls",
          "model_name": "HTMLModel",
          "model_module_version": "1.5.0",
          "state": {
            "_dom_classes": [],
            "_model_module": "@jupyter-widgets/controls",
            "_model_module_version": "1.5.0",
            "_model_name": "HTMLModel",
            "_view_count": null,
            "_view_module": "@jupyter-widgets/controls",
            "_view_module_version": "1.5.0",
            "_view_name": "HTMLView",
            "description": "",
            "description_tooltip": null,
            "layout": "IPY_MODEL_4e9fdd53233c4b8080c2e6c129482f6e",
            "placeholder": "​",
            "style": "IPY_MODEL_4695732a6ee6497aa74c196886e46f0f",
            "value": " 18473/18473 [01:36&lt;00:00, 862.97 file/s]"
          }
        },
        "3a768c18f39d45d2aa47271a4b3fd9f6": {
          "model_module": "@jupyter-widgets/base",
          "model_name": "LayoutModel",
          "model_module_version": "1.2.0",
          "state": {
            "_model_module": "@jupyter-widgets/base",
            "_model_module_version": "1.2.0",
            "_model_name": "LayoutModel",
            "_view_count": null,
            "_view_module": "@jupyter-widgets/base",
            "_view_module_version": "1.2.0",
            "_view_name": "LayoutView",
            "align_content": null,
            "align_items": null,
            "align_self": null,
            "border": null,
            "bottom": null,
            "display": null,
            "flex": null,
            "flex_flow": null,
            "grid_area": null,
            "grid_auto_columns": null,
            "grid_auto_flow": null,
            "grid_auto_rows": null,
            "grid_column": null,
            "grid_gap": null,
            "grid_row": null,
            "grid_template_areas": null,
            "grid_template_columns": null,
            "grid_template_rows": null,
            "height": null,
            "justify_content": null,
            "justify_items": null,
            "left": null,
            "margin": null,
            "max_height": null,
            "max_width": null,
            "min_height": null,
            "min_width": null,
            "object_fit": null,
            "object_position": null,
            "order": null,
            "overflow": null,
            "overflow_x": null,
            "overflow_y": null,
            "padding": null,
            "right": null,
            "top": null,
            "visibility": null,
            "width": null
          }
        },
        "3c2f0e6a855648ad9e67d0e13fec06ee": {
          "model_module": "@jupyter-widgets/base",
          "model_name": "LayoutModel",
          "model_module_version": "1.2.0",
          "state": {
            "_model_module": "@jupyter-widgets/base",
            "_model_module_version": "1.2.0",
            "_model_name": "LayoutModel",
            "_view_count": null,
            "_view_module": "@jupyter-widgets/base",
            "_view_module_version": "1.2.0",
            "_view_name": "LayoutView",
            "align_content": null,
            "align_items": null,
            "align_self": null,
            "border": null,
            "bottom": null,
            "display": null,
            "flex": null,
            "flex_flow": null,
            "grid_area": null,
            "grid_auto_columns": null,
            "grid_auto_flow": null,
            "grid_auto_rows": null,
            "grid_column": null,
            "grid_gap": null,
            "grid_row": null,
            "grid_template_areas": null,
            "grid_template_columns": null,
            "grid_template_rows": null,
            "height": null,
            "justify_content": null,
            "justify_items": null,
            "left": null,
            "margin": null,
            "max_height": null,
            "max_width": null,
            "min_height": null,
            "min_width": null,
            "object_fit": null,
            "object_position": null,
            "order": null,
            "overflow": null,
            "overflow_x": null,
            "overflow_y": null,
            "padding": null,
            "right": null,
            "top": null,
            "visibility": null,
            "width": null
          }
        },
        "bc7f7ef293544ca88feb9919736974c0": {
          "model_module": "@jupyter-widgets/controls",
          "model_name": "DescriptionStyleModel",
          "model_module_version": "1.5.0",
          "state": {
            "_model_module": "@jupyter-widgets/controls",
            "_model_module_version": "1.5.0",
            "_model_name": "DescriptionStyleModel",
            "_view_count": null,
            "_view_module": "@jupyter-widgets/base",
            "_view_module_version": "1.2.0",
            "_view_name": "StyleView",
            "description_width": ""
          }
        },
        "462fc326f62b4417b9edf4214c2f41fb": {
          "model_module": "@jupyter-widgets/base",
          "model_name": "LayoutModel",
          "model_module_version": "1.2.0",
          "state": {
            "_model_module": "@jupyter-widgets/base",
            "_model_module_version": "1.2.0",
            "_model_name": "LayoutModel",
            "_view_count": null,
            "_view_module": "@jupyter-widgets/base",
            "_view_module_version": "1.2.0",
            "_view_name": "LayoutView",
            "align_content": null,
            "align_items": null,
            "align_self": null,
            "border": null,
            "bottom": null,
            "display": null,
            "flex": null,
            "flex_flow": null,
            "grid_area": null,
            "grid_auto_columns": null,
            "grid_auto_flow": null,
            "grid_auto_rows": null,
            "grid_column": null,
            "grid_gap": null,
            "grid_row": null,
            "grid_template_areas": null,
            "grid_template_columns": null,
            "grid_template_rows": null,
            "height": null,
            "justify_content": null,
            "justify_items": null,
            "left": null,
            "margin": null,
            "max_height": null,
            "max_width": null,
            "min_height": null,
            "min_width": null,
            "object_fit": null,
            "object_position": null,
            "order": null,
            "overflow": null,
            "overflow_x": null,
            "overflow_y": null,
            "padding": null,
            "right": null,
            "top": null,
            "visibility": null,
            "width": "20px"
          }
        },
        "81aa2c4f9d9a412bad5eb59ed1a49908": {
          "model_module": "@jupyter-widgets/controls",
          "model_name": "ProgressStyleModel",
          "model_module_version": "1.5.0",
          "state": {
            "_model_module": "@jupyter-widgets/controls",
            "_model_module_version": "1.5.0",
            "_model_name": "ProgressStyleModel",
            "_view_count": null,
            "_view_module": "@jupyter-widgets/base",
            "_view_module_version": "1.2.0",
            "_view_name": "StyleView",
            "bar_color": null,
            "description_width": ""
          }
        },
        "4e9fdd53233c4b8080c2e6c129482f6e": {
          "model_module": "@jupyter-widgets/base",
          "model_name": "LayoutModel",
          "model_module_version": "1.2.0",
          "state": {
            "_model_module": "@jupyter-widgets/base",
            "_model_module_version": "1.2.0",
            "_model_name": "LayoutModel",
            "_view_count": null,
            "_view_module": "@jupyter-widgets/base",
            "_view_module_version": "1.2.0",
            "_view_name": "LayoutView",
            "align_content": null,
            "align_items": null,
            "align_self": null,
            "border": null,
            "bottom": null,
            "display": null,
            "flex": null,
            "flex_flow": null,
            "grid_area": null,
            "grid_auto_columns": null,
            "grid_auto_flow": null,
            "grid_auto_rows": null,
            "grid_column": null,
            "grid_gap": null,
            "grid_row": null,
            "grid_template_areas": null,
            "grid_template_columns": null,
            "grid_template_rows": null,
            "height": null,
            "justify_content": null,
            "justify_items": null,
            "left": null,
            "margin": null,
            "max_height": null,
            "max_width": null,
            "min_height": null,
            "min_width": null,
            "object_fit": null,
            "object_position": null,
            "order": null,
            "overflow": null,
            "overflow_x": null,
            "overflow_y": null,
            "padding": null,
            "right": null,
            "top": null,
            "visibility": null,
            "width": null
          }
        },
        "4695732a6ee6497aa74c196886e46f0f": {
          "model_module": "@jupyter-widgets/controls",
          "model_name": "DescriptionStyleModel",
          "model_module_version": "1.5.0",
          "state": {
            "_model_module": "@jupyter-widgets/controls",
            "_model_module_version": "1.5.0",
            "_model_name": "DescriptionStyleModel",
            "_view_count": null,
            "_view_module": "@jupyter-widgets/base",
            "_view_module_version": "1.2.0",
            "_view_name": "StyleView",
            "description_width": ""
          }
        },
        "65d2888671914be1a5bfa23c343abd54": {
          "model_module": "@jupyter-widgets/controls",
          "model_name": "HBoxModel",
          "model_module_version": "1.5.0",
          "state": {
            "_dom_classes": [],
            "_model_module": "@jupyter-widgets/controls",
            "_model_module_version": "1.5.0",
            "_model_name": "HBoxModel",
            "_view_count": null,
            "_view_module": "@jupyter-widgets/controls",
            "_view_module_version": "1.5.0",
            "_view_name": "HBoxView",
            "box_style": "",
            "children": [
              "IPY_MODEL_74ede3e203be4c20b5afde2b45390667",
              "IPY_MODEL_75a4e5f2780b4495b2a36d5dbd4e1e92",
              "IPY_MODEL_b478b6ff50ca446c93f5b1ee3942e48f"
            ],
            "layout": "IPY_MODEL_c73a080a412b45cf93b8460c48de69c1"
          }
        },
        "74ede3e203be4c20b5afde2b45390667": {
          "model_module": "@jupyter-widgets/controls",
          "model_name": "HTMLModel",
          "model_module_version": "1.5.0",
          "state": {
            "_dom_classes": [],
            "_model_module": "@jupyter-widgets/controls",
            "_model_module_version": "1.5.0",
            "_model_name": "HTMLModel",
            "_view_count": null,
            "_view_module": "@jupyter-widgets/controls",
            "_view_module_version": "1.5.0",
            "_view_name": "HTMLView",
            "description": "",
            "description_tooltip": null,
            "layout": "IPY_MODEL_8c87f2bca3c24b71a8e44207ff055984",
            "placeholder": "​",
            "style": "IPY_MODEL_518d59de98314af5b48fc654662597d4",
            "value": "Generating splits...: 100%"
          }
        },
        "75a4e5f2780b4495b2a36d5dbd4e1e92": {
          "model_module": "@jupyter-widgets/controls",
          "model_name": "FloatProgressModel",
          "model_module_version": "1.5.0",
          "state": {
            "_dom_classes": [],
            "_model_module": "@jupyter-widgets/controls",
            "_model_module_version": "1.5.0",
            "_model_name": "FloatProgressModel",
            "_view_count": null,
            "_view_module": "@jupyter-widgets/controls",
            "_view_module_version": "1.5.0",
            "_view_name": "ProgressView",
            "bar_style": "",
            "description": "",
            "description_tooltip": null,
            "layout": "IPY_MODEL_e2e9d51b36c047b4ad2e32f751beed2c",
            "max": 2,
            "min": 0,
            "orientation": "horizontal",
            "style": "IPY_MODEL_1e9989e7835f4846b80ef740bdf12cb0",
            "value": 2
          }
        },
        "b478b6ff50ca446c93f5b1ee3942e48f": {
          "model_module": "@jupyter-widgets/controls",
          "model_name": "HTMLModel",
          "model_module_version": "1.5.0",
          "state": {
            "_dom_classes": [],
            "_model_module": "@jupyter-widgets/controls",
            "_model_module_version": "1.5.0",
            "_model_name": "HTMLModel",
            "_view_count": null,
            "_view_module": "@jupyter-widgets/controls",
            "_view_module_version": "1.5.0",
            "_view_name": "HTMLView",
            "description": "",
            "description_tooltip": null,
            "layout": "IPY_MODEL_e7b08cf07f4c422e91f05ed2e8d34ec9",
            "placeholder": "​",
            "style": "IPY_MODEL_0aaaac0533df4a26a94ed7fe62b46507",
            "value": " 2/2 [00:09&lt;00:00,  4.53s/ splits]"
          }
        },
        "c73a080a412b45cf93b8460c48de69c1": {
          "model_module": "@jupyter-widgets/base",
          "model_name": "LayoutModel",
          "model_module_version": "1.2.0",
          "state": {
            "_model_module": "@jupyter-widgets/base",
            "_model_module_version": "1.2.0",
            "_model_name": "LayoutModel",
            "_view_count": null,
            "_view_module": "@jupyter-widgets/base",
            "_view_module_version": "1.2.0",
            "_view_name": "LayoutView",
            "align_content": null,
            "align_items": null,
            "align_self": null,
            "border": null,
            "bottom": null,
            "display": null,
            "flex": null,
            "flex_flow": null,
            "grid_area": null,
            "grid_auto_columns": null,
            "grid_auto_flow": null,
            "grid_auto_rows": null,
            "grid_column": null,
            "grid_gap": null,
            "grid_row": null,
            "grid_template_areas": null,
            "grid_template_columns": null,
            "grid_template_rows": null,
            "height": null,
            "justify_content": null,
            "justify_items": null,
            "left": null,
            "margin": null,
            "max_height": null,
            "max_width": null,
            "min_height": null,
            "min_width": null,
            "object_fit": null,
            "object_position": null,
            "order": null,
            "overflow": null,
            "overflow_x": null,
            "overflow_y": null,
            "padding": null,
            "right": null,
            "top": null,
            "visibility": "hidden",
            "width": null
          }
        },
        "8c87f2bca3c24b71a8e44207ff055984": {
          "model_module": "@jupyter-widgets/base",
          "model_name": "LayoutModel",
          "model_module_version": "1.2.0",
          "state": {
            "_model_module": "@jupyter-widgets/base",
            "_model_module_version": "1.2.0",
            "_model_name": "LayoutModel",
            "_view_count": null,
            "_view_module": "@jupyter-widgets/base",
            "_view_module_version": "1.2.0",
            "_view_name": "LayoutView",
            "align_content": null,
            "align_items": null,
            "align_self": null,
            "border": null,
            "bottom": null,
            "display": null,
            "flex": null,
            "flex_flow": null,
            "grid_area": null,
            "grid_auto_columns": null,
            "grid_auto_flow": null,
            "grid_auto_rows": null,
            "grid_column": null,
            "grid_gap": null,
            "grid_row": null,
            "grid_template_areas": null,
            "grid_template_columns": null,
            "grid_template_rows": null,
            "height": null,
            "justify_content": null,
            "justify_items": null,
            "left": null,
            "margin": null,
            "max_height": null,
            "max_width": null,
            "min_height": null,
            "min_width": null,
            "object_fit": null,
            "object_position": null,
            "order": null,
            "overflow": null,
            "overflow_x": null,
            "overflow_y": null,
            "padding": null,
            "right": null,
            "top": null,
            "visibility": null,
            "width": null
          }
        },
        "518d59de98314af5b48fc654662597d4": {
          "model_module": "@jupyter-widgets/controls",
          "model_name": "DescriptionStyleModel",
          "model_module_version": "1.5.0",
          "state": {
            "_model_module": "@jupyter-widgets/controls",
            "_model_module_version": "1.5.0",
            "_model_name": "DescriptionStyleModel",
            "_view_count": null,
            "_view_module": "@jupyter-widgets/base",
            "_view_module_version": "1.2.0",
            "_view_name": "StyleView",
            "description_width": ""
          }
        },
        "e2e9d51b36c047b4ad2e32f751beed2c": {
          "model_module": "@jupyter-widgets/base",
          "model_name": "LayoutModel",
          "model_module_version": "1.2.0",
          "state": {
            "_model_module": "@jupyter-widgets/base",
            "_model_module_version": "1.2.0",
            "_model_name": "LayoutModel",
            "_view_count": null,
            "_view_module": "@jupyter-widgets/base",
            "_view_module_version": "1.2.0",
            "_view_name": "LayoutView",
            "align_content": null,
            "align_items": null,
            "align_self": null,
            "border": null,
            "bottom": null,
            "display": null,
            "flex": null,
            "flex_flow": null,
            "grid_area": null,
            "grid_auto_columns": null,
            "grid_auto_flow": null,
            "grid_auto_rows": null,
            "grid_column": null,
            "grid_gap": null,
            "grid_row": null,
            "grid_template_areas": null,
            "grid_template_columns": null,
            "grid_template_rows": null,
            "height": null,
            "justify_content": null,
            "justify_items": null,
            "left": null,
            "margin": null,
            "max_height": null,
            "max_width": null,
            "min_height": null,
            "min_width": null,
            "object_fit": null,
            "object_position": null,
            "order": null,
            "overflow": null,
            "overflow_x": null,
            "overflow_y": null,
            "padding": null,
            "right": null,
            "top": null,
            "visibility": null,
            "width": null
          }
        },
        "1e9989e7835f4846b80ef740bdf12cb0": {
          "model_module": "@jupyter-widgets/controls",
          "model_name": "ProgressStyleModel",
          "model_module_version": "1.5.0",
          "state": {
            "_model_module": "@jupyter-widgets/controls",
            "_model_module_version": "1.5.0",
            "_model_name": "ProgressStyleModel",
            "_view_count": null,
            "_view_module": "@jupyter-widgets/base",
            "_view_module_version": "1.2.0",
            "_view_name": "StyleView",
            "bar_color": null,
            "description_width": ""
          }
        },
        "e7b08cf07f4c422e91f05ed2e8d34ec9": {
          "model_module": "@jupyter-widgets/base",
          "model_name": "LayoutModel",
          "model_module_version": "1.2.0",
          "state": {
            "_model_module": "@jupyter-widgets/base",
            "_model_module_version": "1.2.0",
            "_model_name": "LayoutModel",
            "_view_count": null,
            "_view_module": "@jupyter-widgets/base",
            "_view_module_version": "1.2.0",
            "_view_name": "LayoutView",
            "align_content": null,
            "align_items": null,
            "align_self": null,
            "border": null,
            "bottom": null,
            "display": null,
            "flex": null,
            "flex_flow": null,
            "grid_area": null,
            "grid_auto_columns": null,
            "grid_auto_flow": null,
            "grid_auto_rows": null,
            "grid_column": null,
            "grid_gap": null,
            "grid_row": null,
            "grid_template_areas": null,
            "grid_template_columns": null,
            "grid_template_rows": null,
            "height": null,
            "justify_content": null,
            "justify_items": null,
            "left": null,
            "margin": null,
            "max_height": null,
            "max_width": null,
            "min_height": null,
            "min_width": null,
            "object_fit": null,
            "object_position": null,
            "order": null,
            "overflow": null,
            "overflow_x": null,
            "overflow_y": null,
            "padding": null,
            "right": null,
            "top": null,
            "visibility": null,
            "width": null
          }
        },
        "0aaaac0533df4a26a94ed7fe62b46507": {
          "model_module": "@jupyter-widgets/controls",
          "model_name": "DescriptionStyleModel",
          "model_module_version": "1.5.0",
          "state": {
            "_model_module": "@jupyter-widgets/controls",
            "_model_module_version": "1.5.0",
            "_model_name": "DescriptionStyleModel",
            "_view_count": null,
            "_view_module": "@jupyter-widgets/base",
            "_view_module_version": "1.2.0",
            "_view_name": "StyleView",
            "description_width": ""
          }
        },
        "71ba54d225484d4abe10a22ecd4fcbc9": {
          "model_module": "@jupyter-widgets/controls",
          "model_name": "HBoxModel",
          "model_module_version": "1.5.0",
          "state": {
            "_dom_classes": [],
            "_model_module": "@jupyter-widgets/controls",
            "_model_module_version": "1.5.0",
            "_model_name": "HBoxModel",
            "_view_count": null,
            "_view_module": "@jupyter-widgets/controls",
            "_view_module_version": "1.5.0",
            "_view_name": "HBoxView",
            "box_style": "",
            "children": [
              "IPY_MODEL_ab0f7b3d5fc34394b2c0c0ab729b3f4b",
              "IPY_MODEL_b669a1f8127949ae8ca8db271f6474c6",
              "IPY_MODEL_a4f975677b324fb1a6e3d37fb0dee78b"
            ],
            "layout": "IPY_MODEL_b471cf5da56e41b993133ef92f8dc753"
          }
        },
        "ab0f7b3d5fc34394b2c0c0ab729b3f4b": {
          "model_module": "@jupyter-widgets/controls",
          "model_name": "HTMLModel",
          "model_module_version": "1.5.0",
          "state": {
            "_dom_classes": [],
            "_model_module": "@jupyter-widgets/controls",
            "_model_module_version": "1.5.0",
            "_model_name": "HTMLModel",
            "_view_count": null,
            "_view_module": "@jupyter-widgets/controls",
            "_view_module_version": "1.5.0",
            "_view_name": "HTMLView",
            "description": "",
            "description_tooltip": null,
            "layout": "IPY_MODEL_7defb30b0d8141f2a0715736203be325",
            "placeholder": "​",
            "style": "IPY_MODEL_638a80343f024c9292926752c778f9c1",
            "value": "Generating train examples...:  94%"
          }
        },
        "b669a1f8127949ae8ca8db271f6474c6": {
          "model_module": "@jupyter-widgets/controls",
          "model_name": "FloatProgressModel",
          "model_module_version": "1.5.0",
          "state": {
            "_dom_classes": [],
            "_model_module": "@jupyter-widgets/controls",
            "_model_module_version": "1.5.0",
            "_model_name": "FloatProgressModel",
            "_view_count": null,
            "_view_module": "@jupyter-widgets/controls",
            "_view_module_version": "1.5.0",
            "_view_name": "ProgressView",
            "bar_style": "",
            "description": "",
            "description_tooltip": null,
            "layout": "IPY_MODEL_01be5f4e8d254969b1dba55c0608254b",
            "max": 3680,
            "min": 0,
            "orientation": "horizontal",
            "style": "IPY_MODEL_90a9f2b6c6f6457799653481f4287964",
            "value": 3680
          }
        },
        "a4f975677b324fb1a6e3d37fb0dee78b": {
          "model_module": "@jupyter-widgets/controls",
          "model_name": "HTMLModel",
          "model_module_version": "1.5.0",
          "state": {
            "_dom_classes": [],
            "_model_module": "@jupyter-widgets/controls",
            "_model_module_version": "1.5.0",
            "_model_name": "HTMLModel",
            "_view_count": null,
            "_view_module": "@jupyter-widgets/controls",
            "_view_module_version": "1.5.0",
            "_view_name": "HTMLView",
            "description": "",
            "description_tooltip": null,
            "layout": "IPY_MODEL_a91ef9a3ba4f4db483ed467bdadbda56",
            "placeholder": "​",
            "style": "IPY_MODEL_25197d22c4794aad9b5aa8386e88e077",
            "value": " 3477/3680 [00:03&lt;00:00, 1145.11 examples/s]"
          }
        },
        "b471cf5da56e41b993133ef92f8dc753": {
          "model_module": "@jupyter-widgets/base",
          "model_name": "LayoutModel",
          "model_module_version": "1.2.0",
          "state": {
            "_model_module": "@jupyter-widgets/base",
            "_model_module_version": "1.2.0",
            "_model_name": "LayoutModel",
            "_view_count": null,
            "_view_module": "@jupyter-widgets/base",
            "_view_module_version": "1.2.0",
            "_view_name": "LayoutView",
            "align_content": null,
            "align_items": null,
            "align_self": null,
            "border": null,
            "bottom": null,
            "display": null,
            "flex": null,
            "flex_flow": null,
            "grid_area": null,
            "grid_auto_columns": null,
            "grid_auto_flow": null,
            "grid_auto_rows": null,
            "grid_column": null,
            "grid_gap": null,
            "grid_row": null,
            "grid_template_areas": null,
            "grid_template_columns": null,
            "grid_template_rows": null,
            "height": null,
            "justify_content": null,
            "justify_items": null,
            "left": null,
            "margin": null,
            "max_height": null,
            "max_width": null,
            "min_height": null,
            "min_width": null,
            "object_fit": null,
            "object_position": null,
            "order": null,
            "overflow": null,
            "overflow_x": null,
            "overflow_y": null,
            "padding": null,
            "right": null,
            "top": null,
            "visibility": "hidden",
            "width": null
          }
        },
        "7defb30b0d8141f2a0715736203be325": {
          "model_module": "@jupyter-widgets/base",
          "model_name": "LayoutModel",
          "model_module_version": "1.2.0",
          "state": {
            "_model_module": "@jupyter-widgets/base",
            "_model_module_version": "1.2.0",
            "_model_name": "LayoutModel",
            "_view_count": null,
            "_view_module": "@jupyter-widgets/base",
            "_view_module_version": "1.2.0",
            "_view_name": "LayoutView",
            "align_content": null,
            "align_items": null,
            "align_self": null,
            "border": null,
            "bottom": null,
            "display": null,
            "flex": null,
            "flex_flow": null,
            "grid_area": null,
            "grid_auto_columns": null,
            "grid_auto_flow": null,
            "grid_auto_rows": null,
            "grid_column": null,
            "grid_gap": null,
            "grid_row": null,
            "grid_template_areas": null,
            "grid_template_columns": null,
            "grid_template_rows": null,
            "height": null,
            "justify_content": null,
            "justify_items": null,
            "left": null,
            "margin": null,
            "max_height": null,
            "max_width": null,
            "min_height": null,
            "min_width": null,
            "object_fit": null,
            "object_position": null,
            "order": null,
            "overflow": null,
            "overflow_x": null,
            "overflow_y": null,
            "padding": null,
            "right": null,
            "top": null,
            "visibility": null,
            "width": null
          }
        },
        "638a80343f024c9292926752c778f9c1": {
          "model_module": "@jupyter-widgets/controls",
          "model_name": "DescriptionStyleModel",
          "model_module_version": "1.5.0",
          "state": {
            "_model_module": "@jupyter-widgets/controls",
            "_model_module_version": "1.5.0",
            "_model_name": "DescriptionStyleModel",
            "_view_count": null,
            "_view_module": "@jupyter-widgets/base",
            "_view_module_version": "1.2.0",
            "_view_name": "StyleView",
            "description_width": ""
          }
        },
        "01be5f4e8d254969b1dba55c0608254b": {
          "model_module": "@jupyter-widgets/base",
          "model_name": "LayoutModel",
          "model_module_version": "1.2.0",
          "state": {
            "_model_module": "@jupyter-widgets/base",
            "_model_module_version": "1.2.0",
            "_model_name": "LayoutModel",
            "_view_count": null,
            "_view_module": "@jupyter-widgets/base",
            "_view_module_version": "1.2.0",
            "_view_name": "LayoutView",
            "align_content": null,
            "align_items": null,
            "align_self": null,
            "border": null,
            "bottom": null,
            "display": null,
            "flex": null,
            "flex_flow": null,
            "grid_area": null,
            "grid_auto_columns": null,
            "grid_auto_flow": null,
            "grid_auto_rows": null,
            "grid_column": null,
            "grid_gap": null,
            "grid_row": null,
            "grid_template_areas": null,
            "grid_template_columns": null,
            "grid_template_rows": null,
            "height": null,
            "justify_content": null,
            "justify_items": null,
            "left": null,
            "margin": null,
            "max_height": null,
            "max_width": null,
            "min_height": null,
            "min_width": null,
            "object_fit": null,
            "object_position": null,
            "order": null,
            "overflow": null,
            "overflow_x": null,
            "overflow_y": null,
            "padding": null,
            "right": null,
            "top": null,
            "visibility": null,
            "width": null
          }
        },
        "90a9f2b6c6f6457799653481f4287964": {
          "model_module": "@jupyter-widgets/controls",
          "model_name": "ProgressStyleModel",
          "model_module_version": "1.5.0",
          "state": {
            "_model_module": "@jupyter-widgets/controls",
            "_model_module_version": "1.5.0",
            "_model_name": "ProgressStyleModel",
            "_view_count": null,
            "_view_module": "@jupyter-widgets/base",
            "_view_module_version": "1.2.0",
            "_view_name": "StyleView",
            "bar_color": null,
            "description_width": ""
          }
        },
        "a91ef9a3ba4f4db483ed467bdadbda56": {
          "model_module": "@jupyter-widgets/base",
          "model_name": "LayoutModel",
          "model_module_version": "1.2.0",
          "state": {
            "_model_module": "@jupyter-widgets/base",
            "_model_module_version": "1.2.0",
            "_model_name": "LayoutModel",
            "_view_count": null,
            "_view_module": "@jupyter-widgets/base",
            "_view_module_version": "1.2.0",
            "_view_name": "LayoutView",
            "align_content": null,
            "align_items": null,
            "align_self": null,
            "border": null,
            "bottom": null,
            "display": null,
            "flex": null,
            "flex_flow": null,
            "grid_area": null,
            "grid_auto_columns": null,
            "grid_auto_flow": null,
            "grid_auto_rows": null,
            "grid_column": null,
            "grid_gap": null,
            "grid_row": null,
            "grid_template_areas": null,
            "grid_template_columns": null,
            "grid_template_rows": null,
            "height": null,
            "justify_content": null,
            "justify_items": null,
            "left": null,
            "margin": null,
            "max_height": null,
            "max_width": null,
            "min_height": null,
            "min_width": null,
            "object_fit": null,
            "object_position": null,
            "order": null,
            "overflow": null,
            "overflow_x": null,
            "overflow_y": null,
            "padding": null,
            "right": null,
            "top": null,
            "visibility": null,
            "width": null
          }
        },
        "25197d22c4794aad9b5aa8386e88e077": {
          "model_module": "@jupyter-widgets/controls",
          "model_name": "DescriptionStyleModel",
          "model_module_version": "1.5.0",
          "state": {
            "_model_module": "@jupyter-widgets/controls",
            "_model_module_version": "1.5.0",
            "_model_name": "DescriptionStyleModel",
            "_view_count": null,
            "_view_module": "@jupyter-widgets/base",
            "_view_module_version": "1.2.0",
            "_view_name": "StyleView",
            "description_width": ""
          }
        },
        "7a509f1f68964599a48a02be534b06b1": {
          "model_module": "@jupyter-widgets/controls",
          "model_name": "HBoxModel",
          "model_module_version": "1.5.0",
          "state": {
            "_dom_classes": [],
            "_model_module": "@jupyter-widgets/controls",
            "_model_module_version": "1.5.0",
            "_model_name": "HBoxModel",
            "_view_count": null,
            "_view_module": "@jupyter-widgets/controls",
            "_view_module_version": "1.5.0",
            "_view_name": "HBoxView",
            "box_style": "",
            "children": [
              "IPY_MODEL_8eee9dd574ae4d5892688a29f6a6028a",
              "IPY_MODEL_afc2ff3266df4641ad7664ea49443532",
              "IPY_MODEL_f76532190538460eb7241ce251b53950"
            ],
            "layout": "IPY_MODEL_17f3d9e1ed6d4d7c834ae0421f18a88c"
          }
        },
        "8eee9dd574ae4d5892688a29f6a6028a": {
          "model_module": "@jupyter-widgets/controls",
          "model_name": "HTMLModel",
          "model_module_version": "1.5.0",
          "state": {
            "_dom_classes": [],
            "_model_module": "@jupyter-widgets/controls",
            "_model_module_version": "1.5.0",
            "_model_name": "HTMLModel",
            "_view_count": null,
            "_view_module": "@jupyter-widgets/controls",
            "_view_module_version": "1.5.0",
            "_view_name": "HTMLView",
            "description": "",
            "description_tooltip": null,
            "layout": "IPY_MODEL_113b6c40ac344e659602250563158626",
            "placeholder": "​",
            "style": "IPY_MODEL_cfe6b43b61b84a58b5b683a8ab0b28f7",
            "value": "Shuffling /root/tensorflow_datasets/oxford_iiit_pet/3.2.0.incompleteUNKZ86/oxford_iiit_pet-train.tfrecord*...:  96%"
          }
        },
        "afc2ff3266df4641ad7664ea49443532": {
          "model_module": "@jupyter-widgets/controls",
          "model_name": "FloatProgressModel",
          "model_module_version": "1.5.0",
          "state": {
            "_dom_classes": [],
            "_model_module": "@jupyter-widgets/controls",
            "_model_module_version": "1.5.0",
            "_model_name": "FloatProgressModel",
            "_view_count": null,
            "_view_module": "@jupyter-widgets/controls",
            "_view_module_version": "1.5.0",
            "_view_name": "ProgressView",
            "bar_style": "",
            "description": "",
            "description_tooltip": null,
            "layout": "IPY_MODEL_bb9f245a1422433da72238edbe18a4cb",
            "max": 3680,
            "min": 0,
            "orientation": "horizontal",
            "style": "IPY_MODEL_09dc185cec96421fb018cb85bcbb642d",
            "value": 3680
          }
        },
        "f76532190538460eb7241ce251b53950": {
          "model_module": "@jupyter-widgets/controls",
          "model_name": "HTMLModel",
          "model_module_version": "1.5.0",
          "state": {
            "_dom_classes": [],
            "_model_module": "@jupyter-widgets/controls",
            "_model_module_version": "1.5.0",
            "_model_name": "HTMLModel",
            "_view_count": null,
            "_view_module": "@jupyter-widgets/controls",
            "_view_module_version": "1.5.0",
            "_view_name": "HTMLView",
            "description": "",
            "description_tooltip": null,
            "layout": "IPY_MODEL_2290586987bc4c6a8326b70f54444ed5",
            "placeholder": "​",
            "style": "IPY_MODEL_b683d30cdcde47e9bad3e8a7c8937ca4",
            "value": " 3536/3680 [00:01&lt;00:00, 2338.35 examples/s]"
          }
        },
        "17f3d9e1ed6d4d7c834ae0421f18a88c": {
          "model_module": "@jupyter-widgets/base",
          "model_name": "LayoutModel",
          "model_module_version": "1.2.0",
          "state": {
            "_model_module": "@jupyter-widgets/base",
            "_model_module_version": "1.2.0",
            "_model_name": "LayoutModel",
            "_view_count": null,
            "_view_module": "@jupyter-widgets/base",
            "_view_module_version": "1.2.0",
            "_view_name": "LayoutView",
            "align_content": null,
            "align_items": null,
            "align_self": null,
            "border": null,
            "bottom": null,
            "display": null,
            "flex": null,
            "flex_flow": null,
            "grid_area": null,
            "grid_auto_columns": null,
            "grid_auto_flow": null,
            "grid_auto_rows": null,
            "grid_column": null,
            "grid_gap": null,
            "grid_row": null,
            "grid_template_areas": null,
            "grid_template_columns": null,
            "grid_template_rows": null,
            "height": null,
            "justify_content": null,
            "justify_items": null,
            "left": null,
            "margin": null,
            "max_height": null,
            "max_width": null,
            "min_height": null,
            "min_width": null,
            "object_fit": null,
            "object_position": null,
            "order": null,
            "overflow": null,
            "overflow_x": null,
            "overflow_y": null,
            "padding": null,
            "right": null,
            "top": null,
            "visibility": "hidden",
            "width": null
          }
        },
        "113b6c40ac344e659602250563158626": {
          "model_module": "@jupyter-widgets/base",
          "model_name": "LayoutModel",
          "model_module_version": "1.2.0",
          "state": {
            "_model_module": "@jupyter-widgets/base",
            "_model_module_version": "1.2.0",
            "_model_name": "LayoutModel",
            "_view_count": null,
            "_view_module": "@jupyter-widgets/base",
            "_view_module_version": "1.2.0",
            "_view_name": "LayoutView",
            "align_content": null,
            "align_items": null,
            "align_self": null,
            "border": null,
            "bottom": null,
            "display": null,
            "flex": null,
            "flex_flow": null,
            "grid_area": null,
            "grid_auto_columns": null,
            "grid_auto_flow": null,
            "grid_auto_rows": null,
            "grid_column": null,
            "grid_gap": null,
            "grid_row": null,
            "grid_template_areas": null,
            "grid_template_columns": null,
            "grid_template_rows": null,
            "height": null,
            "justify_content": null,
            "justify_items": null,
            "left": null,
            "margin": null,
            "max_height": null,
            "max_width": null,
            "min_height": null,
            "min_width": null,
            "object_fit": null,
            "object_position": null,
            "order": null,
            "overflow": null,
            "overflow_x": null,
            "overflow_y": null,
            "padding": null,
            "right": null,
            "top": null,
            "visibility": null,
            "width": null
          }
        },
        "cfe6b43b61b84a58b5b683a8ab0b28f7": {
          "model_module": "@jupyter-widgets/controls",
          "model_name": "DescriptionStyleModel",
          "model_module_version": "1.5.0",
          "state": {
            "_model_module": "@jupyter-widgets/controls",
            "_model_module_version": "1.5.0",
            "_model_name": "DescriptionStyleModel",
            "_view_count": null,
            "_view_module": "@jupyter-widgets/base",
            "_view_module_version": "1.2.0",
            "_view_name": "StyleView",
            "description_width": ""
          }
        },
        "bb9f245a1422433da72238edbe18a4cb": {
          "model_module": "@jupyter-widgets/base",
          "model_name": "LayoutModel",
          "model_module_version": "1.2.0",
          "state": {
            "_model_module": "@jupyter-widgets/base",
            "_model_module_version": "1.2.0",
            "_model_name": "LayoutModel",
            "_view_count": null,
            "_view_module": "@jupyter-widgets/base",
            "_view_module_version": "1.2.0",
            "_view_name": "LayoutView",
            "align_content": null,
            "align_items": null,
            "align_self": null,
            "border": null,
            "bottom": null,
            "display": null,
            "flex": null,
            "flex_flow": null,
            "grid_area": null,
            "grid_auto_columns": null,
            "grid_auto_flow": null,
            "grid_auto_rows": null,
            "grid_column": null,
            "grid_gap": null,
            "grid_row": null,
            "grid_template_areas": null,
            "grid_template_columns": null,
            "grid_template_rows": null,
            "height": null,
            "justify_content": null,
            "justify_items": null,
            "left": null,
            "margin": null,
            "max_height": null,
            "max_width": null,
            "min_height": null,
            "min_width": null,
            "object_fit": null,
            "object_position": null,
            "order": null,
            "overflow": null,
            "overflow_x": null,
            "overflow_y": null,
            "padding": null,
            "right": null,
            "top": null,
            "visibility": null,
            "width": null
          }
        },
        "09dc185cec96421fb018cb85bcbb642d": {
          "model_module": "@jupyter-widgets/controls",
          "model_name": "ProgressStyleModel",
          "model_module_version": "1.5.0",
          "state": {
            "_model_module": "@jupyter-widgets/controls",
            "_model_module_version": "1.5.0",
            "_model_name": "ProgressStyleModel",
            "_view_count": null,
            "_view_module": "@jupyter-widgets/base",
            "_view_module_version": "1.2.0",
            "_view_name": "StyleView",
            "bar_color": null,
            "description_width": ""
          }
        },
        "2290586987bc4c6a8326b70f54444ed5": {
          "model_module": "@jupyter-widgets/base",
          "model_name": "LayoutModel",
          "model_module_version": "1.2.0",
          "state": {
            "_model_module": "@jupyter-widgets/base",
            "_model_module_version": "1.2.0",
            "_model_name": "LayoutModel",
            "_view_count": null,
            "_view_module": "@jupyter-widgets/base",
            "_view_module_version": "1.2.0",
            "_view_name": "LayoutView",
            "align_content": null,
            "align_items": null,
            "align_self": null,
            "border": null,
            "bottom": null,
            "display": null,
            "flex": null,
            "flex_flow": null,
            "grid_area": null,
            "grid_auto_columns": null,
            "grid_auto_flow": null,
            "grid_auto_rows": null,
            "grid_column": null,
            "grid_gap": null,
            "grid_row": null,
            "grid_template_areas": null,
            "grid_template_columns": null,
            "grid_template_rows": null,
            "height": null,
            "justify_content": null,
            "justify_items": null,
            "left": null,
            "margin": null,
            "max_height": null,
            "max_width": null,
            "min_height": null,
            "min_width": null,
            "object_fit": null,
            "object_position": null,
            "order": null,
            "overflow": null,
            "overflow_x": null,
            "overflow_y": null,
            "padding": null,
            "right": null,
            "top": null,
            "visibility": null,
            "width": null
          }
        },
        "b683d30cdcde47e9bad3e8a7c8937ca4": {
          "model_module": "@jupyter-widgets/controls",
          "model_name": "DescriptionStyleModel",
          "model_module_version": "1.5.0",
          "state": {
            "_model_module": "@jupyter-widgets/controls",
            "_model_module_version": "1.5.0",
            "_model_name": "DescriptionStyleModel",
            "_view_count": null,
            "_view_module": "@jupyter-widgets/base",
            "_view_module_version": "1.2.0",
            "_view_name": "StyleView",
            "description_width": ""
          }
        },
        "915a0c92a07441d992cc739fb95c5ada": {
          "model_module": "@jupyter-widgets/controls",
          "model_name": "HBoxModel",
          "model_module_version": "1.5.0",
          "state": {
            "_dom_classes": [],
            "_model_module": "@jupyter-widgets/controls",
            "_model_module_version": "1.5.0",
            "_model_name": "HBoxModel",
            "_view_count": null,
            "_view_module": "@jupyter-widgets/controls",
            "_view_module_version": "1.5.0",
            "_view_name": "HBoxView",
            "box_style": "",
            "children": [
              "IPY_MODEL_368b711664f74cae8546901ec4bbaf3a",
              "IPY_MODEL_620a41a5ad654c74a895508690ccb2de",
              "IPY_MODEL_4757e45b9e2f45a5b9b28a6767cb0a6c"
            ],
            "layout": "IPY_MODEL_0e75c1b0f75341f3ae9ed6f78fd0d60b"
          }
        },
        "368b711664f74cae8546901ec4bbaf3a": {
          "model_module": "@jupyter-widgets/controls",
          "model_name": "HTMLModel",
          "model_module_version": "1.5.0",
          "state": {
            "_dom_classes": [],
            "_model_module": "@jupyter-widgets/controls",
            "_model_module_version": "1.5.0",
            "_model_name": "HTMLModel",
            "_view_count": null,
            "_view_module": "@jupyter-widgets/controls",
            "_view_module_version": "1.5.0",
            "_view_name": "HTMLView",
            "description": "",
            "description_tooltip": null,
            "layout": "IPY_MODEL_94c9841a0a104021b92fd851914a00da",
            "placeholder": "​",
            "style": "IPY_MODEL_a33a80050be54a2aa44c7d89f1b0b0f1",
            "value": "Generating test examples...:  73%"
          }
        },
        "620a41a5ad654c74a895508690ccb2de": {
          "model_module": "@jupyter-widgets/controls",
          "model_name": "FloatProgressModel",
          "model_module_version": "1.5.0",
          "state": {
            "_dom_classes": [],
            "_model_module": "@jupyter-widgets/controls",
            "_model_module_version": "1.5.0",
            "_model_name": "FloatProgressModel",
            "_view_count": null,
            "_view_module": "@jupyter-widgets/controls",
            "_view_module_version": "1.5.0",
            "_view_name": "ProgressView",
            "bar_style": "",
            "description": "",
            "description_tooltip": null,
            "layout": "IPY_MODEL_4a3dff9085bc47d4829abdbb7d8103e5",
            "max": 3669,
            "min": 0,
            "orientation": "horizontal",
            "style": "IPY_MODEL_bda9f3c963fb4d64afc594ff7aee8cdd",
            "value": 3669
          }
        },
        "4757e45b9e2f45a5b9b28a6767cb0a6c": {
          "model_module": "@jupyter-widgets/controls",
          "model_name": "HTMLModel",
          "model_module_version": "1.5.0",
          "state": {
            "_dom_classes": [],
            "_model_module": "@jupyter-widgets/controls",
            "_model_module_version": "1.5.0",
            "_model_name": "HTMLModel",
            "_view_count": null,
            "_view_module": "@jupyter-widgets/controls",
            "_view_module_version": "1.5.0",
            "_view_name": "HTMLView",
            "description": "",
            "description_tooltip": null,
            "layout": "IPY_MODEL_9e8e5cc484fc4b769308bc6f9dfd85f2",
            "placeholder": "​",
            "style": "IPY_MODEL_b86aa21cfb394397acf399020f089d97",
            "value": " 2678/3669 [00:02&lt;00:00, 1345.22 examples/s]"
          }
        },
        "0e75c1b0f75341f3ae9ed6f78fd0d60b": {
          "model_module": "@jupyter-widgets/base",
          "model_name": "LayoutModel",
          "model_module_version": "1.2.0",
          "state": {
            "_model_module": "@jupyter-widgets/base",
            "_model_module_version": "1.2.0",
            "_model_name": "LayoutModel",
            "_view_count": null,
            "_view_module": "@jupyter-widgets/base",
            "_view_module_version": "1.2.0",
            "_view_name": "LayoutView",
            "align_content": null,
            "align_items": null,
            "align_self": null,
            "border": null,
            "bottom": null,
            "display": null,
            "flex": null,
            "flex_flow": null,
            "grid_area": null,
            "grid_auto_columns": null,
            "grid_auto_flow": null,
            "grid_auto_rows": null,
            "grid_column": null,
            "grid_gap": null,
            "grid_row": null,
            "grid_template_areas": null,
            "grid_template_columns": null,
            "grid_template_rows": null,
            "height": null,
            "justify_content": null,
            "justify_items": null,
            "left": null,
            "margin": null,
            "max_height": null,
            "max_width": null,
            "min_height": null,
            "min_width": null,
            "object_fit": null,
            "object_position": null,
            "order": null,
            "overflow": null,
            "overflow_x": null,
            "overflow_y": null,
            "padding": null,
            "right": null,
            "top": null,
            "visibility": "hidden",
            "width": null
          }
        },
        "94c9841a0a104021b92fd851914a00da": {
          "model_module": "@jupyter-widgets/base",
          "model_name": "LayoutModel",
          "model_module_version": "1.2.0",
          "state": {
            "_model_module": "@jupyter-widgets/base",
            "_model_module_version": "1.2.0",
            "_model_name": "LayoutModel",
            "_view_count": null,
            "_view_module": "@jupyter-widgets/base",
            "_view_module_version": "1.2.0",
            "_view_name": "LayoutView",
            "align_content": null,
            "align_items": null,
            "align_self": null,
            "border": null,
            "bottom": null,
            "display": null,
            "flex": null,
            "flex_flow": null,
            "grid_area": null,
            "grid_auto_columns": null,
            "grid_auto_flow": null,
            "grid_auto_rows": null,
            "grid_column": null,
            "grid_gap": null,
            "grid_row": null,
            "grid_template_areas": null,
            "grid_template_columns": null,
            "grid_template_rows": null,
            "height": null,
            "justify_content": null,
            "justify_items": null,
            "left": null,
            "margin": null,
            "max_height": null,
            "max_width": null,
            "min_height": null,
            "min_width": null,
            "object_fit": null,
            "object_position": null,
            "order": null,
            "overflow": null,
            "overflow_x": null,
            "overflow_y": null,
            "padding": null,
            "right": null,
            "top": null,
            "visibility": null,
            "width": null
          }
        },
        "a33a80050be54a2aa44c7d89f1b0b0f1": {
          "model_module": "@jupyter-widgets/controls",
          "model_name": "DescriptionStyleModel",
          "model_module_version": "1.5.0",
          "state": {
            "_model_module": "@jupyter-widgets/controls",
            "_model_module_version": "1.5.0",
            "_model_name": "DescriptionStyleModel",
            "_view_count": null,
            "_view_module": "@jupyter-widgets/base",
            "_view_module_version": "1.2.0",
            "_view_name": "StyleView",
            "description_width": ""
          }
        },
        "4a3dff9085bc47d4829abdbb7d8103e5": {
          "model_module": "@jupyter-widgets/base",
          "model_name": "LayoutModel",
          "model_module_version": "1.2.0",
          "state": {
            "_model_module": "@jupyter-widgets/base",
            "_model_module_version": "1.2.0",
            "_model_name": "LayoutModel",
            "_view_count": null,
            "_view_module": "@jupyter-widgets/base",
            "_view_module_version": "1.2.0",
            "_view_name": "LayoutView",
            "align_content": null,
            "align_items": null,
            "align_self": null,
            "border": null,
            "bottom": null,
            "display": null,
            "flex": null,
            "flex_flow": null,
            "grid_area": null,
            "grid_auto_columns": null,
            "grid_auto_flow": null,
            "grid_auto_rows": null,
            "grid_column": null,
            "grid_gap": null,
            "grid_row": null,
            "grid_template_areas": null,
            "grid_template_columns": null,
            "grid_template_rows": null,
            "height": null,
            "justify_content": null,
            "justify_items": null,
            "left": null,
            "margin": null,
            "max_height": null,
            "max_width": null,
            "min_height": null,
            "min_width": null,
            "object_fit": null,
            "object_position": null,
            "order": null,
            "overflow": null,
            "overflow_x": null,
            "overflow_y": null,
            "padding": null,
            "right": null,
            "top": null,
            "visibility": null,
            "width": null
          }
        },
        "bda9f3c963fb4d64afc594ff7aee8cdd": {
          "model_module": "@jupyter-widgets/controls",
          "model_name": "ProgressStyleModel",
          "model_module_version": "1.5.0",
          "state": {
            "_model_module": "@jupyter-widgets/controls",
            "_model_module_version": "1.5.0",
            "_model_name": "ProgressStyleModel",
            "_view_count": null,
            "_view_module": "@jupyter-widgets/base",
            "_view_module_version": "1.2.0",
            "_view_name": "StyleView",
            "bar_color": null,
            "description_width": ""
          }
        },
        "9e8e5cc484fc4b769308bc6f9dfd85f2": {
          "model_module": "@jupyter-widgets/base",
          "model_name": "LayoutModel",
          "model_module_version": "1.2.0",
          "state": {
            "_model_module": "@jupyter-widgets/base",
            "_model_module_version": "1.2.0",
            "_model_name": "LayoutModel",
            "_view_count": null,
            "_view_module": "@jupyter-widgets/base",
            "_view_module_version": "1.2.0",
            "_view_name": "LayoutView",
            "align_content": null,
            "align_items": null,
            "align_self": null,
            "border": null,
            "bottom": null,
            "display": null,
            "flex": null,
            "flex_flow": null,
            "grid_area": null,
            "grid_auto_columns": null,
            "grid_auto_flow": null,
            "grid_auto_rows": null,
            "grid_column": null,
            "grid_gap": null,
            "grid_row": null,
            "grid_template_areas": null,
            "grid_template_columns": null,
            "grid_template_rows": null,
            "height": null,
            "justify_content": null,
            "justify_items": null,
            "left": null,
            "margin": null,
            "max_height": null,
            "max_width": null,
            "min_height": null,
            "min_width": null,
            "object_fit": null,
            "object_position": null,
            "order": null,
            "overflow": null,
            "overflow_x": null,
            "overflow_y": null,
            "padding": null,
            "right": null,
            "top": null,
            "visibility": null,
            "width": null
          }
        },
        "b86aa21cfb394397acf399020f089d97": {
          "model_module": "@jupyter-widgets/controls",
          "model_name": "DescriptionStyleModel",
          "model_module_version": "1.5.0",
          "state": {
            "_model_module": "@jupyter-widgets/controls",
            "_model_module_version": "1.5.0",
            "_model_name": "DescriptionStyleModel",
            "_view_count": null,
            "_view_module": "@jupyter-widgets/base",
            "_view_module_version": "1.2.0",
            "_view_name": "StyleView",
            "description_width": ""
          }
        },
        "6f627f7f4d5640248b864d51734ff194": {
          "model_module": "@jupyter-widgets/controls",
          "model_name": "HBoxModel",
          "model_module_version": "1.5.0",
          "state": {
            "_dom_classes": [],
            "_model_module": "@jupyter-widgets/controls",
            "_model_module_version": "1.5.0",
            "_model_name": "HBoxModel",
            "_view_count": null,
            "_view_module": "@jupyter-widgets/controls",
            "_view_module_version": "1.5.0",
            "_view_name": "HBoxView",
            "box_style": "",
            "children": [
              "IPY_MODEL_0d5491f587574df2af9e8584e0a68192",
              "IPY_MODEL_325040097998421aae5143cbf58f1709",
              "IPY_MODEL_2c05a1517b134fc49c3b50cb88fd3ce3"
            ],
            "layout": "IPY_MODEL_c6a8ca48f936458290693fc40bcb68ad"
          }
        },
        "0d5491f587574df2af9e8584e0a68192": {
          "model_module": "@jupyter-widgets/controls",
          "model_name": "HTMLModel",
          "model_module_version": "1.5.0",
          "state": {
            "_dom_classes": [],
            "_model_module": "@jupyter-widgets/controls",
            "_model_module_version": "1.5.0",
            "_model_name": "HTMLModel",
            "_view_count": null,
            "_view_module": "@jupyter-widgets/controls",
            "_view_module_version": "1.5.0",
            "_view_name": "HTMLView",
            "description": "",
            "description_tooltip": null,
            "layout": "IPY_MODEL_d1f4c2c4f622401a8346f5ba025e70d0",
            "placeholder": "​",
            "style": "IPY_MODEL_31e5dc41f2254191b10b962eecf5adee",
            "value": "Shuffling /root/tensorflow_datasets/oxford_iiit_pet/3.2.0.incompleteUNKZ86/oxford_iiit_pet-test.tfrecord*...:  99%"
          }
        },
        "325040097998421aae5143cbf58f1709": {
          "model_module": "@jupyter-widgets/controls",
          "model_name": "FloatProgressModel",
          "model_module_version": "1.5.0",
          "state": {
            "_dom_classes": [],
            "_model_module": "@jupyter-widgets/controls",
            "_model_module_version": "1.5.0",
            "_model_name": "FloatProgressModel",
            "_view_count": null,
            "_view_module": "@jupyter-widgets/controls",
            "_view_module_version": "1.5.0",
            "_view_name": "ProgressView",
            "bar_style": "",
            "description": "",
            "description_tooltip": null,
            "layout": "IPY_MODEL_cbb0bb491a2c4d92ab152a6c0870ba09",
            "max": 3669,
            "min": 0,
            "orientation": "horizontal",
            "style": "IPY_MODEL_d6322b8f2da242cda0be2132c1cbc36a",
            "value": 3669
          }
        },
        "2c05a1517b134fc49c3b50cb88fd3ce3": {
          "model_module": "@jupyter-widgets/controls",
          "model_name": "HTMLModel",
          "model_module_version": "1.5.0",
          "state": {
            "_dom_classes": [],
            "_model_module": "@jupyter-widgets/controls",
            "_model_module_version": "1.5.0",
            "_model_name": "HTMLModel",
            "_view_count": null,
            "_view_module": "@jupyter-widgets/controls",
            "_view_module_version": "1.5.0",
            "_view_name": "HTMLView",
            "description": "",
            "description_tooltip": null,
            "layout": "IPY_MODEL_794bac05c41d476083c6e0df4bf71cd9",
            "placeholder": "​",
            "style": "IPY_MODEL_18fbd0a36ca646969d63931b56935bd1",
            "value": " 3638/3669 [00:01&lt;00:00, 2214.65 examples/s]"
          }
        },
        "c6a8ca48f936458290693fc40bcb68ad": {
          "model_module": "@jupyter-widgets/base",
          "model_name": "LayoutModel",
          "model_module_version": "1.2.0",
          "state": {
            "_model_module": "@jupyter-widgets/base",
            "_model_module_version": "1.2.0",
            "_model_name": "LayoutModel",
            "_view_count": null,
            "_view_module": "@jupyter-widgets/base",
            "_view_module_version": "1.2.0",
            "_view_name": "LayoutView",
            "align_content": null,
            "align_items": null,
            "align_self": null,
            "border": null,
            "bottom": null,
            "display": null,
            "flex": null,
            "flex_flow": null,
            "grid_area": null,
            "grid_auto_columns": null,
            "grid_auto_flow": null,
            "grid_auto_rows": null,
            "grid_column": null,
            "grid_gap": null,
            "grid_row": null,
            "grid_template_areas": null,
            "grid_template_columns": null,
            "grid_template_rows": null,
            "height": null,
            "justify_content": null,
            "justify_items": null,
            "left": null,
            "margin": null,
            "max_height": null,
            "max_width": null,
            "min_height": null,
            "min_width": null,
            "object_fit": null,
            "object_position": null,
            "order": null,
            "overflow": null,
            "overflow_x": null,
            "overflow_y": null,
            "padding": null,
            "right": null,
            "top": null,
            "visibility": "hidden",
            "width": null
          }
        },
        "d1f4c2c4f622401a8346f5ba025e70d0": {
          "model_module": "@jupyter-widgets/base",
          "model_name": "LayoutModel",
          "model_module_version": "1.2.0",
          "state": {
            "_model_module": "@jupyter-widgets/base",
            "_model_module_version": "1.2.0",
            "_model_name": "LayoutModel",
            "_view_count": null,
            "_view_module": "@jupyter-widgets/base",
            "_view_module_version": "1.2.0",
            "_view_name": "LayoutView",
            "align_content": null,
            "align_items": null,
            "align_self": null,
            "border": null,
            "bottom": null,
            "display": null,
            "flex": null,
            "flex_flow": null,
            "grid_area": null,
            "grid_auto_columns": null,
            "grid_auto_flow": null,
            "grid_auto_rows": null,
            "grid_column": null,
            "grid_gap": null,
            "grid_row": null,
            "grid_template_areas": null,
            "grid_template_columns": null,
            "grid_template_rows": null,
            "height": null,
            "justify_content": null,
            "justify_items": null,
            "left": null,
            "margin": null,
            "max_height": null,
            "max_width": null,
            "min_height": null,
            "min_width": null,
            "object_fit": null,
            "object_position": null,
            "order": null,
            "overflow": null,
            "overflow_x": null,
            "overflow_y": null,
            "padding": null,
            "right": null,
            "top": null,
            "visibility": null,
            "width": null
          }
        },
        "31e5dc41f2254191b10b962eecf5adee": {
          "model_module": "@jupyter-widgets/controls",
          "model_name": "DescriptionStyleModel",
          "model_module_version": "1.5.0",
          "state": {
            "_model_module": "@jupyter-widgets/controls",
            "_model_module_version": "1.5.0",
            "_model_name": "DescriptionStyleModel",
            "_view_count": null,
            "_view_module": "@jupyter-widgets/base",
            "_view_module_version": "1.2.0",
            "_view_name": "StyleView",
            "description_width": ""
          }
        },
        "cbb0bb491a2c4d92ab152a6c0870ba09": {
          "model_module": "@jupyter-widgets/base",
          "model_name": "LayoutModel",
          "model_module_version": "1.2.0",
          "state": {
            "_model_module": "@jupyter-widgets/base",
            "_model_module_version": "1.2.0",
            "_model_name": "LayoutModel",
            "_view_count": null,
            "_view_module": "@jupyter-widgets/base",
            "_view_module_version": "1.2.0",
            "_view_name": "LayoutView",
            "align_content": null,
            "align_items": null,
            "align_self": null,
            "border": null,
            "bottom": null,
            "display": null,
            "flex": null,
            "flex_flow": null,
            "grid_area": null,
            "grid_auto_columns": null,
            "grid_auto_flow": null,
            "grid_auto_rows": null,
            "grid_column": null,
            "grid_gap": null,
            "grid_row": null,
            "grid_template_areas": null,
            "grid_template_columns": null,
            "grid_template_rows": null,
            "height": null,
            "justify_content": null,
            "justify_items": null,
            "left": null,
            "margin": null,
            "max_height": null,
            "max_width": null,
            "min_height": null,
            "min_width": null,
            "object_fit": null,
            "object_position": null,
            "order": null,
            "overflow": null,
            "overflow_x": null,
            "overflow_y": null,
            "padding": null,
            "right": null,
            "top": null,
            "visibility": null,
            "width": null
          }
        },
        "d6322b8f2da242cda0be2132c1cbc36a": {
          "model_module": "@jupyter-widgets/controls",
          "model_name": "ProgressStyleModel",
          "model_module_version": "1.5.0",
          "state": {
            "_model_module": "@jupyter-widgets/controls",
            "_model_module_version": "1.5.0",
            "_model_name": "ProgressStyleModel",
            "_view_count": null,
            "_view_module": "@jupyter-widgets/base",
            "_view_module_version": "1.2.0",
            "_view_name": "StyleView",
            "bar_color": null,
            "description_width": ""
          }
        },
        "794bac05c41d476083c6e0df4bf71cd9": {
          "model_module": "@jupyter-widgets/base",
          "model_name": "LayoutModel",
          "model_module_version": "1.2.0",
          "state": {
            "_model_module": "@jupyter-widgets/base",
            "_model_module_version": "1.2.0",
            "_model_name": "LayoutModel",
            "_view_count": null,
            "_view_module": "@jupyter-widgets/base",
            "_view_module_version": "1.2.0",
            "_view_name": "LayoutView",
            "align_content": null,
            "align_items": null,
            "align_self": null,
            "border": null,
            "bottom": null,
            "display": null,
            "flex": null,
            "flex_flow": null,
            "grid_area": null,
            "grid_auto_columns": null,
            "grid_auto_flow": null,
            "grid_auto_rows": null,
            "grid_column": null,
            "grid_gap": null,
            "grid_row": null,
            "grid_template_areas": null,
            "grid_template_columns": null,
            "grid_template_rows": null,
            "height": null,
            "justify_content": null,
            "justify_items": null,
            "left": null,
            "margin": null,
            "max_height": null,
            "max_width": null,
            "min_height": null,
            "min_width": null,
            "object_fit": null,
            "object_position": null,
            "order": null,
            "overflow": null,
            "overflow_x": null,
            "overflow_y": null,
            "padding": null,
            "right": null,
            "top": null,
            "visibility": null,
            "width": null
          }
        },
        "18fbd0a36ca646969d63931b56935bd1": {
          "model_module": "@jupyter-widgets/controls",
          "model_name": "DescriptionStyleModel",
          "model_module_version": "1.5.0",
          "state": {
            "_model_module": "@jupyter-widgets/controls",
            "_model_module_version": "1.5.0",
            "_model_name": "DescriptionStyleModel",
            "_view_count": null,
            "_view_module": "@jupyter-widgets/base",
            "_view_module_version": "1.2.0",
            "_view_name": "StyleView",
            "description_width": ""
          }
        }
      }
    }
  },
  "cells": [
    {
      "cell_type": "markdown",
      "metadata": {
        "id": "view-in-github",
        "colab_type": "text"
      },
      "source": [
        "<a href=\"https://colab.research.google.com/github/daa103/DAA_ESAA/blob/main/%ED%8C%8C%EC%9D%B4%EC%8D%AC_%EB%94%A5%EB%9F%AC%EB%8B%9D_%ED%85%90%EC%84%9C%ED%94%8C%EB%A1%9C_ch4_5_pg_229~240.ipynb\" target=\"_parent\"><img src=\"https://colab.research.google.com/assets/colab-badge.svg\" alt=\"Open In Colab\"/></a>"
      ]
    },
    {
      "cell_type": "markdown",
      "source": [
        "### 07 이미지분할\n",
        "\n",
        "- 이미지 분할 및 세그멘테이션은 이미지를 구성하는 모든 픽셀에 대해 픽셀단위로 분류하는 것.\n",
        "\n",
        "- - 의미분할\n",
        "- - 인스턴스 분할"
      ],
      "metadata": {
        "id": "jwT6CkwOG_S3"
      }
    },
    {
      "cell_type": "markdown",
      "source": [
        "7-1 데이터셋 준비\n",
        "\n",
        "- class1: 반려동물이 속한 픽셀\n",
        "- class2: 인접한 선 픽셀\n",
        "- class3: 위에 속하지 않는 모든 부분\n"
      ],
      "metadata": {
        "id": "7ZCjlQXgH7IO"
      }
    },
    {
      "cell_type": "code",
      "execution_count": 2,
      "metadata": {
        "id": "xjiRJt1w9CTf"
      },
      "outputs": [],
      "source": [
        "import numpy as np\n",
        "import tensorflow as tf\n",
        "import matplotlib.pylab as plt\n",
        "import cv2\n",
        "from tqdm.notebook import tqdm\n",
        "import tensorflow_datasets as tfds\n",
        "from google.colab.patches import cv2_imshow"
      ]
    },
    {
      "cell_type": "code",
      "source": [
        "#이미지크기\n",
        "img_w = 128\n",
        "img_h = 128\n",
        "img_c = 3\n",
        "img_shape = (img_w, img_h, img_c)\n",
        "\n",
        "# 모델 학습\n",
        "epoch_num = 5\n",
        "learning_rate = 0.0001\n",
        "buffer_size = 1000\n",
        "batch_size = 16"
      ],
      "metadata": {
        "id": "eDKDMsnvE5oY"
      },
      "execution_count": 3,
      "outputs": []
    },
    {
      "cell_type": "markdown",
      "source": [
        "메타정보를 info변수에 저장해준다."
      ],
      "metadata": {
        "id": "n3O0bVYfIIfZ"
      }
    },
    {
      "cell_type": "code",
      "source": [
        "# 텐서플로 데이터셋 로드\n",
        "ds_str = 'oxford_iiit_pet'\n",
        "ds, info = tfds.load(name=ds_str, with_info=True)"
      ],
      "metadata": {
        "colab": {
          "base_uri": "https://localhost:8080/",
          "height": 149,
          "referenced_widgets": [
            "f415523eb0a3476d9113747162e3fc1f",
            "c58b852fce6a486f90a5e1a669c820f9",
            "19b3cda48f224843ada1f2f6ce0ffd3c",
            "55060fea713144ba935002b1d0bf1479",
            "0cd5ad808f394919882a39c912a5f367",
            "dbdcc63535b54e6394484ea9d254df57",
            "ce1da421a1604415862f1ba9085529e9",
            "8ca32f31a10c4725af90475aab5830d4",
            "c946f9efedee4423addf42d82535e3a7",
            "938e46d0786847efa754ff43611d0629",
            "692ac64780c54036bd1fa1a832cf91a5",
            "dfe76e0117ef43799a3cdafc96b9b565",
            "ff0642d4d7e24670abd594aa5349d716",
            "84c088c1aba14a6f97523ef5c8c6342b",
            "6c968638b59941e38b1a680748f84a8d",
            "06ab64d72b6e472ebb76b675dd5a3473",
            "f12ae78a97c649a3b0ea10724e9045e9",
            "ea21aa6881a54a09898fb18fc6eeaad3",
            "931e647b42ac4cc4876b9fedbffcc2d1",
            "281e225c7f4c4b11bb0a9e2c92f72f35",
            "8d28f98bb64b43bc8a556cb852bdab96",
            "7f9390822bbb4047af3adb864ccfcebf",
            "88a997e0e6a94060a376f302f9b850ba",
            "9d30a1c62de94a22bb958eceadf58362",
            "a3c0896e7f444dd49cb23f0a6da757a7",
            "ee12704287d240478f4e62b87baeaa3b",
            "3a768c18f39d45d2aa47271a4b3fd9f6",
            "3c2f0e6a855648ad9e67d0e13fec06ee",
            "bc7f7ef293544ca88feb9919736974c0",
            "462fc326f62b4417b9edf4214c2f41fb",
            "81aa2c4f9d9a412bad5eb59ed1a49908",
            "4e9fdd53233c4b8080c2e6c129482f6e",
            "4695732a6ee6497aa74c196886e46f0f",
            "65d2888671914be1a5bfa23c343abd54",
            "74ede3e203be4c20b5afde2b45390667",
            "75a4e5f2780b4495b2a36d5dbd4e1e92",
            "b478b6ff50ca446c93f5b1ee3942e48f",
            "c73a080a412b45cf93b8460c48de69c1",
            "8c87f2bca3c24b71a8e44207ff055984",
            "518d59de98314af5b48fc654662597d4",
            "e2e9d51b36c047b4ad2e32f751beed2c",
            "1e9989e7835f4846b80ef740bdf12cb0",
            "e7b08cf07f4c422e91f05ed2e8d34ec9",
            "0aaaac0533df4a26a94ed7fe62b46507",
            "71ba54d225484d4abe10a22ecd4fcbc9",
            "ab0f7b3d5fc34394b2c0c0ab729b3f4b",
            "b669a1f8127949ae8ca8db271f6474c6",
            "a4f975677b324fb1a6e3d37fb0dee78b",
            "b471cf5da56e41b993133ef92f8dc753",
            "7defb30b0d8141f2a0715736203be325",
            "638a80343f024c9292926752c778f9c1",
            "01be5f4e8d254969b1dba55c0608254b",
            "90a9f2b6c6f6457799653481f4287964",
            "a91ef9a3ba4f4db483ed467bdadbda56",
            "25197d22c4794aad9b5aa8386e88e077",
            "7a509f1f68964599a48a02be534b06b1",
            "8eee9dd574ae4d5892688a29f6a6028a",
            "afc2ff3266df4641ad7664ea49443532",
            "f76532190538460eb7241ce251b53950",
            "17f3d9e1ed6d4d7c834ae0421f18a88c",
            "113b6c40ac344e659602250563158626",
            "cfe6b43b61b84a58b5b683a8ab0b28f7",
            "bb9f245a1422433da72238edbe18a4cb",
            "09dc185cec96421fb018cb85bcbb642d",
            "2290586987bc4c6a8326b70f54444ed5",
            "b683d30cdcde47e9bad3e8a7c8937ca4",
            "915a0c92a07441d992cc739fb95c5ada",
            "368b711664f74cae8546901ec4bbaf3a",
            "620a41a5ad654c74a895508690ccb2de",
            "4757e45b9e2f45a5b9b28a6767cb0a6c",
            "0e75c1b0f75341f3ae9ed6f78fd0d60b",
            "94c9841a0a104021b92fd851914a00da",
            "a33a80050be54a2aa44c7d89f1b0b0f1",
            "4a3dff9085bc47d4829abdbb7d8103e5",
            "bda9f3c963fb4d64afc594ff7aee8cdd",
            "9e8e5cc484fc4b769308bc6f9dfd85f2",
            "b86aa21cfb394397acf399020f089d97",
            "6f627f7f4d5640248b864d51734ff194",
            "0d5491f587574df2af9e8584e0a68192",
            "325040097998421aae5143cbf58f1709",
            "2c05a1517b134fc49c3b50cb88fd3ce3",
            "c6a8ca48f936458290693fc40bcb68ad",
            "d1f4c2c4f622401a8346f5ba025e70d0",
            "31e5dc41f2254191b10b962eecf5adee",
            "cbb0bb491a2c4d92ab152a6c0870ba09",
            "d6322b8f2da242cda0be2132c1cbc36a",
            "794bac05c41d476083c6e0df4bf71cd9",
            "18fbd0a36ca646969d63931b56935bd1"
          ]
        },
        "id": "84UdGZuuE-EF",
        "outputId": "a8900306-d6b6-4e6e-8cc4-fd943c4066f8"
      },
      "execution_count": 4,
      "outputs": [
        {
          "output_type": "stream",
          "name": "stdout",
          "text": [
            "Downloading and preparing dataset 773.52 MiB (download: 773.52 MiB, generated: 774.69 MiB, total: 1.51 GiB) to /root/tensorflow_datasets/oxford_iiit_pet/3.2.0...\n"
          ]
        },
        {
          "output_type": "display_data",
          "data": {
            "text/plain": [
              "Dl Completed...: 0 url [00:00, ? url/s]"
            ],
            "application/vnd.jupyter.widget-view+json": {
              "version_major": 2,
              "version_minor": 0,
              "model_id": "f415523eb0a3476d9113747162e3fc1f"
            }
          },
          "metadata": {}
        },
        {
          "output_type": "display_data",
          "data": {
            "text/plain": [
              "Dl Size...: 0 MiB [00:00, ? MiB/s]"
            ],
            "application/vnd.jupyter.widget-view+json": {
              "version_major": 2,
              "version_minor": 0,
              "model_id": "dfe76e0117ef43799a3cdafc96b9b565"
            }
          },
          "metadata": {}
        },
        {
          "output_type": "display_data",
          "data": {
            "text/plain": [
              "Extraction completed...: 0 file [00:00, ? file/s]"
            ],
            "application/vnd.jupyter.widget-view+json": {
              "version_major": 2,
              "version_minor": 0,
              "model_id": "88a997e0e6a94060a376f302f9b850ba"
            }
          },
          "metadata": {}
        },
        {
          "output_type": "display_data",
          "data": {
            "text/plain": [
              "Generating splits...:   0%|          | 0/2 [00:00<?, ? splits/s]"
            ],
            "application/vnd.jupyter.widget-view+json": {
              "version_major": 2,
              "version_minor": 0,
              "model_id": "65d2888671914be1a5bfa23c343abd54"
            }
          },
          "metadata": {}
        },
        {
          "output_type": "display_data",
          "data": {
            "text/plain": [
              "Generating train examples...:   0%|          | 0/3680 [00:00<?, ? examples/s]"
            ],
            "application/vnd.jupyter.widget-view+json": {
              "version_major": 2,
              "version_minor": 0,
              "model_id": "71ba54d225484d4abe10a22ecd4fcbc9"
            }
          },
          "metadata": {}
        },
        {
          "output_type": "display_data",
          "data": {
            "text/plain": [
              "Shuffling /root/tensorflow_datasets/oxford_iiit_pet/3.2.0.incompleteUNKZ86/oxford_iiit_pet-train.tfrecord*...:…"
            ],
            "application/vnd.jupyter.widget-view+json": {
              "version_major": 2,
              "version_minor": 0,
              "model_id": "7a509f1f68964599a48a02be534b06b1"
            }
          },
          "metadata": {}
        },
        {
          "output_type": "display_data",
          "data": {
            "text/plain": [
              "Generating test examples...:   0%|          | 0/3669 [00:00<?, ? examples/s]"
            ],
            "application/vnd.jupyter.widget-view+json": {
              "version_major": 2,
              "version_minor": 0,
              "model_id": "915a0c92a07441d992cc739fb95c5ada"
            }
          },
          "metadata": {}
        },
        {
          "output_type": "display_data",
          "data": {
            "text/plain": [
              "Shuffling /root/tensorflow_datasets/oxford_iiit_pet/3.2.0.incompleteUNKZ86/oxford_iiit_pet-test.tfrecord*...: …"
            ],
            "application/vnd.jupyter.widget-view+json": {
              "version_major": 2,
              "version_minor": 0,
              "model_id": "6f627f7f4d5640248b864d51734ff194"
            }
          },
          "metadata": {}
        },
        {
          "output_type": "stream",
          "name": "stdout",
          "text": [
            "Dataset oxford_iiit_pet downloaded and prepared to /root/tensorflow_datasets/oxford_iiit_pet/3.2.0. Subsequent calls will reuse this data.\n"
          ]
        }
      ]
    },
    {
      "cell_type": "code",
      "source": [
        "# 이미지 전처리 함수\n",
        "def preprocess_image(ds):\n",
        "  # 원본 이미지\n",
        "  img = tf.image.resize(ds['image'],(img_w, img_h))\n",
        "  img = tf.cast(img, tf.float32) / 255.0\n",
        "  # 분할 마스크\n",
        "  mask = tf.image.resize(ds['segmentation_mask'],(img_w, img_h))\n",
        "  mask = tf.cast(mask, tf.int32)\n",
        "  mask = mask - 1\n",
        "  return img, mask"
      ],
      "metadata": {
        "id": "fnvvUdEmFBAN"
      },
      "execution_count": 5,
      "outputs": []
    },
    {
      "cell_type": "code",
      "source": [
        "# 데이터 전처리 파이프라인\n",
        "train_ds = ds['train'].map(preprocess_image).shuffle(buffer_size).batch(batch_size).prefetch(2)\n",
        "test_ds = ds['test'].map(preprocess_image).shuffle(buffer_size).batch(batch_size).prefetch(2)\n",
        "\n",
        "print(train_ds)"
      ],
      "metadata": {
        "colab": {
          "base_uri": "https://localhost:8080/"
        },
        "id": "8sOymAfNFCjp",
        "outputId": "0fca2a56-a520-4337-cf01-f32eed6fcfca"
      },
      "execution_count": 6,
      "outputs": [
        {
          "output_type": "stream",
          "name": "stdout",
          "text": [
            "<_PrefetchDataset element_spec=(TensorSpec(shape=(None, 128, 128, 3), dtype=tf.float32, name=None), TensorSpec(shape=(None, 128, 128, 1), dtype=tf.int32, name=None))>\n"
          ]
        }
      ]
    },
    {
      "cell_type": "code",
      "source": [
        "# 샘플 배치 선택\n",
        "img, mask = next(iter(train_ds))\n",
        "len(img)"
      ],
      "metadata": {
        "colab": {
          "base_uri": "https://localhost:8080/"
        },
        "id": "c_q64Ld4FEBj",
        "outputId": "6d308c54-06e6-43be-bf0e-0b591581fb87"
      },
      "execution_count": 7,
      "outputs": [
        {
          "output_type": "execute_result",
          "data": {
            "text/plain": [
              "16"
            ]
          },
          "metadata": {},
          "execution_count": 7
        }
      ]
    },
    {
      "cell_type": "code",
      "source": [
        "# 샘플 이미지 출력\n",
        "img = np.array(img[0]) * 255.0\n",
        "img = cv2.cvtColor(img, cv2.COLOR_RGB2BGR)\n",
        "cv2_imshow(img)"
      ],
      "metadata": {
        "colab": {
          "base_uri": "https://localhost:8080/",
          "height": 145
        },
        "id": "YNVUsMjjFFhr",
        "outputId": "636d45d9-8deb-431a-83df-a38cafe14eed"
      },
      "execution_count": 8,
      "outputs": [
        {
          "output_type": "display_data",
          "data": {
            "text/plain": [
              "<PIL.Image.Image image mode=RGB size=128x128>"
            ],
            "image/png": "[encoded data removed]"
          },
          "metadata": {}
        }
      ]
    },
    {
      "cell_type": "markdown",
      "source": [
        "마스크 이미지를 출력한다. 마스크 범위는 0~2이므로 2로 나눈뒤 255를 곱하면 RGB이미지로 표현할 수 있다."
      ],
      "metadata": {
        "id": "mB79JsX4IPtq"
      }
    },
    {
      "cell_type": "code",
      "source": [
        "# 샘플 마스크 출력\n",
        "mask = (np.array(mask[0])/2)*255.0\n",
        "cv2_imshow(mask)"
      ],
      "metadata": {
        "colab": {
          "base_uri": "https://localhost:8080/",
          "height": 145
        },
        "id": "j3C2nPSsFHUj",
        "outputId": "4b5dbfe4-267a-4856-f755-687384608ce0"
      },
      "execution_count": 9,
      "outputs": [
        {
          "output_type": "display_data",
          "data": {
            "text/plain": [
              "<PIL.Image.Image image mode=RGB size=128x128>"
            ],
            "image/png": "[encoded data removed]"
          },
          "metadata": {}
        }
      ]
    },
    {
      "cell_type": "markdown",
      "source": [
        "7-2 U-Net모델(인코더-디코더)\n",
        "\n",
        "![image.png](data:image/png;base64,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)"
      ],
      "metadata": {
        "id": "AexIO45AIXgA"
      }
    },
    {
      "cell_type": "markdown",
      "source": [
        "사전학습된 VGG16모델을 인코더로 활용하는 U-Net모델을 만들어본다."
      ],
      "metadata": {
        "id": "VKcULcJrIf-W"
      }
    },
    {
      "cell_type": "code",
      "source": [
        "# VGG16 모델\n",
        "base_model = tf.keras.applications.VGG16(input_shape=img_shape, include_top=False)"
      ],
      "metadata": {
        "colab": {
          "base_uri": "https://localhost:8080/"
        },
        "id": "Z4kr6_aOFI0s",
        "outputId": "b46d7f78-0c21-40df-a67b-3b9cea558089"
      },
      "execution_count": 10,
      "outputs": [
        {
          "output_type": "stream",
          "name": "stdout",
          "text": [
            "Downloading data from https://storage.googleapis.com/tensorflow/keras-applications/vgg16/vgg16_weights_tf_dim_ordering_tf_kernels_notop.h5\n",
            "58889256/58889256 [==============================] - 0s 0us/step\n"
          ]
        }
      ]
    },
    {
      "cell_type": "markdown",
      "source": [
        "축소된 모델을 U-Net인코더로 사용한다. 인코더는 원본 이미지 중에서 같은 범주에 속하는 픽셀을 결합하면서 점진적으로 이미지를 더 작은 크기로 축소한다."
      ],
      "metadata": {
        "id": "wma2OnT0IoCi"
      }
    },
    {
      "cell_type": "code",
      "source": [
        "# 모델 구조\n",
        "tf.keras.utils.plot_model(base_model, show_shapes=True)"
      ],
      "metadata": {
        "colab": {
          "base_uri": "https://localhost:8080/",
          "height": 1000
        },
        "id": "AAh4bu8iFMW2",
        "outputId": "fe9281a6-6e5a-46af-d157-4985429aac1a"
      },
      "execution_count": 11,
      "outputs": [
        {
          "output_type": "execute_result",
          "data": {
            "image/png": "[encoded data removed]",
            "text/plain": [
              "<IPython.core.display.Image object>"
            ]
          },
          "metadata": {},
          "execution_count": 11
        }
      ]
    },
    {
      "cell_type": "code",
      "source": [
        "# VGG16 중간 레이어 출력 텐서를 지정\n",
        "f_model = tf.keras.Model(inputs=[base_model.input],\n",
        "                         outputs=[\n",
        "                                  base_model.get_layer(name='block5_conv3').output,\n",
        "                                  base_model.get_layer(name='block4_conv3').output,\n",
        "                                  base_model.get_layer(name='block3_conv3').output,\n",
        "                                  base_model.get_layer(name='block2_conv2').output,\n",
        "                                  base_model.get_layer(name='block1_conv2').output,\n",
        "                         ])"
      ],
      "metadata": {
        "id": "rCdhV8QoFOFR"
      },
      "execution_count": 12,
      "outputs": []
    },
    {
      "cell_type": "code",
      "source": [
        "# 파라미터 고정\n",
        "f_model.trainable = False"
      ],
      "metadata": {
        "id": "9b9pmDT9FQFH"
      },
      "execution_count": 13,
      "outputs": []
    },
    {
      "cell_type": "code",
      "source": [
        "# U-Net 구조로 모델 정의\n",
        "\n",
        "i = tf.keras.Input(shape=img_shape)\n",
        "\n",
        "out_8_8_512, out_16_16_512, out_32_32_256, out_64_64_128, out_128_128_64 = f_model(i)\n",
        "\n",
        "out = tf.keras.layers.Conv2DTranspose(512, 3, strides=2, padding='same')(out_8_8_512)\n",
        "out = tf.keras.layers.Add()([out, out_16_16_512])\n",
        "\n",
        "out = tf.keras.layers.Conv2DTranspose(256, 3, strides=2, padding='same')(out)\n",
        "out = tf.keras.layers.Add()([out, out_32_32_256])\n",
        "\n",
        "out = tf.keras.layers.Conv2DTranspose(128, 3, strides=2, padding='same')(out)\n",
        "out = tf.keras.layers.Add()([out, out_64_64_128])\n",
        "\n",
        "out = tf.keras.layers.Conv2DTranspose(64, 3, strides=2, padding='same')(out)\n",
        "out = tf.keras.layers.Add()([out, out_128_128_64])\n",
        "\n",
        "out = tf.keras.layers.Conv2D(3, 3, activation='elu', padding='same')(out)\n",
        "out = tf.keras.layers.Dense(3, activation='softmax')(out)\n",
        "\n",
        "unet_model = tf.keras.Model(inputs=[i], outputs=[out])"
      ],
      "metadata": {
        "id": "IO2SB0HAFSlr"
      },
      "execution_count": 14,
      "outputs": []
    },
    {
      "cell_type": "code",
      "source": [
        "# 모델 구조 시각화\n",
        "tf.keras.utils.plot_model(unet_model, show_shapes=True)"
      ],
      "metadata": {
        "colab": {
          "base_uri": "https://localhost:8080/",
          "height": 1000
        },
        "id": "3ylSkf6FFUQe",
        "outputId": "83a63ac7-45c8-4a9d-b014-3b88ae13ab51"
      },
      "execution_count": 15,
      "outputs": [
        {
          "output_type": "execute_result",
          "data": {
            "image/png": "[encoded data removed]",
            "text/plain": [
              "<IPython.core.display.Image object>"
            ]
          },
          "metadata": {},
          "execution_count": 15
        }
      ]
    },
    {
      "cell_type": "code",
      "source": [
        "# 모델 요약\n",
        "unet_model.summary()"
      ],
      "metadata": {
        "colab": {
          "base_uri": "https://localhost:8080/"
        },
        "id": "bQ1fTIn8FWFo",
        "outputId": "1c058094-4121-4a9f-da5b-0208e51da4b1"
      },
      "execution_count": 16,
      "outputs": [
        {
          "output_type": "stream",
          "name": "stdout",
          "text": [
            "Model: \"model_1\"\n",
            "__________________________________________________________________________________________________\n",
            " Layer (type)                Output Shape                 Param #   Connected to                  \n",
            "==================================================================================================\n",
            " input_2 (InputLayer)        [(None, 128, 128, 3)]        0         []                            \n",
            "                                                                                                  \n",
            " model (Functional)          [(None, 8, 8, 512),          1471468   ['input_2[0][0]']             \n",
            "                              (None, 16, 16, 512),        8                                       \n",
            "                              (None, 32, 32, 256),                                                \n",
            "                              (None, 64, 64, 128),                                                \n",
            "                              (None, 128, 128, 64)]                                               \n",
            "                                                                                                  \n",
            " conv2d_transpose (Conv2DTr  (None, 16, 16, 512)          2359808   ['model[0][0]']               \n",
            " anspose)                                                                                         \n",
            "                                                                                                  \n",
            " add (Add)                   (None, 16, 16, 512)          0         ['conv2d_transpose[0][0]',    \n",
            "                                                                     'model[0][1]']               \n",
            "                                                                                                  \n",
            " conv2d_transpose_1 (Conv2D  (None, 32, 32, 256)          1179904   ['add[0][0]']                 \n",
            " Transpose)                                                                                       \n",
            "                                                                                                  \n",
            " add_1 (Add)                 (None, 32, 32, 256)          0         ['conv2d_transpose_1[0][0]',  \n",
            "                                                                     'model[0][2]']               \n",
            "                                                                                                  \n",
            " conv2d_transpose_2 (Conv2D  (None, 64, 64, 128)          295040    ['add_1[0][0]']               \n",
            " Transpose)                                                                                       \n",
            "                                                                                                  \n",
            " add_2 (Add)                 (None, 64, 64, 128)          0         ['conv2d_transpose_2[0][0]',  \n",
            "                                                                     'model[0][3]']               \n",
            "                                                                                                  \n",
            " conv2d_transpose_3 (Conv2D  (None, 128, 128, 64)         73792     ['add_2[0][0]']               \n",
            " Transpose)                                                                                       \n",
            "                                                                                                  \n",
            " add_3 (Add)                 (None, 128, 128, 64)         0         ['conv2d_transpose_3[0][0]',  \n",
            "                                                                     'model[0][4]']               \n",
            "                                                                                                  \n",
            " conv2d (Conv2D)             (None, 128, 128, 3)          1731      ['add_3[0][0]']               \n",
            "                                                                                                  \n",
            " dense (Dense)               (None, 128, 128, 3)          12        ['conv2d[0][0]']              \n",
            "                                                                                                  \n",
            "==================================================================================================\n",
            "Total params: 18624975 (71.05 MB)\n",
            "Trainable params: 3910287 (14.92 MB)\n",
            "Non-trainable params: 14714688 (56.13 MB)\n",
            "__________________________________________________________________________________________________\n"
          ]
        }
      ]
    },
    {
      "cell_type": "markdown",
      "source": [
        "예측클래스 개수가 3개인 다중분류 문제에 맞도록 SparseCategoricalCrosstropy 손실함수를 선정하고 Adam옵티마이저를 적용한다."
      ],
      "metadata": {
        "id": "Pj-38540I6dR"
      }
    },
    {
      "cell_type": "code",
      "source": [
        "# 모델 컴파일 및 훈련\n",
        "loss_f = tf.losses.SparseCategoricalCrossentropy()\n",
        "opt = tf.optimizers.Adam(learning_rate)\n",
        "\n",
        "unet_model.compile(optimizer=opt, loss=loss_f, metrics=['accuracy'])\n",
        "unet_model.fit(train_ds, batch_size=batch_size, epochs=epoch_num)"
      ],
      "metadata": {
        "colab": {
          "base_uri": "https://localhost:8080/"
        },
        "id": "1SaZF1D4FX_2",
        "outputId": "0ae0e2fd-4f47-4445-a924-51e814c1ada5"
      },
      "execution_count": 17,
      "outputs": [
        {
          "output_type": "stream",
          "name": "stdout",
          "text": [
            "Epoch 1/5\n",
            "230/230 [==============================] - 1283s 6s/step - loss: 0.9499 - accuracy: 0.5472\n",
            "Epoch 2/5\n",
            "230/230 [==============================] - 1264s 5s/step - loss: 0.5158 - accuracy: 0.7869\n",
            "Epoch 3/5\n",
            "230/230 [==============================] - 1254s 5s/step - loss: 0.4481 - accuracy: 0.8225\n",
            "Epoch 4/5\n",
            "230/230 [==============================] - 1237s 5s/step - loss: 0.4182 - accuracy: 0.8363\n",
            "Epoch 5/5\n",
            "230/230 [==============================] - 1227s 5s/step - loss: 0.4024 - accuracy: 0.8426\n"
          ]
        },
        {
          "output_type": "execute_result",
          "data": {
            "text/plain": [
              "<keras.src.callbacks.History at 0x7acea750f190>"
            ]
          },
          "metadata": {},
          "execution_count": 17
        }
      ]
    },
    {
      "cell_type": "code",
      "source": [
        "# 1개 배치(16개 이미지)를 선택\n",
        "img, mask = next(iter(test_ds))\n",
        "\n",
        "# 모델 예측\n",
        "pred = unet_model.predict(img)\n",
        "\n",
        "# 첫 번째 이미지 분할 결과를 출력\n",
        "pred_img = np.argmax(pred[0], -1)\n",
        "plt.imshow(pred_img)"
      ],
      "metadata": {
        "colab": {
          "base_uri": "https://localhost:8080/",
          "height": 470
        },
        "id": "I9mnz7pvFZgB",
        "outputId": "03411db2-3e22-41dd-d6aa-49d61db264fd"
      },
      "execution_count": 18,
      "outputs": [
        {
          "output_type": "stream",
          "name": "stdout",
          "text": [
            "1/1 [==============================] - 4s 4s/step\n"
          ]
        },
        {
          "output_type": "execute_result",
          "data": {
            "text/plain": [
              "<matplotlib.image.AxesImage at 0x7aceac348c40>"
            ]
          },
          "metadata": {},
          "execution_count": 18
        },
        {
          "output_type": "display_data",
          "data": {
            "text/plain": [
              "<Figure size 640x480 with 1 Axes>"
            ],
            "image/png": "[encoded data removed]"
          },
          "metadata": {}
        }
      ]
    },
    {
      "cell_type": "code",
      "source": [
        "# 첫 번쨰 이미지의 정답 마스크 출력\n",
        "plt.imshow(np.reshape(mask[0],(128,128)))"
      ],
      "metadata": {
        "colab": {
          "base_uri": "https://localhost:8080/",
          "height": 452
        },
        "id": "6mduYnhlFbtu",
        "outputId": "3b9b7871-eccc-4bc5-ef7b-aa89515089ce"
      },
      "execution_count": 19,
      "outputs": [
        {
          "output_type": "execute_result",
          "data": {
            "text/plain": [
              "<matplotlib.image.AxesImage at 0x7acea6760460>"
            ]
          },
          "metadata": {},
          "execution_count": 19
        },
        {
          "output_type": "display_data",
          "data": {
            "text/plain": [
              "<Figure size 640x480 with 1 Axes>"
            ],
            "image/png": "[encoded data removed]"
          },
          "metadata": {}
        }
      ]
    },
    {
      "cell_type": "markdown",
      "source": [
        "정답이미지를 출력하여 예측 분할이미지와 비교한다."
      ],
      "metadata": {
        "id": "IvdJZyNLJGdH"
      }
    }
  ]
}