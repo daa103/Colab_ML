{
  "nbformat": 4,
  "nbformat_minor": 0,
  "metadata": {
    "colab": {
      "provenance": [],
      "authorship_tag": "ABX9TyPzfWWg3ZDApA4+Jz14vcQC",
      "include_colab_link": true
    },
    "kernelspec": {
      "name": "python3",
      "display_name": "Python 3"
    },
    "language_info": {
      "name": "python"
    }
  },
  "cells": [
    {
      "cell_type": "markdown",
      "metadata": {
        "id": "view-in-github",
        "colab_type": "text"
      },
      "source": [
        "<a href=\"https://colab.research.google.com/github/daa103/DAA_ESAA/blob/main/%EB%91%90%EC%9E%87%ED%8C%90%EB%8B%A4%EC%8A%A4_241~242_256~263.ipynb\" target=\"_parent\"><img src=\"https://colab.research.google.com/assets/colab-badge.svg\" alt=\"Open In Colab\"/></a>"
      ]
    },
    {
      "cell_type": "markdown",
      "source": [
        "###**12-1 datetime 오브젝트**\n",
        "\n",
        "* datetime라이브러리는 날짜와 시간을 처리하는 다양한 기능을 제공\n",
        "* date 오브젝트: 날짜를 처리\n",
        "* time 오브젝트: 시간을 처리\n",
        "* datetime 오브젝트: 날짜와 시간을 모두처리\n"
      ],
      "metadata": {
        "id": "lk4vVZNCYj56"
      }
    },
    {
      "cell_type": "code",
      "execution_count": 1,
      "metadata": {
        "colab": {
          "base_uri": "https://localhost:8080/"
        },
        "id": "lVfqyBS6Yicz",
        "outputId": "ef2f9ec0-492c-4d4c-dad3-2e5e812ed425"
      },
      "outputs": [
        {
          "output_type": "stream",
          "name": "stdout",
          "text": [
            "2023-04-04 13:41:00.890570\n",
            "2023-04-04 13:41:00.890913\n",
            "19451 days, 13:41:00.891053\n",
            "<class 'datetime.timedelta'>\n",
            "-19452 days, 10:18:59.108947\n",
            "<class 'datetime.timedelta'>\n"
          ]
        }
      ],
      "source": [
        "# 1. datetime 오브젝트를 사용하기 위해 datetime 라이브러리\n",
        "from datetime import datetime\n",
        "\n",
        "# 2. now, today 메서드를 사용하면 다음과 같이 현재 시간을 출력할 수 있습니다. \n",
        "now1= datetime.now()\n",
        "print(now1)\n",
        "\n",
        "now2=datetime.today()\n",
        "print(now2)\n",
        "\n",
        "# 3. datetime 오브젝트를 생성할 때 시간을 직접입력하여 인자로전달한 것이다. 각변수를 출력하여 확인해보면 입력한 시간을 바탕으로 datetime오브젝트가 생성\n",
        "t1=datetime.now()\n",
        "t2=datetime(1970,1,1)\n",
        "t3=datetime(1970,12,12,13,24,34)\n",
        "\n",
        "# 4. datetime 오브젝트를 사용하는 이유 중 하나는 시간 계산을 할 수 있다. 다음은 datetime오브젝트의 차이를 구한것이다.\n",
        "diff1=t1-t2\n",
        "print(diff1)\n",
        "print(type(diff1))\n",
        "\n",
        "diff2=t2-t1\n",
        "print(diff2)\n",
        "print(type(diff2))"
      ]
    },
    {
      "cell_type": "markdown",
      "source": [
        "###**테슬라 주식 데이터로 시간계산하기**\n",
        "* pandas-datareader를 통해 주식데이터를 불러온다."
      ],
      "metadata": {
        "id": "9HhHOMJOd323"
      }
    },
    {
      "cell_type": "code",
      "source": [
        "! pip install pandas-datareader"
      ],
      "metadata": {
        "colab": {
          "base_uri": "https://localhost:8080/"
        },
        "id": "7-OzAUa5dPWV",
        "outputId": "fbf997c1-c889-4a0a-afd1-8d794bc3f6ba"
      },
      "execution_count": 47,
      "outputs": [
        {
          "output_type": "stream",
          "name": "stdout",
          "text": [
            "Looking in indexes: https://pypi.org/simple, https://us-python.pkg.dev/colab-wheels/public/simple/\n",
            "Requirement already satisfied: pandas-datareader in /usr/local/lib/python3.9/dist-packages (0.10.0)\n",
            "Requirement already satisfied: lxml in /usr/local/lib/python3.9/dist-packages (from pandas-datareader) (4.9.2)\n",
            "Requirement already satisfied: pandas>=0.23 in /usr/local/lib/python3.9/dist-packages (from pandas-datareader) (1.4.4)\n",
            "Requirement already satisfied: requests>=2.19.0 in /usr/local/lib/python3.9/dist-packages (from pandas-datareader) (2.27.1)\n",
            "Requirement already satisfied: pytz>=2020.1 in /usr/local/lib/python3.9/dist-packages (from pandas>=0.23->pandas-datareader) (2022.7.1)\n",
            "Requirement already satisfied: python-dateutil>=2.8.1 in /usr/local/lib/python3.9/dist-packages (from pandas>=0.23->pandas-datareader) (2.8.2)\n",
            "Requirement already satisfied: numpy>=1.18.5 in /usr/local/lib/python3.9/dist-packages (from pandas>=0.23->pandas-datareader) (1.22.4)\n",
            "Requirement already satisfied: charset-normalizer~=2.0.0 in /usr/local/lib/python3.9/dist-packages (from requests>=2.19.0->pandas-datareader) (2.0.12)\n",
            "Requirement already satisfied: urllib3<1.27,>=1.21.1 in /usr/local/lib/python3.9/dist-packages (from requests>=2.19.0->pandas-datareader) (1.26.15)\n",
            "Requirement already satisfied: certifi>=2017.4.17 in /usr/local/lib/python3.9/dist-packages (from requests>=2.19.0->pandas-datareader) (2022.12.7)\n",
            "Requirement already satisfied: idna<4,>=2.5 in /usr/local/lib/python3.9/dist-packages (from requests>=2.19.0->pandas-datareader) (3.4)\n",
            "Requirement already satisfied: six>=1.5 in /usr/local/lib/python3.9/dist-packages (from python-dateutil>=2.8.1->pandas>=0.23->pandas-datareader) (1.16.0)\n"
          ]
        }
      ]
    },
    {
      "cell_type": "code",
      "source": [
        "from google.colab import drive\n",
        "drive.mount('/content/drive')"
      ],
      "metadata": {
        "colab": {
          "base_uri": "https://localhost:8080/"
        },
        "id": "_OcLyk1OnZZU",
        "outputId": "b2c85b44-593b-4e23-d236-820a6c52b85a"
      },
      "execution_count": 48,
      "outputs": [
        {
          "output_type": "stream",
          "name": "stdout",
          "text": [
            "Drive already mounted at /content/drive; to attempt to forcibly remount, call drive.mount(\"/content/drive\", force_remount=True).\n"
          ]
        }
      ]
    },
    {
      "cell_type": "markdown",
      "source": [
        "####1. get_data_quanal 메서드에 TSLA라는 문자열을 전달하여 테슬라의 주식데이터를 내려받은후 to_csv메서드를 사용하여 data폴더안에 'tesla_stock_quandl.csv'라는 이름으로 저장."
      ],
      "metadata": {
        "id": "71cPmbBTf0O1"
      }
    },
    {
      "cell_type": "code",
      "source": [
        "import pandas as pd\n",
        "pd.core.common.is_list_like=pd.api.types.is_list_like\n",
        "import pandas_datareader as pdr\n",
        "\n",
        "\n",
        "#tesla에 저장된 데이터프레임을 파일로 저장한다.\n",
        "tesla = pd.read_csv('/content/tesla_stock_quandl (1).csv')\n",
        "tesla.head()"
      ],
      "metadata": {
        "colab": {
          "base_uri": "https://localhost:8080/",
          "height": 357
        },
        "id": "vicPrhPA09tr",
        "outputId": "1760fc00-5d9f-4784-dcfd-d76e5127d1ef"
      },
      "execution_count": 49,
      "outputs": [
        {
          "output_type": "execute_result",
          "data": {
            "text/plain": [
              "         Date    Open    High     Low   Close    Volume  ExDividend  \\\n",
              "0  2018-03-27  304.00  304.27  277.18  279.18  13696168           0   \n",
              "1  2018-03-26  307.34  307.59  291.36  304.18   8324639           0   \n",
              "2  2018-03-23  311.25  311.61  300.45  301.54   6600538           0   \n",
              "3  2018-03-22  313.89  318.82  308.18  309.10   4914307           0   \n",
              "4  2018-03-21  310.25  322.44  310.19  316.53   5927881           0   \n",
              "\n",
              "   SplitRatio  AdjOpen  AdjHigh  AdjLow  AdjClose  AdjVolume  \n",
              "0           1   304.00   304.27  277.18    279.18   13696168  \n",
              "1           1   307.34   307.59  291.36    304.18    8324639  \n",
              "2           1   311.25   311.61  300.45    301.54    6600538  \n",
              "3           1   313.89   318.82  308.18    309.10    4914307  \n",
              "4           1   310.25   322.44  310.19    316.53    5927881  "
            ],
            "text/html": [
              "\n",
              "  <div id=\"df-c9f8e6b5-519a-4fca-8310-ffda4e2fef44\">\n",
              "    <div class=\"colab-df-container\">\n",
              "      <div>\n",
              "<style scoped>\n",
              "    .dataframe tbody tr th:only-of-type {\n",
              "        vertical-align: middle;\n",
              "    }\n",
              "\n",
              "    .dataframe tbody tr th {\n",
              "        vertical-align: top;\n",
              "    }\n",
              "\n",
              "    .dataframe thead th {\n",
              "        text-align: right;\n",
              "    }\n",
              "</style>\n",
              "<table border=\"1\" class=\"dataframe\">\n",
              "  <thead>\n",
              "    <tr style=\"text-align: right;\">\n",
              "      <th></th>\n",
              "      <th>Date</th>\n",
              "      <th>Open</th>\n",
              "      <th>High</th>\n",
              "      <th>Low</th>\n",
              "      <th>Close</th>\n",
              "      <th>Volume</th>\n",
              "      <th>ExDividend</th>\n",
              "      <th>SplitRatio</th>\n",
              "      <th>AdjOpen</th>\n",
              "      <th>AdjHigh</th>\n",
              "      <th>AdjLow</th>\n",
              "      <th>AdjClose</th>\n",
              "      <th>AdjVolume</th>\n",
              "    </tr>\n",
              "  </thead>\n",
              "  <tbody>\n",
              "    <tr>\n",
              "      <th>0</th>\n",
              "      <td>2018-03-27</td>\n",
              "      <td>304.00</td>\n",
              "      <td>304.27</td>\n",
              "      <td>277.18</td>\n",
              "      <td>279.18</td>\n",
              "      <td>13696168</td>\n",
              "      <td>0</td>\n",
              "      <td>1</td>\n",
              "      <td>304.00</td>\n",
              "      <td>304.27</td>\n",
              "      <td>277.18</td>\n",
              "      <td>279.18</td>\n",
              "      <td>13696168</td>\n",
              "    </tr>\n",
              "    <tr>\n",
              "      <th>1</th>\n",
              "      <td>2018-03-26</td>\n",
              "      <td>307.34</td>\n",
              "      <td>307.59</td>\n",
              "      <td>291.36</td>\n",
              "      <td>304.18</td>\n",
              "      <td>8324639</td>\n",
              "      <td>0</td>\n",
              "      <td>1</td>\n",
              "      <td>307.34</td>\n",
              "      <td>307.59</td>\n",
              "      <td>291.36</td>\n",
              "      <td>304.18</td>\n",
              "      <td>8324639</td>\n",
              "    </tr>\n",
              "    <tr>\n",
              "      <th>2</th>\n",
              "      <td>2018-03-23</td>\n",
              "      <td>311.25</td>\n",
              "      <td>311.61</td>\n",
              "      <td>300.45</td>\n",
              "      <td>301.54</td>\n",
              "      <td>6600538</td>\n",
              "      <td>0</td>\n",
              "      <td>1</td>\n",
              "      <td>311.25</td>\n",
              "      <td>311.61</td>\n",
              "      <td>300.45</td>\n",
              "      <td>301.54</td>\n",
              "      <td>6600538</td>\n",
              "    </tr>\n",
              "    <tr>\n",
              "      <th>3</th>\n",
              "      <td>2018-03-22</td>\n",
              "      <td>313.89</td>\n",
              "      <td>318.82</td>\n",
              "      <td>308.18</td>\n",
              "      <td>309.10</td>\n",
              "      <td>4914307</td>\n",
              "      <td>0</td>\n",
              "      <td>1</td>\n",
              "      <td>313.89</td>\n",
              "      <td>318.82</td>\n",
              "      <td>308.18</td>\n",
              "      <td>309.10</td>\n",
              "      <td>4914307</td>\n",
              "    </tr>\n",
              "    <tr>\n",
              "      <th>4</th>\n",
              "      <td>2018-03-21</td>\n",
              "      <td>310.25</td>\n",
              "      <td>322.44</td>\n",
              "      <td>310.19</td>\n",
              "      <td>316.53</td>\n",
              "      <td>5927881</td>\n",
              "      <td>0</td>\n",
              "      <td>1</td>\n",
              "      <td>310.25</td>\n",
              "      <td>322.44</td>\n",
              "      <td>310.19</td>\n",
              "      <td>316.53</td>\n",
              "      <td>5927881</td>\n",
              "    </tr>\n",
              "  </tbody>\n",
              "</table>\n",
              "</div>\n",
              "      <button class=\"colab-df-convert\" onclick=\"convertToInteractive('df-c9f8e6b5-519a-4fca-8310-ffda4e2fef44')\"\n",
              "              title=\"Convert this dataframe to an interactive table.\"\n",
              "              style=\"display:none;\">\n",
              "        \n",
              "  <svg xmlns=\"http://www.w3.org/2000/svg\" height=\"24px\"viewBox=\"0 0 24 24\"\n",
              "       width=\"24px\">\n",
              "    <path d=\"M0 0h24v24H0V0z\" fill=\"none\"/>\n",
              "    <path d=\"M18.56 5.44l.94 2.06.94-2.06 2.06-.94-2.06-.94-.94-2.06-.94 2.06-2.06.94zm-11 1L8.5 8.5l.94-2.06 2.06-.94-2.06-.94L8.5 2.5l-.94 2.06-2.06.94zm10 10l.94 2.06.94-2.06 2.06-.94-2.06-.94-.94-2.06-.94 2.06-2.06.94z\"/><path d=\"M17.41 7.96l-1.37-1.37c-.4-.4-.92-.59-1.43-.59-.52 0-1.04.2-1.43.59L10.3 9.45l-7.72 7.72c-.78.78-.78 2.05 0 2.83L4 21.41c.39.39.9.59 1.41.59.51 0 1.02-.2 1.41-.59l7.78-7.78 2.81-2.81c.8-.78.8-2.07 0-2.86zM5.41 20L4 18.59l7.72-7.72 1.47 1.35L5.41 20z\"/>\n",
              "  </svg>\n",
              "      </button>\n",
              "      \n",
              "  <style>\n",
              "    .colab-df-container {\n",
              "      display:flex;\n",
              "      flex-wrap:wrap;\n",
              "      gap: 12px;\n",
              "    }\n",
              "\n",
              "    .colab-df-convert {\n",
              "      background-color: #E8F0FE;\n",
              "      border: none;\n",
              "      border-radius: 50%;\n",
              "      cursor: pointer;\n",
              "      display: none;\n",
              "      fill: #1967D2;\n",
              "      height: 32px;\n",
              "      padding: 0 0 0 0;\n",
              "      width: 32px;\n",
              "    }\n",
              "\n",
              "    .colab-df-convert:hover {\n",
              "      background-color: #E2EBFA;\n",
              "      box-shadow: 0px 1px 2px rgba(60, 64, 67, 0.3), 0px 1px 3px 1px rgba(60, 64, 67, 0.15);\n",
              "      fill: #174EA6;\n",
              "    }\n",
              "\n",
              "    [theme=dark] .colab-df-convert {\n",
              "      background-color: #3B4455;\n",
              "      fill: #D2E3FC;\n",
              "    }\n",
              "\n",
              "    [theme=dark] .colab-df-convert:hover {\n",
              "      background-color: #434B5C;\n",
              "      box-shadow: 0px 1px 3px 1px rgba(0, 0, 0, 0.15);\n",
              "      filter: drop-shadow(0px 1px 2px rgba(0, 0, 0, 0.3));\n",
              "      fill: #FFFFFF;\n",
              "    }\n",
              "  </style>\n",
              "\n",
              "      <script>\n",
              "        const buttonEl =\n",
              "          document.querySelector('#df-c9f8e6b5-519a-4fca-8310-ffda4e2fef44 button.colab-df-convert');\n",
              "        buttonEl.style.display =\n",
              "          google.colab.kernel.accessAllowed ? 'block' : 'none';\n",
              "\n",
              "        async function convertToInteractive(key) {\n",
              "          const element = document.querySelector('#df-c9f8e6b5-519a-4fca-8310-ffda4e2fef44');\n",
              "          const dataTable =\n",
              "            await google.colab.kernel.invokeFunction('convertToInteractive',\n",
              "                                                     [key], {});\n",
              "          if (!dataTable) return;\n",
              "\n",
              "          const docLinkHtml = 'Like what you see? Visit the ' +\n",
              "            '<a target=\"_blank\" href=https://colab.research.google.com/notebooks/data_table.ipynb>data table notebook</a>'\n",
              "            + ' to learn more about interactive tables.';\n",
              "          element.innerHTML = '';\n",
              "          dataTable['output_type'] = 'display_data';\n",
              "          await google.colab.output.renderOutput(dataTable, element);\n",
              "          const docLink = document.createElement('div');\n",
              "          docLink.innerHTML = docLinkHtml;\n",
              "          element.appendChild(docLink);\n",
              "        }\n",
              "      </script>\n",
              "    </div>\n",
              "  </div>\n",
              "  "
            ]
          },
          "metadata": {},
          "execution_count": 49
        }
      ]
    },
    {
      "cell_type": "markdown",
      "source": [
        "#### 2. tesla 데이터프레임의 Date열 문자열로 저장되어있다. datetime오브젝트로 자료형을 변환해야 시간을 계산할 수 있다."
      ],
      "metadata": {
        "id": "Pqcip7ZlgK5K"
      }
    },
    {
      "cell_type": "code",
      "source": [
        "print(tesla.head())"
      ],
      "metadata": {
        "colab": {
          "base_uri": "https://localhost:8080/"
        },
        "id": "3OoZ7DNdgXNR",
        "outputId": "783fa584-1ec0-4bbe-bb23-450e174cdeaf"
      },
      "execution_count": 50,
      "outputs": [
        {
          "output_type": "stream",
          "name": "stdout",
          "text": [
            "         Date    Open    High     Low   Close    Volume  ExDividend  \\\n",
            "0  2018-03-27  304.00  304.27  277.18  279.18  13696168           0   \n",
            "1  2018-03-26  307.34  307.59  291.36  304.18   8324639           0   \n",
            "2  2018-03-23  311.25  311.61  300.45  301.54   6600538           0   \n",
            "3  2018-03-22  313.89  318.82  308.18  309.10   4914307           0   \n",
            "4  2018-03-21  310.25  322.44  310.19  316.53   5927881           0   \n",
            "\n",
            "   SplitRatio  AdjOpen  AdjHigh  AdjLow  AdjClose  AdjVolume  \n",
            "0           1   304.00   304.27  277.18    279.18   13696168  \n",
            "1           1   307.34   307.59  291.36    304.18    8324639  \n",
            "2           1   311.25   311.61  300.45    301.54    6600538  \n",
            "3           1   313.89   318.82  308.18    309.10    4914307  \n",
            "4           1   310.25   322.44  310.19    316.53    5927881  \n"
          ]
        }
      ]
    },
    {
      "cell_type": "markdown",
      "source": [
        "#### 3. Date열을 Datetime형으로 변형하려면 read_csv 메서드로 데이터집합을 불러올때 parse_dates인자에 date열을 전달한다.\n"
      ],
      "metadata": {
        "id": "LBEypBk_mrvH"
      }
    },
    {
      "cell_type": "code",
      "source": [
        "tesla=pd.read_csv('/content/tesla_stock_quandl (1).csv',parse_dates=[0])\n",
        "print(tesla.info())"
      ],
      "metadata": {
        "colab": {
          "base_uri": "https://localhost:8080/"
        },
        "id": "8j6Cv8Yhm4_O",
        "outputId": "bdd96696-3dd0-472d-cf3f-114f9c38c211"
      },
      "execution_count": 53,
      "outputs": [
        {
          "output_type": "stream",
          "name": "stdout",
          "text": [
            "<class 'pandas.core.frame.DataFrame'>\n",
            "RangeIndex: 1949 entries, 0 to 1948\n",
            "Data columns (total 13 columns):\n",
            " #   Column      Non-Null Count  Dtype         \n",
            "---  ------      --------------  -----         \n",
            " 0   Date        1949 non-null   datetime64[ns]\n",
            " 1   Open        1949 non-null   float64       \n",
            " 2   High        1949 non-null   float64       \n",
            " 3   Low         1949 non-null   float64       \n",
            " 4   Close       1949 non-null   float64       \n",
            " 5   Volume      1949 non-null   int64         \n",
            " 6   ExDividend  1949 non-null   int64         \n",
            " 7   SplitRatio  1949 non-null   int64         \n",
            " 8   AdjOpen     1949 non-null   float64       \n",
            " 9   AdjHigh     1949 non-null   float64       \n",
            " 10  AdjLow      1949 non-null   float64       \n",
            " 11  AdjClose    1949 non-null   float64       \n",
            " 12  AdjVolume   1949 non-null   int64         \n",
            "dtypes: datetime64[ns](1), float64(8), int64(4)\n",
            "memory usage: 198.1 KB\n",
            "None\n"
          ]
        }
      ]
    },
    {
      "cell_type": "markdown",
      "source": [
        "#### Date열의 자료형이 datetime오브젝트로 변환되었고 dt접근자를 사용할 수 있으므로 불린추출로 2010년 6월데이터만 추출한다. "
      ],
      "metadata": {
        "id": "Z2cganPHnDDz"
      }
    },
    {
      "cell_type": "code",
      "source": [
        "print(tesla.loc[(tesla.Date.dt.year==2010)&(tesla.Date.dt.month==6)])"
      ],
      "metadata": {
        "colab": {
          "base_uri": "https://localhost:8080/"
        },
        "id": "ZIwLMXpKnO5z",
        "outputId": "e91fac6f-96ff-4e47-a91b-6b5718c32faf"
      },
      "execution_count": 54,
      "outputs": [
        {
          "output_type": "stream",
          "name": "stdout",
          "text": [
            "           Date   Open     High    Low  Close    Volume  ExDividend  \\\n",
            "1947 2010-06-30  25.79  30.4192  23.30  23.83  17187100           0   \n",
            "1948 2010-06-29  19.00  25.0000  17.54  23.89  18766300           0   \n",
            "\n",
            "      SplitRatio  AdjOpen  AdjHigh  AdjLow  AdjClose  AdjVolume  \n",
            "1947           1    25.79  30.4192   23.30     23.83   17187100  \n",
            "1948           1    19.00  25.0000   17.54     23.89   18766300  \n"
          ]
        }
      ]
    },
    {
      "cell_type": "markdown",
      "source": [
        "* datetime오브젝트와 인덱스-DatetimeIndex\n",
        ": datetime오브젝트를 데이터프레임의 인덱스로 설정하면 원하는 시간의 데이터를 추출할 수 있어 편리하다. \n",
        "#### datetime오브젝트를 인덱스로 설정해 데이터 추출하기\n",
        "#### 1. Date열을 tesla데이터프레임의 인덱스로 지정"
      ],
      "metadata": {
        "id": "IcSIxaMknaV-"
      }
    },
    {
      "cell_type": "code",
      "source": [
        "tesla.index=tesla['Date']\n",
        "print(tesla.index)"
      ],
      "metadata": {
        "colab": {
          "base_uri": "https://localhost:8080/"
        },
        "id": "E8fNMJmEnCkh",
        "outputId": "02f63b5e-87a6-4534-d344-411cd10bea6c"
      },
      "execution_count": 55,
      "outputs": [
        {
          "output_type": "stream",
          "name": "stdout",
          "text": [
            "DatetimeIndex(['2018-03-27', '2018-03-26', '2018-03-23', '2018-03-22',\n",
            "               '2018-03-21', '2018-03-20', '2018-03-19', '2018-03-16',\n",
            "               '2018-03-15', '2018-03-14',\n",
            "               ...\n",
            "               '2010-07-13', '2010-07-12', '2010-07-09', '2010-07-08',\n",
            "               '2010-07-07', '2010-07-06', '2010-07-02', '2010-07-01',\n",
            "               '2010-06-30', '2010-06-29'],\n",
            "              dtype='datetime64[ns]', name='Date', length=1949, freq=None)\n"
          ]
        }
      ]
    },
    {
      "cell_type": "markdown",
      "source": [
        "#### 2. datetime오브젝트를 인덱스를 지정하면 원하는 시간의 데이터를 추출할 수 있다. "
      ],
      "metadata": {
        "id": "8vedHIsUn0b9"
      }
    },
    {
      "cell_type": "code",
      "source": [
        "#2015년의 데이터추출\n",
        "print(tesla['2015'].iloc[:5,:5])"
      ],
      "metadata": {
        "colab": {
          "base_uri": "https://localhost:8080/"
        },
        "id": "a4wWRzcRn9Ci",
        "outputId": "400806a8-e28c-4ceb-ab94-cb954e96fc6a"
      },
      "execution_count": 56,
      "outputs": [
        {
          "output_type": "stream",
          "name": "stdout",
          "text": [
            "                 Date    Open     High       Low   Close\n",
            "Date                                                    \n",
            "2015-12-31 2015-12-31  238.51  243.450  238.3700  240.01\n",
            "2015-12-30 2015-12-30  236.60  243.634  235.6707  238.09\n",
            "2015-12-29 2015-12-29  230.06  237.720  229.5470  237.19\n",
            "2015-12-28 2015-12-28  231.49  231.980  225.5400  228.95\n",
            "2015-12-24 2015-12-24  230.56  231.880  228.2800  230.57\n"
          ]
        },
        {
          "output_type": "stream",
          "name": "stderr",
          "text": [
            "<ipython-input-56-bc24bdad1ee2>:2: FutureWarning: Indexing a DataFrame with a datetimelike index using a single string to slice the rows, like `frame[string]`, is deprecated and will be removed in a future version. Use `frame.loc[string]` instead.\n",
            "  print(tesla['2015'].iloc[:5,:5])\n"
          ]
        }
      ]
    },
    {
      "cell_type": "markdown",
      "source": [
        "#### 2010년 6월데이터 추출출"
      ],
      "metadata": {
        "id": "zWJJPxXXoDSl"
      }
    },
    {
      "cell_type": "code",
      "source": [
        "print(tesla['2010-06'].iloc[:,:5])"
      ],
      "metadata": {
        "colab": {
          "base_uri": "https://localhost:8080/"
        },
        "id": "symvMHR9oF3H",
        "outputId": "71486dec-ffe7-4421-a045-2656a5b1c0ff"
      },
      "execution_count": 57,
      "outputs": [
        {
          "output_type": "stream",
          "name": "stdout",
          "text": [
            "                 Date   Open     High    Low  Close\n",
            "Date                                               \n",
            "2010-06-30 2010-06-30  25.79  30.4192  23.30  23.83\n",
            "2010-06-29 2010-06-29  19.00  25.0000  17.54  23.89\n"
          ]
        },
        {
          "output_type": "stream",
          "name": "stderr",
          "text": [
            "<ipython-input-57-33712f015d52>:1: FutureWarning: Indexing a DataFrame with a datetimelike index using a single string to slice the rows, like `frame[string]`, is deprecated and will be removed in a future version. Use `frame.loc[string]` instead.\n",
            "  print(tesla['2010-06'].iloc[:,:5])\n"
          ]
        }
      ]
    },
    {
      "cell_type": "markdown",
      "source": [
        "#### 시간간격과 인덱스- timedeltindex\n",
        "* 주식데이터에서 최초 5일수집된 데이터만 살피고 싶을때 시간간격을 인덱스로 지정하여 데이터를 추출한다. \n",
        "#### 시간간격을 인덱스로 지정해 데이터추출\n",
        "#### 1. Date열에서 Date열의 최솟값을빼면 데이터를 수집한 이후에 시간이 흘른것을 알 수 있다. Date열에서 DAte열의 최솟값을 뺀 후 ref_date열로 추가한다."
      ],
      "metadata": {
        "id": "YHnG7b6yoKgv"
      }
    },
    {
      "cell_type": "code",
      "source": [
        "tesla['ref_date']=tesla['Date']-tesla['Date'].min()\n",
        "print(tesla.head())"
      ],
      "metadata": {
        "colab": {
          "base_uri": "https://localhost:8080/"
        },
        "id": "TMwJAoZJou4x",
        "outputId": "5c4bafb4-14ea-4e76-ab0d-65c32b6f201d"
      },
      "execution_count": 58,
      "outputs": [
        {
          "output_type": "stream",
          "name": "stdout",
          "text": [
            "                 Date    Open    High     Low   Close    Volume  ExDividend  \\\n",
            "Date                                                                          \n",
            "2018-03-27 2018-03-27  304.00  304.27  277.18  279.18  13696168           0   \n",
            "2018-03-26 2018-03-26  307.34  307.59  291.36  304.18   8324639           0   \n",
            "2018-03-23 2018-03-23  311.25  311.61  300.45  301.54   6600538           0   \n",
            "2018-03-22 2018-03-22  313.89  318.82  308.18  309.10   4914307           0   \n",
            "2018-03-21 2018-03-21  310.25  322.44  310.19  316.53   5927881           0   \n",
            "\n",
            "            SplitRatio  AdjOpen  AdjHigh  AdjLow  AdjClose  AdjVolume  \\\n",
            "Date                                                                    \n",
            "2018-03-27           1   304.00   304.27  277.18    279.18   13696168   \n",
            "2018-03-26           1   307.34   307.59  291.36    304.18    8324639   \n",
            "2018-03-23           1   311.25   311.61  300.45    301.54    6600538   \n",
            "2018-03-22           1   313.89   318.82  308.18    309.10    4914307   \n",
            "2018-03-21           1   310.25   322.44  310.19    316.53    5927881   \n",
            "\n",
            "            ref_date  \n",
            "Date                  \n",
            "2018-03-27 2828 days  \n",
            "2018-03-26 2827 days  \n",
            "2018-03-23 2824 days  \n",
            "2018-03-22 2823 days  \n",
            "2018-03-21 2822 days  \n"
          ]
        }
      ]
    },
    {
      "cell_type": "markdown",
      "source": [
        "#### 2. ref_date열을 인덱스로 지정하고 시간간격을 이용하여 데이터를 추출한다.\n"
      ],
      "metadata": {
        "id": "o9pUQPCJo2u8"
      }
    },
    {
      "cell_type": "code",
      "source": [
        "tesla.index=tesla['ref_date']\n",
        "print(tesla.iloc[:5,:5])"
      ],
      "metadata": {
        "colab": {
          "base_uri": "https://localhost:8080/"
        },
        "id": "DKpyHj3ao8O5",
        "outputId": "c9b243af-0252-451a-cb72-0ec23838bd43"
      },
      "execution_count": 59,
      "outputs": [
        {
          "output_type": "stream",
          "name": "stdout",
          "text": [
            "                Date    Open    High     Low   Close\n",
            "ref_date                                            \n",
            "2828 days 2018-03-27  304.00  304.27  277.18  279.18\n",
            "2827 days 2018-03-26  307.34  307.59  291.36  304.18\n",
            "2824 days 2018-03-23  311.25  311.61  300.45  301.54\n",
            "2823 days 2018-03-22  313.89  318.82  308.18  309.10\n",
            "2822 days 2018-03-21  310.25  322.44  310.19  316.53\n"
          ]
        }
      ]
    },
    {
      "cell_type": "markdown",
      "source": [
        "#### 3. 데이터를 수집한 후 최초5일의 데이터를 추출한다"
      ],
      "metadata": {
        "id": "9iT-q3EVpCx9"
      }
    },
    {
      "cell_type": "code",
      "source": [
        "print(tesla['5days':].iloc[:5,:5])"
      ],
      "metadata": {
        "colab": {
          "base_uri": "https://localhost:8080/"
        },
        "id": "ZsieQ5FhpMHX",
        "outputId": "68854812-74af-4c89-e164-08827f16d95c"
      },
      "execution_count": 60,
      "outputs": [
        {
          "output_type": "stream",
          "name": "stdout",
          "text": [
            "               Date   Open     High    Low  Close\n",
            "ref_date                                         \n",
            "3 days   2010-07-02  23.00  23.1000  18.71  19.20\n",
            "2 days   2010-07-01  25.00  25.9200  20.27  21.96\n",
            "1 days   2010-06-30  25.79  30.4192  23.30  23.83\n",
            "0 days   2010-06-29  19.00  25.0000  17.54  23.89\n"
          ]
        }
      ]
    },
    {
      "cell_type": "markdown",
      "source": [
        "#### 시간범위와 인덱스\n",
        "* 누락된 데이터포함시켜 데이터를 살펴보려면? 임의로 시간범위를 생성하여 인덱스로 지정\n",
        "#### 시간범위 생성해 인덱스로 지정하기\n",
        "####1. 에볼라데이터 집합을 사용한다. 2015년1월1일에 데이터가 누락되었다."
      ],
      "metadata": {
        "id": "erx7wF_ppSm9"
      }
    },
    {
      "cell_type": "code",
      "source": [
        "from google.colab import files\n",
        "uploaded = files.upload()\n",
        "import pandas as pd"
      ],
      "metadata": {
        "colab": {
          "base_uri": "https://localhost:8080/",
          "height": 76
        },
        "id": "-Y_Rm_whoKEf",
        "outputId": "1c8290af-fbae-4520-8967-f8db754b6421"
      },
      "execution_count": 63,
      "outputs": [
        {
          "output_type": "display_data",
          "data": {
            "text/plain": [
              "<IPython.core.display.HTML object>"
            ],
            "text/html": [
              "\n",
              "     <input type=\"file\" id=\"files-35a6eb3b-421b-4adb-b373-affb64011270\" name=\"files[]\" multiple disabled\n",
              "        style=\"border:none\" />\n",
              "     <output id=\"result-35a6eb3b-421b-4adb-b373-affb64011270\">\n",
              "      Upload widget is only available when the cell has been executed in the\n",
              "      current browser session. Please rerun this cell to enable.\n",
              "      </output>\n",
              "      <script>// Copyright 2017 Google LLC\n",
              "//\n",
              "// Licensed under the Apache License, Version 2.0 (the \"License\");\n",
              "// you may not use this file except in compliance with the License.\n",
              "// You may obtain a copy of the License at\n",
              "//\n",
              "//      http://www.apache.org/licenses/LICENSE-2.0\n",
              "//\n",
              "// Unless required by applicable law or agreed to in writing, software\n",
              "// distributed under the License is distributed on an \"AS IS\" BASIS,\n",
              "// WITHOUT WARRANTIES OR CONDITIONS OF ANY KIND, either express or implied.\n",
              "// See the License for the specific language governing permissions and\n",
              "// limitations under the License.\n",
              "\n",
              "/**\n",
              " * @fileoverview Helpers for google.colab Python module.\n",
              " */\n",
              "(function(scope) {\n",
              "function span(text, styleAttributes = {}) {\n",
              "  const element = document.createElement('span');\n",
              "  element.textContent = text;\n",
              "  for (const key of Object.keys(styleAttributes)) {\n",
              "    element.style[key] = styleAttributes[key];\n",
              "  }\n",
              "  return element;\n",
              "}\n",
              "\n",
              "// Max number of bytes which will be uploaded at a time.\n",
              "const MAX_PAYLOAD_SIZE = 100 * 1024;\n",
              "\n",
              "function _uploadFiles(inputId, outputId) {\n",
              "  const steps = uploadFilesStep(inputId, outputId);\n",
              "  const outputElement = document.getElementById(outputId);\n",
              "  // Cache steps on the outputElement to make it available for the next call\n",
              "  // to uploadFilesContinue from Python.\n",
              "  outputElement.steps = steps;\n",
              "\n",
              "  return _uploadFilesContinue(outputId);\n",
              "}\n",
              "\n",
              "// This is roughly an async generator (not supported in the browser yet),\n",
              "// where there are multiple asynchronous steps and the Python side is going\n",
              "// to poll for completion of each step.\n",
              "// This uses a Promise to block the python side on completion of each step,\n",
              "// then passes the result of the previous step as the input to the next step.\n",
              "function _uploadFilesContinue(outputId) {\n",
              "  const outputElement = document.getElementById(outputId);\n",
              "  const steps = outputElement.steps;\n",
              "\n",
              "  const next = steps.next(outputElement.lastPromiseValue);\n",
              "  return Promise.resolve(next.value.promise).then((value) => {\n",
              "    // Cache the last promise value to make it available to the next\n",
              "    // step of the generator.\n",
              "    outputElement.lastPromiseValue = value;\n",
              "    return next.value.response;\n",
              "  });\n",
              "}\n",
              "\n",
              "/**\n",
              " * Generator function which is called between each async step of the upload\n",
              " * process.\n",
              " * @param {string} inputId Element ID of the input file picker element.\n",
              " * @param {string} outputId Element ID of the output display.\n",
              " * @return {!Iterable<!Object>} Iterable of next steps.\n",
              " */\n",
              "function* uploadFilesStep(inputId, outputId) {\n",
              "  const inputElement = document.getElementById(inputId);\n",
              "  inputElement.disabled = false;\n",
              "\n",
              "  const outputElement = document.getElementById(outputId);\n",
              "  outputElement.innerHTML = '';\n",
              "\n",
              "  const pickedPromise = new Promise((resolve) => {\n",
              "    inputElement.addEventListener('change', (e) => {\n",
              "      resolve(e.target.files);\n",
              "    });\n",
              "  });\n",
              "\n",
              "  const cancel = document.createElement('button');\n",
              "  inputElement.parentElement.appendChild(cancel);\n",
              "  cancel.textContent = 'Cancel upload';\n",
              "  const cancelPromise = new Promise((resolve) => {\n",
              "    cancel.onclick = () => {\n",
              "      resolve(null);\n",
              "    };\n",
              "  });\n",
              "\n",
              "  // Wait for the user to pick the files.\n",
              "  const files = yield {\n",
              "    promise: Promise.race([pickedPromise, cancelPromise]),\n",
              "    response: {\n",
              "      action: 'starting',\n",
              "    }\n",
              "  };\n",
              "\n",
              "  cancel.remove();\n",
              "\n",
              "  // Disable the input element since further picks are not allowed.\n",
              "  inputElement.disabled = true;\n",
              "\n",
              "  if (!files) {\n",
              "    return {\n",
              "      response: {\n",
              "        action: 'complete',\n",
              "      }\n",
              "    };\n",
              "  }\n",
              "\n",
              "  for (const file of files) {\n",
              "    const li = document.createElement('li');\n",
              "    li.append(span(file.name, {fontWeight: 'bold'}));\n",
              "    li.append(span(\n",
              "        `(${file.type || 'n/a'}) - ${file.size} bytes, ` +\n",
              "        `last modified: ${\n",
              "            file.lastModifiedDate ? file.lastModifiedDate.toLocaleDateString() :\n",
              "                                    'n/a'} - `));\n",
              "    const percent = span('0% done');\n",
              "    li.appendChild(percent);\n",
              "\n",
              "    outputElement.appendChild(li);\n",
              "\n",
              "    const fileDataPromise = new Promise((resolve) => {\n",
              "      const reader = new FileReader();\n",
              "      reader.onload = (e) => {\n",
              "        resolve(e.target.result);\n",
              "      };\n",
              "      reader.readAsArrayBuffer(file);\n",
              "    });\n",
              "    // Wait for the data to be ready.\n",
              "    let fileData = yield {\n",
              "      promise: fileDataPromise,\n",
              "      response: {\n",
              "        action: 'continue',\n",
              "      }\n",
              "    };\n",
              "\n",
              "    // Use a chunked sending to avoid message size limits. See b/62115660.\n",
              "    let position = 0;\n",
              "    do {\n",
              "      const length = Math.min(fileData.byteLength - position, MAX_PAYLOAD_SIZE);\n",
              "      const chunk = new Uint8Array(fileData, position, length);\n",
              "      position += length;\n",
              "\n",
              "      const base64 = btoa(String.fromCharCode.apply(null, chunk));\n",
              "      yield {\n",
              "        response: {\n",
              "          action: 'append',\n",
              "          file: file.name,\n",
              "          data: base64,\n",
              "        },\n",
              "      };\n",
              "\n",
              "      let percentDone = fileData.byteLength === 0 ?\n",
              "          100 :\n",
              "          Math.round((position / fileData.byteLength) * 100);\n",
              "      percent.textContent = `${percentDone}% done`;\n",
              "\n",
              "    } while (position < fileData.byteLength);\n",
              "  }\n",
              "\n",
              "  // All done.\n",
              "  yield {\n",
              "    response: {\n",
              "      action: 'complete',\n",
              "    }\n",
              "  };\n",
              "}\n",
              "\n",
              "scope.google = scope.google || {};\n",
              "scope.google.colab = scope.google.colab || {};\n",
              "scope.google.colab._files = {\n",
              "  _uploadFiles,\n",
              "  _uploadFilesContinue,\n",
              "};\n",
              "})(self);\n",
              "</script> "
            ]
          },
          "metadata": {}
        },
        {
          "output_type": "stream",
          "name": "stdout",
          "text": [
            "Saving country_timeseries.csv to country_timeseries.csv\n"
          ]
        }
      ]
    },
    {
      "cell_type": "code",
      "source": [
        "ebola=pd.read_csv('/content/country_timeseries.csv',parse_dates=[0])\n",
        "print(ebola.iloc[:5,:5])"
      ],
      "metadata": {
        "colab": {
          "base_uri": "https://localhost:8080/"
        },
        "id": "-IokNXQgpo1f",
        "outputId": "141e2957-7258-49bb-d6d8-da42f25e07bd"
      },
      "execution_count": 64,
      "outputs": [
        {
          "output_type": "stream",
          "name": "stdout",
          "text": [
            "        Date  Day  Cases_Guinea  Cases_Liberia  Cases_SierraLeone\n",
            "0 2015-01-05  289        2776.0            NaN            10030.0\n",
            "1 2015-01-04  288        2775.0            NaN             9780.0\n",
            "2 2015-01-03  287        2769.0         8166.0             9722.0\n",
            "3 2015-01-02  286           NaN         8157.0                NaN\n",
            "4 2014-12-31  284        2730.0         8115.0             9633.0\n"
          ]
        }
      ]
    },
    {
      "cell_type": "markdown",
      "source": [
        "#### 2014년 3월 23일데이터누락락"
      ],
      "metadata": {
        "id": "vBYF6MTnpwnx"
      }
    },
    {
      "cell_type": "code",
      "source": [
        "print(ebola.iloc[-5:,:5])"
      ],
      "metadata": {
        "colab": {
          "base_uri": "https://localhost:8080/"
        },
        "id": "E0UBvL74p0NY",
        "outputId": "82cd1c95-82f0-4251-b9b7-0c97ac96b50e"
      },
      "execution_count": 65,
      "outputs": [
        {
          "output_type": "stream",
          "name": "stdout",
          "text": [
            "          Date  Day  Cases_Guinea  Cases_Liberia  Cases_SierraLeone\n",
            "117 2014-03-27    5         103.0            8.0                6.0\n",
            "118 2014-03-26    4          86.0            NaN                NaN\n",
            "119 2014-03-25    3          86.0            NaN                NaN\n",
            "120 2014-03-24    2          86.0            NaN                NaN\n",
            "121 2014-03-22    0          49.0            NaN                NaN\n"
          ]
        }
      ]
    },
    {
      "cell_type": "markdown",
      "source": [
        "#### date_range메서드를 사용하여 2014년12월31일부터 2015년01년05일사이 시간인덱스를 생성성"
      ],
      "metadata": {
        "id": "TB8yS-gmp4hj"
      }
    },
    {
      "cell_type": "code",
      "source": [
        "head_range=pd.date_range(start='2014-12-31',end='2015-01-05')\n",
        "print(head_range)"
      ],
      "metadata": {
        "colab": {
          "base_uri": "https://localhost:8080/"
        },
        "id": "yPixOuPkqAci",
        "outputId": "ee869612-2015-4d4d-d802-4d6826a12606"
      },
      "execution_count": 66,
      "outputs": [
        {
          "output_type": "stream",
          "name": "stdout",
          "text": [
            "DatetimeIndex(['2014-12-31', '2015-01-01', '2015-01-02', '2015-01-03',\n",
            "               '2015-01-04', '2015-01-05'],\n",
            "              dtype='datetime64[ns]', freq='D')\n"
          ]
        }
      ]
    },
    {
      "cell_type": "markdown",
      "source": [
        "#### 원본데이터를 손상시키는것을 방지하기위해 앞쪽데이터 4개를 추출하여 새로운 데이터프레임을 만든다. 이때 Date열을 인덱스로 먼저 지정하지 않으면 오류가 생기기때문에 Date열을 인덱스로 지정후 생성한 시간범위를 인덱스로 지정한다."
      ],
      "metadata": {
        "id": "byi9kv4tqMQP"
      }
    },
    {
      "cell_type": "code",
      "source": [
        "ebola_5=ebola.head()\n",
        "ebola_5.index=ebola_5['Date']\n",
        "ebola_5.reindex(head_range)\n",
        "print(ebola_5.iloc[:5,:5])"
      ],
      "metadata": {
        "colab": {
          "base_uri": "https://localhost:8080/"
        },
        "id": "O8x33MRFqX2C",
        "outputId": "eeeca207-9c8e-48a8-bd17-0de0bca7315f"
      },
      "execution_count": 67,
      "outputs": [
        {
          "output_type": "stream",
          "name": "stdout",
          "text": [
            "                 Date  Day  Cases_Guinea  Cases_Liberia  Cases_SierraLeone\n",
            "Date                                                                      \n",
            "2015-01-05 2015-01-05  289        2776.0            NaN            10030.0\n",
            "2015-01-04 2015-01-04  288        2775.0            NaN             9780.0\n",
            "2015-01-03 2015-01-03  287        2769.0         8166.0             9722.0\n",
            "2015-01-02 2015-01-02  286           NaN         8157.0                NaN\n",
            "2014-12-31 2014-12-31  284        2730.0         8115.0             9633.0\n"
          ]
        }
      ]
    }
  ]
}