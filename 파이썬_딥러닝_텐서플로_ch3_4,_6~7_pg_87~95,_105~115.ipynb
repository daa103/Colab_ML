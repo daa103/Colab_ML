{
  "nbformat": 4,
  "nbformat_minor": 0,
  "metadata": {
    "colab": {
      "provenance": [],
      "authorship_tag": "ABX9TyMoVhEhn+cDRIB0iI1NsJ2f",
      "include_colab_link": true
    },
    "kernelspec": {
      "name": "python3",
      "display_name": "Python 3"
    },
    "language_info": {
      "name": "python"
    }
  },
  "cells": [
    {
      "cell_type": "markdown",
      "metadata": {
        "id": "view-in-github",
        "colab_type": "text"
      },
      "source": [
        "<a href=\"https://colab.research.google.com/github/daa103/DAA_ESAA/blob/main/%ED%8C%8C%EC%9D%B4%EC%8D%AC_%EB%94%A5%EB%9F%AC%EB%8B%9D_%ED%85%90%EC%84%9C%ED%94%8C%EB%A1%9C_ch3_4%2C_6~7_pg_87~95%2C_105~115.ipynb\" target=\"_parent\"><img src=\"https://colab.research.google.com/assets/colab-badge.svg\" alt=\"Open In Colab\"/></a>"
      ]
    },
    {
      "cell_type": "markdown",
      "source": [
        "###**04 모델 세부 설정**\n"
      ],
      "metadata": {
        "id": "-dHQn-pBjTRT"
      }
    },
    {
      "cell_type": "code",
      "execution_count": 1,
      "metadata": {
        "id": "X--wMDL5odc4",
        "colab": {
          "base_uri": "https://localhost:8080/"
        },
        "outputId": "da429b5f-0eb6-44bb-e057-081c824849a7"
      },
      "outputs": [
        {
          "output_type": "stream",
          "name": "stdout",
          "text": [
            "Downloading data from https://storage.googleapis.com/tensorflow/tf-keras-datasets/mnist.npz\n",
            "11490434/11490434 [==============================] - 0s 0us/step\n",
            "train set: (60000, 28, 28) (60000,)\n",
            "test set: (10000, 28, 28) (10000,)\n"
          ]
        }
      ],
      "source": [
        "import tensorflow as tf\n",
        "\n",
        "# 케라스의 내장 데이터셋에서 mnist 데이터 로드\n",
        "mnist = tf.keras.datasets.mnist\n",
        "\n",
        "# load_data()로 데이터셋 로드\n",
        "(x_train, y_train), (x_test, y_test)=mnist.load_data()\n",
        "\n",
        "# 로드된 데이터셋 확인\n",
        "print('train set:', x_train.shape, y_train.shape)\n",
        "print('test set:', x_test.shape, y_test.shape)\n",
        "\n",
        "# 데이터 정규화\n",
        "x_train = x_train/x_train.max()  # max:255\n",
        "x_test = x_test/x_test.max()  # max:255"
      ]
    },
    {
      "cell_type": "markdown",
      "source": [
        "###4-1 초기값설정"
      ],
      "metadata": {
        "id": "2ndTXRZtjdGI"
      }
    },
    {
      "cell_type": "markdown",
      "source": [
        "레이어의 초기화방법을 다르게 설정할 수 있다. Dense 레이어는 기본 초기화 방법으로 Glorot Uniform 초기화방법이 설정되어 있다."
      ],
      "metadata": {
        "id": "m-fQu5Sul_Ri"
      }
    },
    {
      "cell_type": "code",
      "source": [
        "dense = tf.keras.layers.Dense(256, activation='relu')\n",
        "dense.get_config()['kernel_initializer']"
      ],
      "metadata": {
        "colab": {
          "base_uri": "https://localhost:8080/"
        },
        "id": "3Z-ER0MKjf7d",
        "outputId": "5d2d44b8-c23a-42f1-9606-4ef47dc75291"
      },
      "execution_count": 3,
      "outputs": [
        {
          "output_type": "execute_result",
          "data": {
            "text/plain": [
              "{'module': 'keras.initializers',\n",
              " 'class_name': 'GlorotUniform',\n",
              " 'config': {'seed': None},\n",
              " 'registered_name': None}"
            ]
          },
          "metadata": {},
          "execution_count": 3
        }
      ]
    },
    {
      "cell_type": "code",
      "source": [
        "# 문자열 초기화\n",
        "dense = tf.keras.layers.Dense(256, kernel_initializer='he_normal', activation='relu')\n",
        "print(dense.get_config()['kernel_initializer'])\n",
        "\n",
        "# 클래스 인스턴스 초기화\n",
        "he_normal = tf.keras.initializers.HeNormal()\n",
        "dense = tf.keras.layers.Dense(256, kernel_initializer=he_normal, activation='relu')\n",
        "print(dense.get_config()['kernel_initializer'])"
      ],
      "metadata": {
        "colab": {
          "base_uri": "https://localhost:8080/"
        },
        "id": "-aILxozojg89",
        "outputId": "b3fb28db-c0c1-404f-b162-26aea11d15d5"
      },
      "execution_count": 4,
      "outputs": [
        {
          "output_type": "stream",
          "name": "stdout",
          "text": [
            "{'module': 'keras.initializers', 'class_name': 'HeNormal', 'config': {'seed': None}, 'registered_name': None}\n",
            "{'module': 'keras.initializers', 'class_name': 'HeNormal', 'config': {'seed': None}, 'registered_name': None}\n"
          ]
        }
      ]
    },
    {
      "cell_type": "markdown",
      "source": [
        "### 4-2 규제\n",
        "\n",
        "텐서플로 케라스레이어는 기본값으로 규제를 적용하지 않는다."
      ],
      "metadata": {
        "id": "fGuaNqyjmgB_"
      }
    },
    {
      "cell_type": "code",
      "source": [
        "# 기본값\n",
        "dense = tf.keras.layers.Dense(256, activation='relu')\n",
        "dense.get_config()"
      ],
      "metadata": {
        "colab": {
          "base_uri": "https://localhost:8080/"
        },
        "id": "Y6tKtBsJjjvk",
        "outputId": "e4956377-1faa-4f8c-a121-45564ef69b99"
      },
      "execution_count": 5,
      "outputs": [
        {
          "output_type": "execute_result",
          "data": {
            "text/plain": [
              "{'name': 'dense_4',\n",
              " 'trainable': True,\n",
              " 'dtype': 'float32',\n",
              " 'units': 256,\n",
              " 'activation': 'relu',\n",
              " 'use_bias': True,\n",
              " 'kernel_initializer': {'module': 'keras.initializers',\n",
              "  'class_name': 'GlorotUniform',\n",
              "  'config': {'seed': None},\n",
              "  'registered_name': None},\n",
              " 'bias_initializer': {'module': 'keras.initializers',\n",
              "  'class_name': 'Zeros',\n",
              "  'config': {},\n",
              "  'registered_name': None},\n",
              " 'kernel_regularizer': None,\n",
              " 'bias_regularizer': None,\n",
              " 'activity_regularizer': None,\n",
              " 'kernel_constraint': None,\n",
              " 'bias_constraint': None}"
            ]
          },
          "metadata": {},
          "execution_count": 5
        }
      ]
    },
    {
      "cell_type": "markdown",
      "source": [
        "모델의 과대적합 방지를 위해 규제를 해주기 위해서는 kernel_regularizer 규제를 지정한다."
      ],
      "metadata": {
        "id": "T2zXgNLTmxiR"
      }
    },
    {
      "cell_type": "code",
      "source": [
        "# L1 규제 적용\n",
        "dense = tf.keras.layers.Dense(256, kernel_regularizer='l1', activation='relu')\n",
        "print(dense.get_config()['kernel_regularizer'])\n",
        "\n",
        "# 클래스 인스턴스 적용, alpha=0.1 변경\n",
        "regularizer = tf.keras.regularizers.l1(l1=0.1)\n",
        "dense = tf.keras.layers.Dense(256, kernel_regularizer=regularizer, activation='relu')\n",
        "print(dense.get_config()['kernel_regularizer'])"
      ],
      "metadata": {
        "colab": {
          "base_uri": "https://localhost:8080/"
        },
        "id": "FKX2-n_ajk9B",
        "outputId": "dde07463-0404-496e-8400-1894e8af0ee6"
      },
      "execution_count": 6,
      "outputs": [
        {
          "output_type": "stream",
          "name": "stdout",
          "text": [
            "{'module': 'keras.regularizers', 'class_name': 'L1', 'config': {'l1': 0.009999999776482582}, 'registered_name': None}\n",
            "{'module': 'keras.regularizers', 'class_name': 'L1', 'config': {'l1': 0.10000000149011612}, 'registered_name': None}\n"
          ]
        }
      ]
    },
    {
      "cell_type": "markdown",
      "source": [
        "###4-3 드롭아웃\n",
        "\n",
        "딥러닝모델의 큰 난제가 과대적합이다. 층이 넓고 깊어질때 샘플에 과도하게 적합하도록 학습하는 경우가 있다. -> 일부 신호를 임의로 삭제하면 모델이 쉽게 과적합되는것을 방지할 수 있다."
      ],
      "metadata": {
        "id": "Tx-dc9GFm4GM"
      }
    },
    {
      "cell_type": "code",
      "source": [
        "# dropout 25% 비율 적용 (25% 노드가 삭제)\n",
        "tf.keras.layers.Dropout(0.25)"
      ],
      "metadata": {
        "colab": {
          "base_uri": "https://localhost:8080/"
        },
        "id": "-u76JYlijmCM",
        "outputId": "e483c167-a9b0-4bc6-c94d-aedd4b3bb5ad"
      },
      "execution_count": 7,
      "outputs": [
        {
          "output_type": "execute_result",
          "data": {
            "text/plain": [
              "<keras.src.layers.regularization.dropout.Dropout at 0x7a35b6ac3850>"
            ]
          },
          "metadata": {},
          "execution_count": 7
        }
      ]
    },
    {
      "cell_type": "markdown",
      "source": [
        "### 4-4 배치정규화\n",
        "\n",
        "각 층에서 활성화 함수를 통과하기 전 미니 배치의 스케일을 정규화한다."
      ],
      "metadata": {
        "id": "Ygzyrwaoz6Tb"
      }
    },
    {
      "cell_type": "code",
      "source": [
        "# model A : Dense + ReLu\n",
        "model_a = tf.keras.Sequential([\n",
        "    tf.keras.layers.Flatten(input_shape=(28, 28)),\n",
        "    tf.keras.layers.Dense(64, activation='relu'),\n",
        "    tf.keras.layers.Dense(32, activation='relu'),\n",
        "    tf.keras.layers.Dense(10, activation='softmax')\n",
        "])\n",
        "model_a.summary()"
      ],
      "metadata": {
        "colab": {
          "base_uri": "https://localhost:8080/"
        },
        "id": "j50_1v6HjnLi",
        "outputId": "dfbd3001-c73b-4688-d7ae-7cec65dacfb9"
      },
      "execution_count": 8,
      "outputs": [
        {
          "output_type": "stream",
          "name": "stdout",
          "text": [
            "Model: \"sequential\"\n",
            "_________________________________________________________________\n",
            " Layer (type)                Output Shape              Param #   \n",
            "=================================================================\n",
            " flatten (Flatten)           (None, 784)               0         \n",
            "                                                                 \n",
            " dense_7 (Dense)             (None, 64)                50240     \n",
            "                                                                 \n",
            " dense_8 (Dense)             (None, 32)                2080      \n",
            "                                                                 \n",
            " dense_9 (Dense)             (None, 10)                330       \n",
            "                                                                 \n",
            "=================================================================\n",
            "Total params: 52650 (205.66 KB)\n",
            "Trainable params: 52650 (205.66 KB)\n",
            "Non-trainable params: 0 (0.00 Byte)\n",
            "_________________________________________________________________\n"
          ]
        }
      ]
    },
    {
      "cell_type": "code",
      "source": [
        "# model B : Dense + BatchNorm+ReLU\n",
        "model_b = tf.keras.Sequential([\n",
        "    tf.keras.layers.Flatten(input_shape=(28, 28)),\n",
        "    tf.keras.layers.Dense(64),\n",
        "    # 배치 정규화 적용\n",
        "    tf.keras.layers.BatchNormalization(),\n",
        "    # 배치 정규화 후 활성화 함수 적용\n",
        "    tf.keras.layers.Activation('relu'),\n",
        "\n",
        "    tf.keras.layers.Dense(32),\n",
        "    # 배치 정규화 적용\n",
        "    tf.keras.layers.BatchNormalization(),\n",
        "    # 배치 정규화 후 활성화 함수 적용\n",
        "    tf.keras.layers.Activation('relu'),\n",
        "\n",
        "    tf.keras.layers.Dense(10, activation='softmax')\n",
        "])\n",
        "model_b.summary()"
      ],
      "metadata": {
        "colab": {
          "base_uri": "https://localhost:8080/"
        },
        "id": "0hTyb3eFjpdD",
        "outputId": "543b69e8-ac5c-4b3d-c40d-ac0bf330bda8"
      },
      "execution_count": 9,
      "outputs": [
        {
          "output_type": "stream",
          "name": "stdout",
          "text": [
            "Model: \"sequential_1\"\n",
            "_________________________________________________________________\n",
            " Layer (type)                Output Shape              Param #   \n",
            "=================================================================\n",
            " flatten_1 (Flatten)         (None, 784)               0         \n",
            "                                                                 \n",
            " dense_10 (Dense)            (None, 64)                50240     \n",
            "                                                                 \n",
            " batch_normalization (Batch  (None, 64)                256       \n",
            " Normalization)                                                  \n",
            "                                                                 \n",
            " activation (Activation)     (None, 64)                0         \n",
            "                                                                 \n",
            " dense_11 (Dense)            (None, 32)                2080      \n",
            "                                                                 \n",
            " batch_normalization_1 (Bat  (None, 32)                128       \n",
            " chNormalization)                                                \n",
            "                                                                 \n",
            " activation_1 (Activation)   (None, 32)                0         \n",
            "                                                                 \n",
            " dense_12 (Dense)            (None, 10)                330       \n",
            "                                                                 \n",
            "=================================================================\n",
            "Total params: 53034 (207.16 KB)\n",
            "Trainable params: 52842 (206.41 KB)\n",
            "Non-trainable params: 192 (768.00 Byte)\n",
            "_________________________________________________________________\n"
          ]
        }
      ]
    },
    {
      "cell_type": "markdown",
      "source": [
        "###4-5 활성화함수\n",
        "\n",
        "Dense 레이어에 ReLU함수를 지정했다면 다른 활성화 함수를 적용해볼 수 있다."
      ],
      "metadata": {
        "id": "g06iLN8i0NPI"
      }
    },
    {
      "cell_type": "code",
      "source": [
        "# LeakyReLU 기본 설정\n",
        "tf.keras.layers.LeakyReLU()\n",
        "\n",
        "# LeakyReLU, alpha=0.2로 변경\n",
        "tf.keras.layers.LeakyReLU(alpha=0.2)"
      ],
      "metadata": {
        "colab": {
          "base_uri": "https://localhost:8080/"
        },
        "id": "lwMvxTJujrVF",
        "outputId": "e4efe891-f969-4537-8b92-e7b63ade67c5"
      },
      "execution_count": 10,
      "outputs": [
        {
          "output_type": "execute_result",
          "data": {
            "text/plain": [
              "<keras.src.layers.activation.leaky_relu.LeakyReLU at 0x7a35b39c3310>"
            ]
          },
          "metadata": {},
          "execution_count": 10
        }
      ]
    },
    {
      "cell_type": "code",
      "source": [
        "# model C : Dense + BatchNorm + LeakyReLU(0.2)\n",
        "model_c = tf.keras.Sequential([\n",
        "    tf.keras.layers.Flatten(input_shape=(28, 28)),\n",
        "    tf.keras.layers.Dense(64),\n",
        "    # 배치 정규화 적용\n",
        "    tf.keras.layers.BatchNormalization(),\n",
        "    # LeakyReLU, alpha=0.2 적용\n",
        "    tf.keras.layers.LeakyReLU(alpha=0.2),\n",
        "\n",
        "    tf.keras.layers.Dense(32),\n",
        "    # 배치 정규화 적용\n",
        "    tf.keras.layers.BatchNormalization(),\n",
        "    # LeakyReLU, alpha=0.2 적용\n",
        "    tf.keras.layers.LeakyReLU(alpha=0.2),\n",
        "\n",
        "    tf.keras.layers.Dense(10, activation='softmax')\n",
        "])\n",
        "\n",
        "# 모델 요약\n",
        "model_c.summary()"
      ],
      "metadata": {
        "colab": {
          "base_uri": "https://localhost:8080/"
        },
        "id": "mQQ2R3twjsh1",
        "outputId": "d2cab4d4-09f2-408d-b1ff-2d20458b15ee"
      },
      "execution_count": 11,
      "outputs": [
        {
          "output_type": "stream",
          "name": "stdout",
          "text": [
            "Model: \"sequential_2\"\n",
            "_________________________________________________________________\n",
            " Layer (type)                Output Shape              Param #   \n",
            "=================================================================\n",
            " flatten_2 (Flatten)         (None, 784)               0         \n",
            "                                                                 \n",
            " dense_13 (Dense)            (None, 64)                50240     \n",
            "                                                                 \n",
            " batch_normalization_2 (Bat  (None, 64)                256       \n",
            " chNormalization)                                                \n",
            "                                                                 \n",
            " leaky_re_lu_2 (LeakyReLU)   (None, 64)                0         \n",
            "                                                                 \n",
            " dense_14 (Dense)            (None, 32)                2080      \n",
            "                                                                 \n",
            " batch_normalization_3 (Bat  (None, 32)                128       \n",
            " chNormalization)                                                \n",
            "                                                                 \n",
            " leaky_re_lu_3 (LeakyReLU)   (None, 32)                0         \n",
            "                                                                 \n",
            " dense_15 (Dense)            (None, 10)                330       \n",
            "                                                                 \n",
            "=================================================================\n",
            "Total params: 53034 (207.16 KB)\n",
            "Trainable params: 52842 (206.41 KB)\n",
            "Non-trainable params: 192 (768.00 Byte)\n",
            "_________________________________________________________________\n"
          ]
        }
      ]
    },
    {
      "cell_type": "markdown",
      "source": [
        "- model_a: Dense 레이어+ReLU활성화 함수\n",
        "- model_b: Dense 레이어+배치 정규화\n",
        "- model_c: Dense 레이어+배치 정규화_LeakyReLU(0,2)활성화 함수"
      ],
      "metadata": {
        "id": "s4pMTyK40d4P"
      }
    },
    {
      "cell_type": "code",
      "source": [
        "model_a.compile(optimizer='adam', loss='sparse_categorical_crossentropy', metrics=['accuracy'])\n",
        "model_b.compile(optimizer='adam', loss='sparse_categorical_crossentropy', metrics=['accuracy'])\n",
        "model_c.compile(optimizer='adam', loss='sparse_categorical_crossentropy', metrics=['accuracy'])\n",
        "\n",
        "# Model A : Dense + ReLU\n",
        "history_a = model_a.fit(x_train, y_train,\n",
        "                      validation_data=(x_test, y_test),\n",
        "                      epochs=10)\n",
        "\n",
        "# Model B : Dense + BatchNorm + ReLU\n",
        "history_b = model_b.fit(x_train, y_train,\n",
        "                      validation_data=(x_test, y_test),\n",
        "                        epochs=10)\n",
        "\n",
        "# Model C : Dense + BatchNorm + LeakyReLU(0,2)\n",
        "history_c = model_c.fit(x_train, y_train,\n",
        "                      validation_data=(x_test, y_test),\n",
        "                        epochs=10)"
      ],
      "metadata": {
        "colab": {
          "base_uri": "https://localhost:8080/"
        },
        "id": "XMgR1v2XjtkO",
        "outputId": "372c468c-49f6-48ba-874d-e1389e0ffe4f"
      },
      "execution_count": 12,
      "outputs": [
        {
          "output_type": "stream",
          "name": "stdout",
          "text": [
            "Epoch 1/10\n",
            "1875/1875 [==============================] - 9s 4ms/step - loss: 0.2944 - accuracy: 0.9154 - val_loss: 0.1547 - val_accuracy: 0.9546\n",
            "Epoch 2/10\n",
            "1875/1875 [==============================] - 10s 5ms/step - loss: 0.1418 - accuracy: 0.9581 - val_loss: 0.1194 - val_accuracy: 0.9646\n",
            "Epoch 3/10\n",
            "1875/1875 [==============================] - 8s 4ms/step - loss: 0.1027 - accuracy: 0.9693 - val_loss: 0.1043 - val_accuracy: 0.9676\n",
            "Epoch 4/10\n",
            "1875/1875 [==============================] - 9s 5ms/step - loss: 0.0807 - accuracy: 0.9754 - val_loss: 0.0990 - val_accuracy: 0.9703\n",
            "Epoch 5/10\n",
            "1875/1875 [==============================] - 10s 5ms/step - loss: 0.0655 - accuracy: 0.9797 - val_loss: 0.0975 - val_accuracy: 0.9712\n",
            "Epoch 6/10\n",
            "1875/1875 [==============================] - 8s 4ms/step - loss: 0.0565 - accuracy: 0.9824 - val_loss: 0.0892 - val_accuracy: 0.9740\n",
            "Epoch 7/10\n",
            "1875/1875 [==============================] - 12s 6ms/step - loss: 0.0478 - accuracy: 0.9846 - val_loss: 0.0905 - val_accuracy: 0.9741\n",
            "Epoch 8/10\n",
            "1875/1875 [==============================] - 7s 4ms/step - loss: 0.0414 - accuracy: 0.9869 - val_loss: 0.0940 - val_accuracy: 0.9735\n",
            "Epoch 9/10\n",
            "1875/1875 [==============================] - 12s 6ms/step - loss: 0.0359 - accuracy: 0.9885 - val_loss: 0.0976 - val_accuracy: 0.9724\n",
            "Epoch 10/10\n",
            "1875/1875 [==============================] - 11s 6ms/step - loss: 0.0317 - accuracy: 0.9896 - val_loss: 0.1068 - val_accuracy: 0.9740\n",
            "Epoch 1/10\n",
            "1875/1875 [==============================] - 9s 4ms/step - loss: 0.3208 - accuracy: 0.9125 - val_loss: 0.1398 - val_accuracy: 0.9578\n",
            "Epoch 2/10\n",
            "1875/1875 [==============================] - 9s 5ms/step - loss: 0.1418 - accuracy: 0.9571 - val_loss: 0.0976 - val_accuracy: 0.9692\n",
            "Epoch 3/10\n",
            "1875/1875 [==============================] - 9s 5ms/step - loss: 0.1097 - accuracy: 0.9659 - val_loss: 0.0940 - val_accuracy: 0.9704\n",
            "Epoch 4/10\n",
            "1875/1875 [==============================] - 8s 4ms/step - loss: 0.0934 - accuracy: 0.9707 - val_loss: 0.0817 - val_accuracy: 0.9748\n",
            "Epoch 5/10\n",
            "1875/1875 [==============================] - 9s 5ms/step - loss: 0.0824 - accuracy: 0.9736 - val_loss: 0.0824 - val_accuracy: 0.9738\n",
            "Epoch 6/10\n",
            "1875/1875 [==============================] - 8s 4ms/step - loss: 0.0726 - accuracy: 0.9769 - val_loss: 0.0759 - val_accuracy: 0.9772\n",
            "Epoch 7/10\n",
            "1875/1875 [==============================] - 9s 5ms/step - loss: 0.0666 - accuracy: 0.9781 - val_loss: 0.0744 - val_accuracy: 0.9770\n",
            "Epoch 8/10\n",
            "1875/1875 [==============================] - 9s 5ms/step - loss: 0.0599 - accuracy: 0.9808 - val_loss: 0.0727 - val_accuracy: 0.9780\n",
            "Epoch 9/10\n",
            "1875/1875 [==============================] - 8s 4ms/step - loss: 0.0552 - accuracy: 0.9817 - val_loss: 0.0736 - val_accuracy: 0.9762\n",
            "Epoch 10/10\n",
            "1875/1875 [==============================] - 9s 5ms/step - loss: 0.0518 - accuracy: 0.9824 - val_loss: 0.0741 - val_accuracy: 0.9766\n",
            "Epoch 1/10\n",
            "1875/1875 [==============================] - 11s 5ms/step - loss: 0.3250 - accuracy: 0.9085 - val_loss: 0.1416 - val_accuracy: 0.9578\n",
            "Epoch 2/10\n",
            "1875/1875 [==============================] - 7s 4ms/step - loss: 0.1566 - accuracy: 0.9527 - val_loss: 0.1173 - val_accuracy: 0.9651\n",
            "Epoch 3/10\n",
            "1875/1875 [==============================] - 9s 5ms/step - loss: 0.1238 - accuracy: 0.9619 - val_loss: 0.0946 - val_accuracy: 0.9710\n",
            "Epoch 4/10\n",
            "1875/1875 [==============================] - 8s 4ms/step - loss: 0.1052 - accuracy: 0.9669 - val_loss: 0.0926 - val_accuracy: 0.9723\n",
            "Epoch 5/10\n",
            "1875/1875 [==============================] - 8s 4ms/step - loss: 0.0928 - accuracy: 0.9703 - val_loss: 0.0859 - val_accuracy: 0.9748\n",
            "Epoch 6/10\n",
            "1875/1875 [==============================] - 9s 5ms/step - loss: 0.0836 - accuracy: 0.9727 - val_loss: 0.0879 - val_accuracy: 0.9730\n",
            "Epoch 7/10\n",
            "1875/1875 [==============================] - 8s 4ms/step - loss: 0.0763 - accuracy: 0.9754 - val_loss: 0.0876 - val_accuracy: 0.9734\n",
            "Epoch 8/10\n",
            "1875/1875 [==============================] - 9s 5ms/step - loss: 0.0704 - accuracy: 0.9770 - val_loss: 0.0909 - val_accuracy: 0.9731\n",
            "Epoch 9/10\n",
            "1875/1875 [==============================] - 8s 4ms/step - loss: 0.0670 - accuracy: 0.9780 - val_loss: 0.0806 - val_accuracy: 0.9761\n",
            "Epoch 10/10\n",
            "1875/1875 [==============================] - 8s 4ms/step - loss: 0.0641 - accuracy: 0.9792 - val_loss: 0.0839 - val_accuracy: 0.9748\n"
          ]
        }
      ]
    },
    {
      "cell_type": "code",
      "source": [
        "import matplotlib.pyplot as plt\n",
        "import numpy as np\n",
        "\n",
        "plt.figure(figsize=(12, 9))\n",
        "plt.plot(np.arange(1, 11), history_a.history['val_loss'], color='navy', linestyle=':')\n",
        "plt.plot(np.arange(1, 11), history_b.history['val_loss'], color='tomato', linestyle='-.')\n",
        "plt.plot(np.arange(1, 11), history_c.history['val_loss'], color='green', linestyle='-')\n",
        "\n",
        "plt.title('Losses', fontsize=20)\n",
        "plt.xlabel('epochs')\n",
        "plt.ylabel('Losses')\n",
        "plt.legend(['ReLU', 'BatchNorm+ReLU', 'BatchNorm+LeakyReLU'], fontsize=12)\n",
        "plt.show()"
      ],
      "metadata": {
        "colab": {
          "base_uri": "https://localhost:8080/",
          "height": 585
        },
        "id": "wbV7B8UWjvnE",
        "outputId": "b76a645f-ddfd-411e-d4be-d1295701d290"
      },
      "execution_count": 13,
      "outputs": [
        {
          "output_type": "display_data",
          "data": {
            "text/plain": [
              "<Figure size 1200x900 with 1 Axes>"
            ],
            "image/png": "[encoded data removed]"
          },
          "metadata": {}
        }
      ]
    },
    {
      "cell_type": "markdown",
      "source": [
        "###**06 모델 저장 및 불러오기**\n",
        "\n",
        "###6-1 모델을 파일로 저장\n"
      ],
      "metadata": {
        "id": "pPkORJf10yWa"
      }
    },
    {
      "cell_type": "code",
      "source": [
        "# 모델을 h5 포맷으로 저장\n",
        "model_b.save('h5-model.h5')"
      ],
      "metadata": {
        "colab": {
          "base_uri": "https://localhost:8080/"
        },
        "id": "Xs-ZSVcUjw_8",
        "outputId": "9d0f4af9-1904-458e-d4a5-1626fe488917"
      },
      "execution_count": 14,
      "outputs": [
        {
          "output_type": "stream",
          "name": "stderr",
          "text": [
            "/usr/local/lib/python3.10/dist-packages/keras/src/engine/training.py:3079: UserWarning: You are saving your model as an HDF5 file via `model.save()`. This file format is considered legacy. We recommend using instead the native Keras format, e.g. `model.save('my_model.keras')`.\n",
            "  saving_api.save_model(\n"
          ]
        }
      ]
    },
    {
      "cell_type": "markdown",
      "source": [
        "###6-2 저장된 모델 복원\n",
        "\n",
        "저장된 HDF5파일 형식의 모델을  복원하여 summary()를 확인하면 모델구조가 복원되어있다."
      ],
      "metadata": {
        "id": "pzWaiGCG2My_"
      }
    },
    {
      "cell_type": "code",
      "source": [
        "# 모델 복원\n",
        "h5_model = tf.keras.models.load_model('h5-model.h5')\n",
        "h5_model.summary()"
      ],
      "metadata": {
        "colab": {
          "base_uri": "https://localhost:8080/"
        },
        "id": "M0lJJcgVjyaK",
        "outputId": "a54f9859-ecd2-4458-c075-ad652abc0a75"
      },
      "execution_count": 15,
      "outputs": [
        {
          "output_type": "stream",
          "name": "stdout",
          "text": [
            "Model: \"sequential_1\"\n",
            "_________________________________________________________________\n",
            " Layer (type)                Output Shape              Param #   \n",
            "=================================================================\n",
            " flatten_1 (Flatten)         (None, 784)               0         \n",
            "                                                                 \n",
            " dense_10 (Dense)            (None, 64)                50240     \n",
            "                                                                 \n",
            " batch_normalization (Batch  (None, 64)                256       \n",
            " Normalization)                                                  \n",
            "                                                                 \n",
            " activation (Activation)     (None, 64)                0         \n",
            "                                                                 \n",
            " dense_11 (Dense)            (None, 32)                2080      \n",
            "                                                                 \n",
            " batch_normalization_1 (Bat  (None, 32)                128       \n",
            " chNormalization)                                                \n",
            "                                                                 \n",
            " activation_1 (Activation)   (None, 32)                0         \n",
            "                                                                 \n",
            " dense_12 (Dense)            (None, 10)                330       \n",
            "                                                                 \n",
            "=================================================================\n",
            "Total params: 53034 (207.16 KB)\n",
            "Trainable params: 52842 (206.41 KB)\n",
            "Non-trainable params: 192 (768.00 Byte)\n",
            "_________________________________________________________________\n"
          ]
        }
      ]
    },
    {
      "cell_type": "code",
      "source": [
        "# 모델 검증\n",
        "loss, acc = h5_model.evaluate(x_test, y_test, verbose=0)\n",
        "print(f'h5_model] loss: {loss:.5f}, acc: {acc:.5f}')"
      ],
      "metadata": {
        "colab": {
          "base_uri": "https://localhost:8080/"
        },
        "id": "bVSYjPVXjzeB",
        "outputId": "b0c0212d-472e-4b3b-f91a-7d572f49fc58"
      },
      "execution_count": 16,
      "outputs": [
        {
          "output_type": "stream",
          "name": "stdout",
          "text": [
            "h5_model] loss: 0.07408, acc: 0.97660\n"
          ]
        }
      ]
    },
    {
      "cell_type": "code",
      "source": [
        "# 모델을 SavedModel 포맷으로 저장\n",
        "model_b.save('saved-model')"
      ],
      "metadata": {
        "id": "1hXWwMRKj0u6"
      },
      "execution_count": 17,
      "outputs": []
    },
    {
      "cell_type": "code",
      "source": [
        "# 모델 복원\n",
        "saved_model = tf.keras.models.load_model('saved-model')\n",
        "saved_model.summary()"
      ],
      "metadata": {
        "colab": {
          "base_uri": "https://localhost:8080/"
        },
        "id": "MB29ksghj1jT",
        "outputId": "39c1a242-6c85-4f2c-cb39-f07f52496708"
      },
      "execution_count": 18,
      "outputs": [
        {
          "output_type": "stream",
          "name": "stdout",
          "text": [
            "Model: \"sequential_1\"\n",
            "_________________________________________________________________\n",
            " Layer (type)                Output Shape              Param #   \n",
            "=================================================================\n",
            " flatten_1 (Flatten)         (None, 784)               0         \n",
            "                                                                 \n",
            " dense_10 (Dense)            (None, 64)                50240     \n",
            "                                                                 \n",
            " batch_normalization (Batch  (None, 64)                256       \n",
            " Normalization)                                                  \n",
            "                                                                 \n",
            " activation (Activation)     (None, 64)                0         \n",
            "                                                                 \n",
            " dense_11 (Dense)            (None, 32)                2080      \n",
            "                                                                 \n",
            " batch_normalization_1 (Bat  (None, 32)                128       \n",
            " chNormalization)                                                \n",
            "                                                                 \n",
            " activation_1 (Activation)   (None, 32)                0         \n",
            "                                                                 \n",
            " dense_12 (Dense)            (None, 10)                330       \n",
            "                                                                 \n",
            "=================================================================\n",
            "Total params: 53034 (207.16 KB)\n",
            "Trainable params: 52842 (206.41 KB)\n",
            "Non-trainable params: 192 (768.00 Byte)\n",
            "_________________________________________________________________\n"
          ]
        }
      ]
    },
    {
      "cell_type": "code",
      "source": [
        "# 모델 검증(HDF5 포맷)\n",
        "loss, acc = h5_model.evaluate(x_test, y_test, verbose=0)\n",
        "print(f'h5_model] loss: {loss:.5f}, acc: {acc:.5f}')\n",
        "\n",
        "# 모델 검증(SavedModel 포맷)\n",
        "loss, acc = saved_model.evaluate(x_test, y_test, verbose= 0)\n",
        "print(f'saved_model] loss: {loss:.5f}, acc: {acc:.5f}')"
      ],
      "metadata": {
        "colab": {
          "base_uri": "https://localhost:8080/"
        },
        "id": "PaSir9i0j3KE",
        "outputId": "1f020d4a-bbc3-4db8-e03e-471c4c1167b4"
      },
      "execution_count": 19,
      "outputs": [
        {
          "output_type": "stream",
          "name": "stdout",
          "text": [
            "h5_model] loss: 0.07408, acc: 0.97660\n",
            "saved_model] loss: 0.07408, acc: 0.97660\n"
          ]
        }
      ]
    },
    {
      "cell_type": "markdown",
      "source": [
        "###**07 복잡한 모델 생성**\n",
        "\n",
        "###7-1 함수형 API\n",
        "![image.png](data:image/png;base64,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)"
      ],
      "metadata": {
        "id": "Txnxeubo33s8"
      }
    },
    {
      "cell_type": "code",
      "source": [
        "import tensorflow as tf\n",
        "\n",
        "# 모델의 레이어를 체인 구조로 연결 input 레이어 정의\n",
        "input_layer = tf.keras.Input(shape=(28, 28), name='InputLayer')\n",
        "\n",
        "# 모델의 레이어를 체인 구조로 연결\n",
        "x1 = tf.keras.layers.Flatten(name='Flatten')(input_layer)\n",
        "x2 = tf.keras.layers.Dense(256, activation='relu', name='Dense1')(x1)\n",
        "x3 = tf.keras.layers.Dense(64, activation='relu', name='Dense2')(x2)\n",
        "x4 = tf.keras.layers.Dense(10, activation='softmax', name='OutputLayer')(x3)"
      ],
      "metadata": {
        "id": "iby2TPdOj4PY"
      },
      "execution_count": 20,
      "outputs": []
    },
    {
      "cell_type": "code",
      "source": [
        "# 모델 생성\n",
        "func_model = tf.keras.Model(inputs=input_layer, outputs=x4, name='FunctionalModel')\n",
        "\n",
        "# 모델 요약\n",
        "func_model.summary()"
      ],
      "metadata": {
        "colab": {
          "base_uri": "https://localhost:8080/"
        },
        "id": "WJ9D6fP9j5HI",
        "outputId": "01524582-4464-4e14-abcb-b03ce5b27146"
      },
      "execution_count": 21,
      "outputs": [
        {
          "output_type": "stream",
          "name": "stdout",
          "text": [
            "Model: \"FunctionalModel\"\n",
            "_________________________________________________________________\n",
            " Layer (type)                Output Shape              Param #   \n",
            "=================================================================\n",
            " InputLayer (InputLayer)     [(None, 28, 28)]          0         \n",
            "                                                                 \n",
            " Flatten (Flatten)           (None, 784)               0         \n",
            "                                                                 \n",
            " Dense1 (Dense)              (None, 256)               200960    \n",
            "                                                                 \n",
            " Dense2 (Dense)              (None, 64)                16448     \n",
            "                                                                 \n",
            " OutputLayer (Dense)         (None, 10)                650       \n",
            "                                                                 \n",
            "=================================================================\n",
            "Total params: 218058 (851.79 KB)\n",
            "Trainable params: 218058 (851.79 KB)\n",
            "Non-trainable params: 0 (0.00 Byte)\n",
            "_________________________________________________________________\n"
          ]
        }
      ]
    },
    {
      "cell_type": "code",
      "source": [
        "from tensorflow.keras.utils import plot_model\n",
        "\n",
        "# 구조도 시각화\n",
        "plot_model(func_model, show_shapes=True, show_layer_names=True, to_file='model.png')"
      ],
      "metadata": {
        "colab": {
          "base_uri": "https://localhost:8080/",
          "height": 533
        },
        "id": "QCzoDgiZj6gQ",
        "outputId": "ece4dd5a-34ce-487c-e90d-803db90141f7"
      },
      "execution_count": 22,
      "outputs": [
        {
          "output_type": "execute_result",
          "data": {
            "image/png": "[encoded data removed]",
            "text/plain": [
              "<IPython.core.display.Image object>"
            ]
          },
          "metadata": {},
          "execution_count": 22
        }
      ]
    },
    {
      "cell_type": "markdown",
      "source": [
        "plot_model()에 모델을 지정하면 구조도가 출력된다. show_shapes=True로 지정하면 데이터의 입출력 shape를 출력하고 show_layer_names=True로 지정하면 레이어의 이름을 출력한다."
      ],
      "metadata": {
        "id": "3d_RCePO49mI"
      }
    },
    {
      "cell_type": "code",
      "source": [
        "# 컴파일\n",
        "func_model.compile(optimizer='adam', loss='sparse_categorical_crossentropy', metrics=['accuracy'])\n",
        "\n",
        "# 훈련\n",
        "func_model.fit(x_train, y_train, epochs=3)\n",
        "\n",
        "# 검증\n",
        "loss, acc = func_model.evaluate(x_test, y_test, verbose=0)\n",
        "print(f'Functional Model] loss: {loss:.5f}, acc: {acc:.5f}')"
      ],
      "metadata": {
        "colab": {
          "base_uri": "https://localhost:8080/"
        },
        "id": "XhvUI7l4j7hd",
        "outputId": "e5ab3aa3-262e-4ae4-93bb-f6c4276f0090"
      },
      "execution_count": 23,
      "outputs": [
        {
          "output_type": "stream",
          "name": "stdout",
          "text": [
            "Epoch 1/3\n",
            "1875/1875 [==============================] - 16s 8ms/step - loss: 0.2133 - accuracy: 0.9364\n",
            "Epoch 2/3\n",
            "1875/1875 [==============================] - 11s 6ms/step - loss: 0.0888 - accuracy: 0.9738\n",
            "Epoch 3/3\n",
            "1875/1875 [==============================] - 13s 7ms/step - loss: 0.0595 - accuracy: 0.9814\n",
            "Functional Model] loss: 0.07747, acc: 0.97620\n"
          ]
        }
      ]
    },
    {
      "cell_type": "markdown",
      "source": [
        "###7-2 모델 서브클래싱\n",
        "\n",
        "Model Subclassing으로 모델 인스턴스를 생성하기 위해서는 tf.keras.Model을 상속받아 생성하고자하는 모델 클래스를 구현한다."
      ],
      "metadata": {
        "id": "5EDFTU564cDU"
      }
    },
    {
      "cell_type": "code",
      "source": [
        "class MyModel(tf.keras.Model):\n",
        "  def __init__(self):\n",
        "    super(MyModel, self).__init__()\n",
        "    # 초기값 설정\n",
        "    self.flatten = tf.keras.layers.Flatten()\n",
        "    self.dense1 = tf.keras.layers.Dense(256, activation='relu')\n",
        "    self.dense2 = tf.keras.layers.Dense(64, activation='relu')\n",
        "    self.dense3 = tf.keras.layers.Dense(10, activation='softmax')\n",
        "\n",
        "  # method overiding\n",
        "  # 훈련용 함수 정의\n",
        "  # x는 input\n",
        "  def call(self, x):\n",
        "    x = self.flatten(x)\n",
        "    x = self.dense1(x)\n",
        "    x = self.dense2(x)\n",
        "    x = self.dense3(x)\n",
        "    return x"
      ],
      "metadata": {
        "id": "nvF0Nhtvj8dx"
      },
      "execution_count": 24,
      "outputs": []
    },
    {
      "cell_type": "markdown",
      "source": [
        "call()함수를 메소드 오버라이딩으로 구현한다. call()메소드는 fit()메소드가 호출되어 훈련하는 경우 호출될 함수이다. 마지막 최종 출력값을 return한다."
      ],
      "metadata": {
        "id": "GpX-UejE5MZk"
      }
    },
    {
      "cell_type": "code",
      "source": [
        "# 모델 생성\n",
        "mymodel = MyModel()\n",
        "\n",
        "# 모델의 이름 설정\n",
        "mymodel._name = 'subclass_model'\n",
        "\n",
        "# 모델 input 정의\n",
        "mymodel(tf.keras.layers.Input(shape=(28, 28)))\n",
        "\n",
        "# 모델 요약\n",
        "mymodel.summary()"
      ],
      "metadata": {
        "colab": {
          "base_uri": "https://localhost:8080/"
        },
        "id": "w1uVzu7kj9Uc",
        "outputId": "5727ccef-ec8e-4acf-dd71-39eb130d18f6"
      },
      "execution_count": 25,
      "outputs": [
        {
          "output_type": "stream",
          "name": "stdout",
          "text": [
            "Model: \"subclass_model\"\n",
            "_________________________________________________________________\n",
            " Layer (type)                Output Shape              Param #   \n",
            "=================================================================\n",
            " flatten_3 (Flatten)         multiple                  0         \n",
            "                                                                 \n",
            " dense_16 (Dense)            multiple                  200960    \n",
            "                                                                 \n",
            " dense_17 (Dense)            multiple                  16448     \n",
            "                                                                 \n",
            " dense_18 (Dense)            multiple                  650       \n",
            "                                                                 \n",
            "=================================================================\n",
            "Total params: 218058 (851.79 KB)\n",
            "Trainable params: 218058 (851.79 KB)\n",
            "Non-trainable params: 0 (0.00 Byte)\n",
            "_________________________________________________________________\n"
          ]
        }
      ]
    },
    {
      "cell_type": "code",
      "source": [
        "# 컴파일\n",
        "mymodel.compile(optimizer='adam', loss='sparse_categorical_crossentropy', metrics=['accuracy'])\n",
        "\n",
        "# 훈련\n",
        "mymodel.fit(x_train, y_train, epochs=3)\n",
        "\n",
        "# 검증\n",
        "loss, acc = mymodel.evaluate(x_test, y_test, verbose=0)\n",
        "print(f'Subclassing Model] loss: {loss:.5f}, acc: {acc:.5f}')"
      ],
      "metadata": {
        "colab": {
          "base_uri": "https://localhost:8080/"
        },
        "id": "l_d63O-sj-4e",
        "outputId": "957af97d-a958-4f65-a995-4e313977f344"
      },
      "execution_count": 26,
      "outputs": [
        {
          "output_type": "stream",
          "name": "stdout",
          "text": [
            "Epoch 1/3\n",
            "1875/1875 [==============================] - 14s 7ms/step - loss: 0.2097 - accuracy: 0.9384\n",
            "Epoch 2/3\n",
            "1875/1875 [==============================] - 16s 8ms/step - loss: 0.0879 - accuracy: 0.9728\n",
            "Epoch 3/3\n",
            "1875/1875 [==============================] - 11s 6ms/step - loss: 0.0589 - accuracy: 0.9814\n",
            "Subclassing Model] loss: 0.08465, acc: 0.97350\n"
          ]
        }
      ]
    },
    {
      "cell_type": "markdown",
      "source": [
        "compile()메소드로 컴파일 후 fit()메소드로 동일하게 훈련한다. 서브클래싱모델은 모델 생성에만 방식에 차이가 있다."
      ],
      "metadata": {
        "id": "aovu81dm5XdH"
      }
    },
    {
      "cell_type": "markdown",
      "source": [
        "###7-3 서브클래싱 모델 파라미터를 활용한 생성"
      ],
      "metadata": {
        "id": "01jj5fB94tS4"
      }
    },
    {
      "cell_type": "code",
      "source": [
        "class MyModel(tf.keras.Model):\n",
        "\n",
        "  # 생성자 파라미터 추가\n",
        "  def __init__(self, units, num_classes):\n",
        "    super(MyModel, self).__init__()\n",
        "    # 초기값 설정\n",
        "    self.flatten = tf.keras.layers.Flatten()\n",
        "    self.dense1 = tf.keras.layers.Dense(units, activation='relu')\n",
        "    self.dense2 = tf.keras.layers.Dense(units/4, activation='relu')\n",
        "    self.dense3 = tf.keras.layers.Dense(num_classes, activation='softmax')\n",
        "\n",
        "  # class overiding\n",
        "  # 훈련용 함수 정의\n",
        "  # x는 input\n",
        "  def call(self, x):\n",
        "    x = self.flatten(x)\n",
        "    x = self.dense1(x)\n",
        "    x = self.dense2(x)\n",
        "    x = self.dense3(x)\n",
        "    return x"
      ],
      "metadata": {
        "id": "rsqxv_Aej_7Z"
      },
      "execution_count": 27,
      "outputs": []
    },
    {
      "cell_type": "code",
      "source": [
        "# 모델 생성\n",
        "mymodel = MyModel(256, 10)\n",
        "\n",
        "# 모델 input 정의\n",
        "mymodel(tf.keras.layers.Input(shape=(28, 28)))\n",
        "\n",
        "# 모델 요약\n",
        "mymodel.summary()"
      ],
      "metadata": {
        "colab": {
          "base_uri": "https://localhost:8080/"
        },
        "id": "SQ7ph04fkAul",
        "outputId": "5b724043-c344-4881-cc82-326fa7f898b5"
      },
      "execution_count": 28,
      "outputs": [
        {
          "output_type": "stream",
          "name": "stdout",
          "text": [
            "Model: \"my_model_1\"\n",
            "_________________________________________________________________\n",
            " Layer (type)                Output Shape              Param #   \n",
            "=================================================================\n",
            " flatten_4 (Flatten)         multiple                  0         \n",
            "                                                                 \n",
            " dense_19 (Dense)            multiple                  200960    \n",
            "                                                                 \n",
            " dense_20 (Dense)            multiple                  16448     \n",
            "                                                                 \n",
            " dense_21 (Dense)            multiple                  650       \n",
            "                                                                 \n",
            "=================================================================\n",
            "Total params: 218058 (851.79 KB)\n",
            "Trainable params: 218058 (851.79 KB)\n",
            "Non-trainable params: 0 (0.00 Byte)\n",
            "_________________________________________________________________\n"
          ]
        }
      ]
    },
    {
      "cell_type": "code",
      "source": [
        "# 컴파일\n",
        "mymodel.compile(optimizer='adam', loss='sparse_categorical_crossentropy', metrics=['accuracy'])\n",
        "\n",
        "# 훈련\n",
        "mymodel.fit(x_train, y_train, epochs=3)\n",
        "\n",
        "# 검증\n",
        "loss, acc = mymodel.evaluate(x_test, y_test, verbose=0)\n",
        "print(f'Subclassing Model w.parameters] loss: {loss:.5f}, acc: {acc:.5f}')"
      ],
      "metadata": {
        "colab": {
          "base_uri": "https://localhost:8080/"
        },
        "id": "kjVdE5kakBxI",
        "outputId": "7fb44a40-2a32-4842-8437-8d28ed533eca"
      },
      "execution_count": 29,
      "outputs": [
        {
          "output_type": "stream",
          "name": "stdout",
          "text": [
            "Epoch 1/3\n",
            "1875/1875 [==============================] - 12s 6ms/step - loss: 0.2122 - accuracy: 0.9367\n",
            "Epoch 2/3\n",
            "1875/1875 [==============================] - 13s 7ms/step - loss: 0.0866 - accuracy: 0.9731\n",
            "Epoch 3/3\n",
            "1875/1875 [==============================] - 13s 7ms/step - loss: 0.0598 - accuracy: 0.9817\n",
            "Subclassing Model w.parameters] loss: 0.07691, acc: 0.97580\n"
          ]
        }
      ]
    }
  ]
}