{
  "cells": [
    {
      "cell_type": "markdown",
      "metadata": {
        "id": "view-in-github",
        "colab_type": "text"
      },
      "source": [
        "<a href=\"https://colab.research.google.com/github/daa103/DAA_ESAA/blob/main/SSL_self_training_LightGBM.ipynb\" target=\"_parent\"><img src=\"https://colab.research.google.com/assets/colab-badge.svg\" alt=\"Open In Colab\"/></a>"
      ]
    },
    {
      "cell_type": "code",
      "execution_count": null,
      "metadata": {
        "id": "GvmgS5WL1PA3"
      },
      "outputs": [],
      "source": [
        "import pandas as pd\n",
        "import numpy as np\n",
        "import seaborn as sns\n",
        "import matplotlib.pyplot as plt\n",
        "import random\n",
        "\n",
        "# os 관리를 위한 라이브러리\n",
        "import os\n",
        "import gc"
      ]
    },
    {
      "cell_type": "code",
      "execution_count": null,
      "metadata": {
        "id": "F3ReLFzdENUn"
      },
      "outputs": [],
      "source": [
        "# 경고메세지 끄기\n",
        "\n",
        "import warnings\n",
        "warnings.filterwarnings(action = 'ignore')"
      ]
    },
    {
      "cell_type": "code",
      "execution_count": null,
      "metadata": {
        "id": "hE_mZARV1XVw"
      },
      "outputs": [],
      "source": [
        "def seed_everything(seed):\n",
        "    random.seed(seed)\n",
        "    os.environ['PYTHONHASHSEED'] = str(seed)\n",
        "    np.random.seed(seed)"
      ]
    },
    {
      "cell_type": "code",
      "execution_count": null,
      "metadata": {
        "id": "J-gi90JG1YQa"
      },
      "outputs": [],
      "source": [
        "seed_everything(42) # Seed 고정"
      ]
    },
    {
      "cell_type": "code",
      "execution_count": null,
      "metadata": {
        "id": "wfw0vjZx1ZFl"
      },
      "outputs": [],
      "source": [
        "### 전처리된 파일 불러오기\n",
        "\n",
        "train = pd.read_parquet('./data/train_pre.parquet')\n",
        "test = pd.read_parquet('./data/test_pre.parquet')\n",
        "sample_submission = pd.read_csv('./data/sample_submission.csv', index_col = 0)"
      ]
    },
    {
      "cell_type": "code",
      "execution_count": null,
      "metadata": {
        "colab": {
          "base_uri": "https://localhost:8080/",
          "height": 143
        },
        "id": "MHzSPkol_2Ym",
        "outputId": "35e02989-337e-45be-8901-bb7b65ef319b"
      },
      "outputs": [
        {
          "data": {
            "text/html": [
              "<div>\n",
              "<style scoped>\n",
              "    .dataframe tbody tr th:only-of-type {\n",
              "        vertical-align: middle;\n",
              "    }\n",
              "\n",
              "    .dataframe tbody tr th {\n",
              "        vertical-align: top;\n",
              "    }\n",
              "\n",
              "    .dataframe thead th {\n",
              "        text-align: right;\n",
              "    }\n",
              "</style>\n",
              "<table border=\"1\" class=\"dataframe\">\n",
              "  <thead>\n",
              "    <tr style=\"text-align: right;\">\n",
              "      <th></th>\n",
              "      <th>Month</th>\n",
              "      <th>Estimated_Departure_Time</th>\n",
              "      <th>Estimated_Arrival_Time</th>\n",
              "      <th>Origin_Airport_ID</th>\n",
              "      <th>Destination_Airport_ID</th>\n",
              "      <th>Distance</th>\n",
              "      <th>Carrier_ID(DOT)</th>\n",
              "      <th>Tail_Number</th>\n",
              "      <th>Delay</th>\n",
              "      <th>Holiday</th>\n",
              "    </tr>\n",
              "  </thead>\n",
              "  <tbody>\n",
              "    <tr>\n",
              "      <th>1</th>\n",
              "      <td>8</td>\n",
              "      <td>460</td>\n",
              "      <td>624</td>\n",
              "      <td>13930</td>\n",
              "      <td>14869</td>\n",
              "      <td>1250.0</td>\n",
              "      <td>20304</td>\n",
              "      <td>310</td>\n",
              "      <td>NaN</td>\n",
              "      <td>0</td>\n",
              "    </tr>\n",
              "    <tr>\n",
              "      <th>4</th>\n",
              "      <td>1</td>\n",
              "      <td>540</td>\n",
              "      <td>619</td>\n",
              "      <td>14771</td>\n",
              "      <td>10157</td>\n",
              "      <td>250.0</td>\n",
              "      <td>20304</td>\n",
              "      <td>554</td>\n",
              "      <td>NaN</td>\n",
              "      <td>0</td>\n",
              "    </tr>\n",
              "    <tr>\n",
              "      <th>5</th>\n",
              "      <td>4</td>\n",
              "      <td>945</td>\n",
              "      <td>1011</td>\n",
              "      <td>11618</td>\n",
              "      <td>11278</td>\n",
              "      <td>199.0</td>\n",
              "      <td>20452</td>\n",
              "      <td>3430</td>\n",
              "      <td>1.0</td>\n",
              "      <td>0</td>\n",
              "    </tr>\n",
              "  </tbody>\n",
              "</table>\n",
              "</div>"
            ],
            "text/plain": [
              "   Month  Estimated_Departure_Time  Estimated_Arrival_Time  Origin_Airport_ID  \\\n",
              "1      8                       460                     624              13930   \n",
              "4      1                       540                     619              14771   \n",
              "5      4                       945                    1011              11618   \n",
              "\n",
              "   Destination_Airport_ID  Distance  Carrier_ID(DOT)  Tail_Number  Delay  \\\n",
              "1                   14869    1250.0            20304          310    NaN   \n",
              "4                   10157     250.0            20304          554    NaN   \n",
              "5                   11278     199.0            20452         3430    1.0   \n",
              "\n",
              "   Holiday  \n",
              "1        0  \n",
              "4        0  \n",
              "5        0  "
            ]
          },
          "execution_count": 6,
          "metadata": {},
          "output_type": "execute_result"
        }
      ],
      "source": [
        "train.head(3)"
      ]
    },
    {
      "cell_type": "code",
      "execution_count": null,
      "metadata": {
        "colab": {
          "base_uri": "https://localhost:8080/",
          "height": 143
        },
        "id": "kc2QyCNJ_3_s",
        "outputId": "740fb955-17f1-41d8-eee1-3f306543eb51"
      },
      "outputs": [
        {
          "data": {
            "text/html": [
              "<div>\n",
              "<style scoped>\n",
              "    .dataframe tbody tr th:only-of-type {\n",
              "        vertical-align: middle;\n",
              "    }\n",
              "\n",
              "    .dataframe tbody tr th {\n",
              "        vertical-align: top;\n",
              "    }\n",
              "\n",
              "    .dataframe thead th {\n",
              "        text-align: right;\n",
              "    }\n",
              "</style>\n",
              "<table border=\"1\" class=\"dataframe\">\n",
              "  <thead>\n",
              "    <tr style=\"text-align: right;\">\n",
              "      <th></th>\n",
              "      <th>Month</th>\n",
              "      <th>Estimated_Departure_Time</th>\n",
              "      <th>Estimated_Arrival_Time</th>\n",
              "      <th>Origin_Airport_ID</th>\n",
              "      <th>Destination_Airport_ID</th>\n",
              "      <th>Distance</th>\n",
              "      <th>Carrier_ID(DOT)</th>\n",
              "      <th>Tail_Number</th>\n",
              "      <th>Holiday</th>\n",
              "    </tr>\n",
              "  </thead>\n",
              "  <tbody>\n",
              "    <tr>\n",
              "      <th>0</th>\n",
              "      <td>12</td>\n",
              "      <td>716</td>\n",
              "      <td>779</td>\n",
              "      <td>12266</td>\n",
              "      <td>14683</td>\n",
              "      <td>191.0</td>\n",
              "      <td>19977</td>\n",
              "      <td>4382</td>\n",
              "      <td>0</td>\n",
              "    </tr>\n",
              "    <tr>\n",
              "      <th>1</th>\n",
              "      <td>9</td>\n",
              "      <td>900</td>\n",
              "      <td>1035</td>\n",
              "      <td>11618</td>\n",
              "      <td>10397</td>\n",
              "      <td>746.0</td>\n",
              "      <td>19790</td>\n",
              "      <td>1934</td>\n",
              "      <td>0</td>\n",
              "    </tr>\n",
              "    <tr>\n",
              "      <th>2</th>\n",
              "      <td>3</td>\n",
              "      <td>960</td>\n",
              "      <td>1155</td>\n",
              "      <td>13930</td>\n",
              "      <td>12953</td>\n",
              "      <td>733.0</td>\n",
              "      <td>19977</td>\n",
              "      <td>2144</td>\n",
              "      <td>0</td>\n",
              "    </tr>\n",
              "  </tbody>\n",
              "</table>\n",
              "</div>"
            ],
            "text/plain": [
              "   Month  Estimated_Departure_Time  Estimated_Arrival_Time  Origin_Airport_ID  \\\n",
              "0     12                       716                     779              12266   \n",
              "1      9                       900                    1035              11618   \n",
              "2      3                       960                    1155              13930   \n",
              "\n",
              "   Destination_Airport_ID  Distance  Carrier_ID(DOT)  Tail_Number  Holiday  \n",
              "0                   14683     191.0            19977         4382        0  \n",
              "1                   10397     746.0            19790         1934        0  \n",
              "2                   12953     733.0            19977         2144        0  "
            ]
          },
          "execution_count": 7,
          "metadata": {},
          "output_type": "execute_result"
        }
      ],
      "source": [
        "test.head(3)"
      ]
    },
    {
      "cell_type": "markdown",
      "metadata": {
        "id": "aWh8EdoW9aeV"
      },
      "source": [
        "# **3. 준지도학습**\n",
        "- 라벨이 없는 데이터에 대한 라벨링 진행"
      ]
    },
    {
      "cell_type": "markdown",
      "metadata": {
        "id": "Nopy9f4WOLOX"
      },
      "source": [
        "## **3-0. 데이터 분리**"
      ]
    },
    {
      "cell_type": "code",
      "execution_count": null,
      "metadata": {
        "id": "fg_65OzM9dan"
      },
      "outputs": [],
      "source": [
        "### 데이터 분리\n",
        "# 레이블이 있는 데이터와 없는 데이터 분리\n",
        "\n",
        "train_labeled = train.loc[train['Delay'].notnull(),:]\n",
        "train_unlabeled = train.loc[train['Delay'].isnull(),:]"
      ]
    },
    {
      "cell_type": "code",
      "execution_count": null,
      "metadata": {
        "colab": {
          "base_uri": "https://localhost:8080/"
        },
        "id": "JYJb7mYd9ei_",
        "outputId": "a10b5607-9123-4990-f2e9-a6fdfc44b8fa"
      },
      "outputs": [
        {
          "data": {
            "text/plain": [
              "172245"
            ]
          },
          "execution_count": 9,
          "metadata": {},
          "output_type": "execute_result"
        }
      ],
      "source": [
        "train_labeled.shape[0]"
      ]
    },
    {
      "cell_type": "code",
      "execution_count": null,
      "metadata": {
        "colab": {
          "base_uri": "https://localhost:8080/"
        },
        "id": "jbkfgIDI9flX",
        "outputId": "778084fc-d71d-43d2-9b78-4e36a1d4ae51"
      },
      "outputs": [
        {
          "data": {
            "text/plain": [
              "502770"
            ]
          },
          "execution_count": 10,
          "metadata": {},
          "output_type": "execute_result"
        }
      ],
      "source": [
        "train_unlabeled.shape[0]"
      ]
    },
    {
      "cell_type": "markdown",
      "metadata": {
        "id": "PUkDbyT7I8HP"
      },
      "source": [
        "- 라벨링 된 데이터에 비해 라벨링 되지 **않은** 데이터의 수가 더 많다."
      ]
    },
    {
      "cell_type": "code",
      "execution_count": null,
      "metadata": {
        "colab": {
          "base_uri": "https://localhost:8080/"
        },
        "id": "sBcEvvHO9g5C",
        "outputId": "64795a05-b961-4b46-c0f9-9176d01d4889"
      },
      "outputs": [
        {
          "name": "stdout",
          "output_type": "stream",
          "text": [
            "X Labeled:  (172245, 9)\n",
            "y Labeled:  (172245,)\n",
            "\n",
            "X Unlabeled:  (502770, 9)\n",
            "\n",
            "X Test:  (1000000, 9)\n"
          ]
        }
      ],
      "source": [
        "### X,y 분리\n",
        "\n",
        "# train\n",
        "X_labeled = train_labeled.drop(['Delay'],axis = 1)\n",
        "y_labeled = train_labeled['Delay']\n",
        "X_unlabeled = train_unlabeled.drop(['Delay'],axis = 1)\n",
        "\n",
        "print(\"X Labeled: \", X_labeled.shape)\n",
        "print(\"y Labeled: \", y_labeled.shape)\n",
        "print()\n",
        "print(\"X Unlabeled: \", X_unlabeled.shape)\n",
        "\n",
        "# test\n",
        "X_test = test\n",
        "print()\n",
        "print(\"X Test: \", X_test.shape)"
      ]
    },
    {
      "cell_type": "markdown",
      "metadata": {
        "id": "aT8kdHrJOTmT"
      },
      "source": [
        "## **3-1. 기본 모델 모델링(Base Model Modeling)**\n",
        "- Base Model 선정 & 학습\n",
        "  - 레이블이 **있는** 데이터만을 사용하여 모델을 학습시키면서 튜닝을 진행\n",
        "- 기본 분류기인 Base Model(ex> LogisticRegression)의 하이퍼 파라미터 튜닝을 수행\n",
        "  - GridSearchCV, RandomizedSearchCV, 또는 Bayesian optimization 등의 방법 활용\n",
        "  - 주어진 데이터와 문제에 맞는 하이퍼파라미터 조합을 찾는 것이 중요"
      ]
    },
    {
      "cell_type": "code",
      "execution_count": null,
      "metadata": {
        "id": "_rDxaVt_HYvB"
      },
      "outputs": [],
      "source": [
        "### 여러 모델을 모델링 해보고 성능 평가\n",
        "# 일반적인 분류 모델링과 동일\n",
        "# 각 모델의 성능은 교차 검증을 통해 측정할 예정\n",
        "# 이때는 X_labeled, y_labeled를 활용\n",
        "\n",
        "### 하이퍼 파라미터 튜닝\n",
        "# 가장 성능이 좋은 모델에 대해 하이퍼 파라미터 수행"
      ]
    },
    {
      "cell_type": "code",
      "execution_count": null,
      "metadata": {
        "id": "9ntp0a5fP_NU"
      },
      "outputs": [],
      "source": [
        "# 일단은 가장 기본적인 모델로 진행\n",
        "\n",
        "#from sklearn.linear_model import LogisticRegression\n",
        "#base_model = LogisticRegression() # base model로 활용할 모델 객체 생성\n",
        "\n",
        "# 이때는 다시 base model을 학습시킬 필요는 없음\n",
        "# 밑에서 SelfTrainingClassifier 객체를 생성하고 해당 모델을 학습시킴"
      ]
    },
    {
      "cell_type": "code",
      "execution_count": null,
      "metadata": {
        "id": "6a7Wj1LuCR7U"
      },
      "outputs": [],
      "source": [
        "from sklearn.semi_supervised import SelfTrainingClassifier\n",
        "from sklearn.svm import SVC\n",
        "from sklearn.model_selection import GridSearchCV\n",
        "from lightgbm import LGBMClassifier\n",
        "import numpy as np\n",
        "from sklearn.datasets import make_classification\n",
        "from lightgbm import LGBMClassifier\n",
        "\n",
        "# 기본 분류기도 LightGBM 설정\n",
        "base_model = LGBMClassifier()"
      ]
    },
    {
      "cell_type": "markdown",
      "metadata": {
        "id": "g1PhC-tR9xGQ"
      },
      "source": [
        "## **3-2. Self Training**\n",
        "- 초기에 레이블이 없는 데이터를 레이블링하여 일부 레이블이 있는 데이터를 생성한 후, 이 데이터를 활용해 모델을 학습시키는 방법\n",
        "- 학습된 모델을 사용하여 레이블이 없는 데이터에 대한 예측을 수행하고, 예측 결과 중 신뢰할 수 있는 일부 데이터를 레이블링에 추가로 사용하여 새로운 학습용 데이터를 생성\n",
        "> 해당 과정을 반복하여 모델을 업데이트하면서 점진적으로 더 많은 레이블을 확보해나가는 방식"
      ]
    },
    {
      "cell_type": "code",
      "execution_count": null,
      "metadata": {
        "id": "qt6WRMZd9iFv"
      },
      "outputs": [],
      "source": [
        "# Self Training 분류기 생성\n",
        "\n",
        "self_training_model = SelfTrainingClassifier(base_model, criterion='k_best', k_best=100)"
      ]
    },
    {
      "cell_type": "code",
      "execution_count": null,
      "metadata": {
        "id": "ZBdsQ3wT9mPI"
      },
      "outputs": [],
      "source": [
        "### Self Training을 위한 함수\n",
        "\n",
        "def run_self_training(self_training_model, X_labeled, y_labeled,\n",
        "                      X_unlabeled, early_stopping_rounds = 5):\n",
        "    iter = 0 # 반복 횟수 카운트를 위한 변수\n",
        "    rounds_without_improvement = 0 # early stopping을 위한 카운트 변수\n",
        "\n",
        "    while X_unlabeled.shape[0] > 0 and rounds_without_improvement < early_stopping_rounds:\n",
        "        iter = iter + 1\n",
        "        print(\"=== Iteration {} ===\".format(iter))\n",
        "\n",
        "        ## 1. 레이블이 있는(labeled) 데이터로 모델 학습\n",
        "        self_training_model.fit(X_labeled, y_labeled)\n",
        "\n",
        "        ## 2. 훈련된 모델로 레이블이 없는 데이터를 분류\n",
        "        y_pred_unlabeled = self_training_model.predict(X_unlabeled)\n",
        "\n",
        "        ## 3. 의사 레이블(pseudo label) 설정\n",
        "        # 모델이 90% 이상 확신하는 데이터를 labeled 데이터에 추가\n",
        "        confident_mask = self_training_model.predict_proba(X_unlabeled).max(axis = 1) > 0.9\n",
        "        X_confident = X_unlabeled[confident_mask]\n",
        "        y_confident = y_pred_unlabeled[confident_mask]\n",
        "        # 신뢰할 수 있는 데이터를 레이블링에 추가하여 새로운 학습용 데이터 구성\n",
        "        # 레이블링 된 데이터의 수를 증가시키는 과정\n",
        "        X_labeled = np.concatenate([X_labeled, X_confident], axis = 0)\n",
        "        y_labeled = np.concatenate([y_labeled, y_confident], axis = 0)\n",
        "        # 의사 레이블링 된 데이터들은 이제 레이블이 없는 데이터에서 제거\n",
        "        X_unlabeled = X_unlabeled[~confident_mask]\n",
        "\n",
        "        print(\"{}개 레이블링 완료\".format(X_confident.shape[0]))\n",
        "\n",
        "        ## Early Stopping 체크\n",
        "        if X_confident.shape[0] <= 0:\n",
        "            rounds_without_improvement += 1\n",
        "            print(\"Early Stopping 카운트: {}/{}\".format(rounds_without_improvement,early_stopping_rounds))\n",
        "            print()\n",
        "        else:\n",
        "            rounds_without_improvement = 0\n",
        "            print()\n",
        "    print()\n",
        "    print(\"레이블링 완료\")\n",
        "\n",
        "    # 라벨링 된 데이터 반환\n",
        "    return X_labeled, y_labeled, X_unlabeled"
      ]
    },
    {
      "cell_type": "code",
      "execution_count": null,
      "metadata": {
        "colab": {
          "base_uri": "https://localhost:8080/"
        },
        "id": "6IZFRmJc9n_Z",
        "outputId": "387749f5-fc52-4742-b82b-e4a6462e1e56"
      },
      "outputs": [
        {
          "name": "stdout",
          "output_type": "stream",
          "text": [
            "=== Iteration 1 ===\n",
            "70702개 레이블링 완료\n",
            "\n",
            "=== Iteration 2 ===\n",
            "47252개 레이블링 완료\n",
            "\n",
            "=== Iteration 3 ===\n",
            "36148개 레이블링 완료\n",
            "\n",
            "=== Iteration 4 ===\n",
            "27143개 레이블링 완료\n",
            "\n",
            "=== Iteration 5 ===\n",
            "19174개 레이블링 완료\n",
            "\n",
            "=== Iteration 6 ===\n",
            "14161개 레이블링 완료\n",
            "\n",
            "=== Iteration 7 ===\n",
            "11367개 레이블링 완료\n",
            "\n",
            "=== Iteration 8 ===\n",
            "11432개 레이블링 완료\n",
            "\n",
            "=== Iteration 9 ===\n",
            "10441개 레이블링 완료\n",
            "\n",
            "=== Iteration 10 ===\n",
            "8895개 레이블링 완료\n",
            "\n",
            "=== Iteration 11 ===\n",
            "5650개 레이블링 완료\n",
            "\n",
            "=== Iteration 12 ===\n",
            "3903개 레이블링 완료\n",
            "\n",
            "=== Iteration 13 ===\n",
            "4825개 레이블링 완료\n",
            "\n",
            "=== Iteration 14 ===\n",
            "6605개 레이블링 완료\n",
            "\n",
            "=== Iteration 15 ===\n",
            "7240개 레이블링 완료\n",
            "\n",
            "=== Iteration 16 ===\n",
            "7083개 레이블링 완료\n",
            "\n",
            "=== Iteration 17 ===\n",
            "6068개 레이블링 완료\n",
            "\n",
            "=== Iteration 18 ===\n",
            "4691개 레이블링 완료\n",
            "\n",
            "=== Iteration 19 ===\n",
            "3336개 레이블링 완료\n",
            "\n",
            "=== Iteration 20 ===\n",
            "2624개 레이블링 완료\n",
            "\n",
            "=== Iteration 21 ===\n",
            "1323개 레이블링 완료\n",
            "\n",
            "=== Iteration 22 ===\n",
            "1272개 레이블링 완료\n",
            "\n",
            "=== Iteration 23 ===\n",
            "1568개 레이블링 완료\n",
            "\n",
            "=== Iteration 24 ===\n",
            "1311개 레이블링 완료\n",
            "\n",
            "=== Iteration 25 ===\n",
            "1534개 레이블링 완료\n",
            "\n",
            "=== Iteration 26 ===\n",
            "1618개 레이블링 완료\n",
            "\n",
            "=== Iteration 27 ===\n",
            "1910개 레이블링 완료\n",
            "\n",
            "=== Iteration 28 ===\n",
            "2750개 레이블링 완료\n",
            "\n",
            "=== Iteration 29 ===\n",
            "2935개 레이블링 완료\n",
            "\n",
            "=== Iteration 30 ===\n",
            "2209개 레이블링 완료\n",
            "\n",
            "=== Iteration 31 ===\n",
            "1675개 레이블링 완료\n",
            "\n",
            "=== Iteration 32 ===\n",
            "1859개 레이블링 완료\n",
            "\n",
            "=== Iteration 33 ===\n",
            "1067개 레이블링 완료\n",
            "\n",
            "=== Iteration 34 ===\n",
            "1172개 레이블링 완료\n",
            "\n",
            "=== Iteration 35 ===\n",
            "752개 레이블링 완료\n",
            "\n",
            "=== Iteration 36 ===\n",
            "873개 레이블링 완료\n",
            "\n",
            "=== Iteration 37 ===\n",
            "665개 레이블링 완료\n",
            "\n",
            "=== Iteration 38 ===\n",
            "695개 레이블링 완료\n",
            "\n",
            "=== Iteration 39 ===\n",
            "431개 레이블링 완료\n",
            "\n",
            "=== Iteration 40 ===\n",
            "704개 레이블링 완료\n",
            "\n",
            "=== Iteration 41 ===\n",
            "1078개 레이블링 완료\n",
            "\n",
            "=== Iteration 42 ===\n",
            "713개 레이블링 완료\n",
            "\n",
            "=== Iteration 43 ===\n",
            "852개 레이블링 완료\n",
            "\n",
            "=== Iteration 44 ===\n",
            "749개 레이블링 완료\n",
            "\n",
            "=== Iteration 45 ===\n",
            "345개 레이블링 완료\n",
            "\n",
            "=== Iteration 46 ===\n",
            "504개 레이블링 완료\n",
            "\n",
            "=== Iteration 47 ===\n",
            "424개 레이블링 완료\n",
            "\n",
            "=== Iteration 48 ===\n",
            "657개 레이블링 완료\n",
            "\n",
            "=== Iteration 49 ===\n",
            "876개 레이블링 완료\n",
            "\n",
            "=== Iteration 50 ===\n",
            "1142개 레이블링 완료\n",
            "\n",
            "=== Iteration 51 ===\n",
            "1646개 레이블링 완료\n",
            "\n",
            "=== Iteration 52 ===\n",
            "1339개 레이블링 완료\n",
            "\n",
            "=== Iteration 53 ===\n",
            "1323개 레이블링 완료\n",
            "\n",
            "=== Iteration 54 ===\n",
            "798개 레이블링 완료\n",
            "\n",
            "=== Iteration 55 ===\n",
            "357개 레이블링 완료\n",
            "\n",
            "=== Iteration 56 ===\n",
            "368개 레이블링 완료\n",
            "\n",
            "=== Iteration 57 ===\n",
            "630개 레이블링 완료\n",
            "\n",
            "=== Iteration 58 ===\n",
            "427개 레이블링 완료\n",
            "\n",
            "=== Iteration 59 ===\n",
            "374개 레이블링 완료\n",
            "\n",
            "=== Iteration 60 ===\n",
            "369개 레이블링 완료\n",
            "\n",
            "=== Iteration 61 ===\n",
            "341개 레이블링 완료\n",
            "\n",
            "=== Iteration 62 ===\n",
            "540개 레이블링 완료\n",
            "\n",
            "=== Iteration 63 ===\n",
            "657개 레이블링 완료\n",
            "\n",
            "=== Iteration 64 ===\n",
            "217개 레이블링 완료\n",
            "\n",
            "=== Iteration 65 ===\n",
            "193개 레이블링 완료\n",
            "\n",
            "=== Iteration 66 ===\n",
            "190개 레이블링 완료\n",
            "\n",
            "=== Iteration 67 ===\n",
            "284개 레이블링 완료\n",
            "\n",
            "=== Iteration 68 ===\n",
            "412개 레이블링 완료\n",
            "\n",
            "=== Iteration 69 ===\n",
            "239개 레이블링 완료\n",
            "\n",
            "=== Iteration 70 ===\n",
            "329개 레이블링 완료\n",
            "\n",
            "=== Iteration 71 ===\n",
            "224개 레이블링 완료\n",
            "\n",
            "=== Iteration 72 ===\n",
            "327개 레이블링 완료\n",
            "\n",
            "=== Iteration 73 ===\n",
            "149개 레이블링 완료\n",
            "\n",
            "=== Iteration 74 ===\n",
            "51개 레이블링 완료\n",
            "\n",
            "=== Iteration 75 ===\n",
            "73개 레이블링 완료\n",
            "\n",
            "=== Iteration 76 ===\n",
            "54개 레이블링 완료\n",
            "\n",
            "=== Iteration 77 ===\n",
            "40개 레이블링 완료\n",
            "\n",
            "=== Iteration 78 ===\n",
            "16개 레이블링 완료\n",
            "\n",
            "=== Iteration 79 ===\n",
            "19개 레이블링 완료\n",
            "\n",
            "=== Iteration 80 ===\n",
            "23개 레이블링 완료\n",
            "\n",
            "=== Iteration 81 ===\n",
            "24개 레이블링 완료\n",
            "\n",
            "=== Iteration 82 ===\n",
            "20개 레이블링 완료\n",
            "\n",
            "=== Iteration 83 ===\n",
            "18개 레이블링 완료\n",
            "\n",
            "=== Iteration 84 ===\n",
            "11개 레이블링 완료\n",
            "\n",
            "=== Iteration 85 ===\n",
            "22개 레이블링 완료\n",
            "\n",
            "=== Iteration 86 ===\n",
            "28개 레이블링 완료\n",
            "\n",
            "=== Iteration 87 ===\n",
            "39개 레이블링 완료\n",
            "\n",
            "=== Iteration 88 ===\n",
            "127개 레이블링 완료\n",
            "\n",
            "=== Iteration 89 ===\n",
            "212개 레이블링 완료\n",
            "\n",
            "=== Iteration 90 ===\n",
            "100개 레이블링 완료\n",
            "\n",
            "=== Iteration 91 ===\n",
            "87개 레이블링 완료\n",
            "\n",
            "=== Iteration 92 ===\n",
            "156개 레이블링 완료\n",
            "\n",
            "=== Iteration 93 ===\n",
            "109개 레이블링 완료\n",
            "\n",
            "=== Iteration 94 ===\n",
            "200개 레이블링 완료\n",
            "\n",
            "=== Iteration 95 ===\n",
            "186개 레이블링 완료\n",
            "\n",
            "=== Iteration 96 ===\n",
            "199개 레이블링 완료\n",
            "\n",
            "=== Iteration 97 ===\n",
            "261개 레이블링 완료\n",
            "\n",
            "=== Iteration 98 ===\n",
            "260개 레이블링 완료\n",
            "\n",
            "=== Iteration 99 ===\n",
            "145개 레이블링 완료\n",
            "\n",
            "=== Iteration 100 ===\n",
            "75개 레이블링 완료\n",
            "\n",
            "=== Iteration 101 ===\n",
            "62개 레이블링 완료\n",
            "\n",
            "=== Iteration 102 ===\n",
            "68개 레이블링 완료\n",
            "\n",
            "=== Iteration 103 ===\n",
            "21개 레이블링 완료\n",
            "\n",
            "=== Iteration 104 ===\n",
            "20개 레이블링 완료\n",
            "\n",
            "=== Iteration 105 ===\n",
            "14개 레이블링 완료\n",
            "\n",
            "=== Iteration 106 ===\n",
            "33개 레이블링 완료\n",
            "\n",
            "=== Iteration 107 ===\n",
            "27개 레이블링 완료\n",
            "\n",
            "=== Iteration 108 ===\n",
            "15개 레이블링 완료\n",
            "\n",
            "=== Iteration 109 ===\n",
            "125개 레이블링 완료\n",
            "\n",
            "=== Iteration 110 ===\n",
            "122개 레이블링 완료\n",
            "\n",
            "=== Iteration 111 ===\n",
            "73개 레이블링 완료\n",
            "\n",
            "=== Iteration 112 ===\n",
            "113개 레이블링 완료\n",
            "\n",
            "=== Iteration 113 ===\n",
            "136개 레이블링 완료\n",
            "\n",
            "=== Iteration 114 ===\n",
            "315개 레이블링 완료\n",
            "\n",
            "=== Iteration 115 ===\n",
            "630개 레이블링 완료\n",
            "\n",
            "=== Iteration 116 ===\n",
            "685개 레이블링 완료\n",
            "\n",
            "=== Iteration 117 ===\n",
            "310개 레이블링 완료\n",
            "\n",
            "=== Iteration 118 ===\n",
            "234개 레이블링 완료\n",
            "\n",
            "=== Iteration 119 ===\n",
            "357개 레이블링 완료\n",
            "\n",
            "=== Iteration 120 ===\n",
            "453개 레이블링 완료\n",
            "\n",
            "=== Iteration 121 ===\n",
            "472개 레이블링 완료\n",
            "\n",
            "=== Iteration 122 ===\n",
            "577개 레이블링 완료\n",
            "\n",
            "=== Iteration 123 ===\n",
            "233개 레이블링 완료\n",
            "\n",
            "=== Iteration 124 ===\n",
            "104개 레이블링 완료\n",
            "\n",
            "=== Iteration 125 ===\n",
            "126개 레이블링 완료\n",
            "\n",
            "=== Iteration 126 ===\n",
            "59개 레이블링 완료\n",
            "\n",
            "=== Iteration 127 ===\n",
            "19개 레이블링 완료\n",
            "\n",
            "=== Iteration 128 ===\n",
            "34개 레이블링 완료\n",
            "\n",
            "=== Iteration 129 ===\n",
            "19개 레이블링 완료\n",
            "\n",
            "=== Iteration 130 ===\n",
            "30개 레이블링 완료\n",
            "\n",
            "=== Iteration 131 ===\n",
            "31개 레이블링 완료\n",
            "\n",
            "=== Iteration 132 ===\n",
            "22개 레이블링 완료\n",
            "\n",
            "=== Iteration 133 ===\n",
            "16개 레이블링 완료\n",
            "\n",
            "=== Iteration 134 ===\n",
            "19개 레이블링 완료\n",
            "\n",
            "=== Iteration 135 ===\n",
            "20개 레이블링 완료\n",
            "\n",
            "=== Iteration 136 ===\n",
            "27개 레이블링 완료\n",
            "\n",
            "=== Iteration 137 ===\n",
            "18개 레이블링 완료\n",
            "\n",
            "=== Iteration 138 ===\n",
            "28개 레이블링 완료\n",
            "\n",
            "=== Iteration 139 ===\n",
            "12개 레이블링 완료\n",
            "\n",
            "=== Iteration 140 ===\n",
            "19개 레이블링 완료\n",
            "\n",
            "=== Iteration 141 ===\n",
            "22개 레이블링 완료\n",
            "\n",
            "=== Iteration 142 ===\n",
            "19개 레이블링 완료\n",
            "\n",
            "=== Iteration 143 ===\n",
            "42개 레이블링 완료\n",
            "\n",
            "=== Iteration 144 ===\n",
            "82개 레이블링 완료\n",
            "\n",
            "=== Iteration 145 ===\n",
            "39개 레이블링 완료\n",
            "\n",
            "=== Iteration 146 ===\n",
            "45개 레이블링 완료\n",
            "\n",
            "=== Iteration 147 ===\n",
            "63개 레이블링 완료\n",
            "\n",
            "=== Iteration 148 ===\n",
            "45개 레이블링 완료\n",
            "\n",
            "=== Iteration 149 ===\n",
            "73개 레이블링 완료\n",
            "\n",
            "=== Iteration 150 ===\n",
            "103개 레이블링 완료\n",
            "\n",
            "=== Iteration 151 ===\n",
            "133개 레이블링 완료\n",
            "\n",
            "=== Iteration 152 ===\n",
            "200개 레이블링 완료\n",
            "\n",
            "=== Iteration 153 ===\n",
            "86개 레이블링 완료\n",
            "\n",
            "=== Iteration 154 ===\n",
            "26개 레이블링 완료\n",
            "\n",
            "=== Iteration 155 ===\n",
            "27개 레이블링 완료\n",
            "\n",
            "=== Iteration 156 ===\n",
            "20개 레이블링 완료\n",
            "\n",
            "=== Iteration 157 ===\n",
            "15개 레이블링 완료\n",
            "\n",
            "=== Iteration 158 ===\n",
            "26개 레이블링 완료\n",
            "\n",
            "=== Iteration 159 ===\n",
            "45개 레이블링 완료\n",
            "\n",
            "=== Iteration 160 ===\n",
            "92개 레이블링 완료\n",
            "\n",
            "=== Iteration 161 ===\n",
            "47개 레이블링 완료\n",
            "\n",
            "=== Iteration 162 ===\n",
            "47개 레이블링 완료\n",
            "\n",
            "=== Iteration 163 ===\n",
            "16개 레이블링 완료\n",
            "\n",
            "=== Iteration 164 ===\n",
            "3개 레이블링 완료\n",
            "\n",
            "=== Iteration 165 ===\n",
            "4개 레이블링 완료\n",
            "\n",
            "=== Iteration 166 ===\n",
            "2개 레이블링 완료\n",
            "\n",
            "=== Iteration 167 ===\n",
            "7개 레이블링 완료\n",
            "\n",
            "=== Iteration 168 ===\n",
            "10개 레이블링 완료\n",
            "\n",
            "=== Iteration 169 ===\n",
            "4개 레이블링 완료\n",
            "\n",
            "=== Iteration 170 ===\n",
            "2개 레이블링 완료\n",
            "\n",
            "=== Iteration 171 ===\n",
            "10개 레이블링 완료\n",
            "\n",
            "=== Iteration 172 ===\n",
            "2개 레이블링 완료\n",
            "\n",
            "=== Iteration 173 ===\n",
            "7개 레이블링 완료\n",
            "\n",
            "=== Iteration 174 ===\n",
            "2개 레이블링 완료\n",
            "\n",
            "=== Iteration 175 ===\n",
            "2개 레이블링 완료\n",
            "\n",
            "=== Iteration 176 ===\n",
            "2개 레이블링 완료\n",
            "\n",
            "=== Iteration 177 ===\n",
            "0개 레이블링 완료\n",
            "Early Stopping 카운트: 1/10\n",
            "\n",
            "=== Iteration 178 ===\n",
            "0개 레이블링 완료\n",
            "Early Stopping 카운트: 2/10\n",
            "\n",
            "=== Iteration 179 ===\n",
            "0개 레이블링 완료\n",
            "Early Stopping 카운트: 3/10\n",
            "\n",
            "=== Iteration 180 ===\n",
            "0개 레이블링 완료\n",
            "Early Stopping 카운트: 4/10\n",
            "\n",
            "=== Iteration 181 ===\n",
            "0개 레이블링 완료\n",
            "Early Stopping 카운트: 5/10\n",
            "\n",
            "=== Iteration 182 ===\n",
            "0개 레이블링 완료\n",
            "Early Stopping 카운트: 6/10\n",
            "\n",
            "=== Iteration 183 ===\n",
            "0개 레이블링 완료\n",
            "Early Stopping 카운트: 7/10\n",
            "\n",
            "=== Iteration 184 ===\n",
            "0개 레이블링 완료\n",
            "Early Stopping 카운트: 8/10\n",
            "\n",
            "=== Iteration 185 ===\n",
            "0개 레이블링 완료\n",
            "Early Stopping 카운트: 9/10\n",
            "\n",
            "=== Iteration 186 ===\n",
            "0개 레이블링 완료\n",
            "Early Stopping 카운트: 10/10\n",
            "\n",
            "\n",
            "레이블링 완료\n"
          ]
        }
      ],
      "source": [
        "# Self-training을 통한 레이블링 수행\n",
        "\n",
        "X_labeled, y_labeled, X_unlabeled = run_self_training(base_model, X_labeled, y_labeled, X_unlabeled,\n",
        "                                                      early_stopping_rounds = 10)"
      ]
    },
    {
      "cell_type": "code",
      "execution_count": null,
      "metadata": {
        "colab": {
          "base_uri": "https://localhost:8080/"
        },
        "id": "Ax82AXsf9pFk",
        "outputId": "f54c5d93-0b59-450d-ec30-0395c0958834"
      },
      "outputs": [
        {
          "name": "stdout",
          "output_type": "stream",
          "text": [
            "538004\n",
            "0.20297474870928794\n"
          ]
        }
      ],
      "source": [
        "print(X_labeled.shape[0])\n",
        "print(X_unlabeled.shape[0]/(X_labeled.shape[0] + X_unlabeled.shape[0]))"
      ]
    },
    {
      "cell_type": "markdown",
      "metadata": {
        "id": "xBTPKLZVPQFm"
      },
      "source": [
        "- 라벨링 된 데이터의 개수가 172245에서 538004로 증가\n",
        "- 아직 약 20%의 데이터가 라벨링되지 않은 상황"
      ]
    },
    {
      "cell_type": "code",
      "execution_count": null,
      "metadata": {
        "id": "Hl-B-4TcQp_k"
      },
      "outputs": [],
      "source": [
        "### 최종 데이터 병합- 20%데이터는 무시\n",
        "\n",
        "X_train_final = X_labeled\n",
        "y_train_final = y_labeled"
      ]
    },
    {
      "cell_type": "markdown",
      "metadata": {
        "id": "PNgsN_Yi9qNX"
      },
      "source": [
        "# **4. 최종 예측을 위한 모델링**"
      ]
    },
    {
      "cell_type": "code",
      "execution_count": null,
      "metadata": {
        "id": "W5Pd8kEXgxGq"
      },
      "outputs": [],
      "source": [
        "### 여러 모델을 모델링 해보고 성능 평가\n",
        "# 일반적인 분류 모델링과 동일\n",
        "# 각 모델의 성능은 교차 검증을 통해 측정할 예정\n",
        "# 이때는 X_train_final, y_train_final을 활용\n",
        "\n",
        "### 하이퍼 파라미터 튜닝\n",
        "# 가장 성능이 좋은 모델에 대해 하이퍼 파라미터 수행"
      ]
    },
    {
      "cell_type": "code",
      "execution_count": null,
      "metadata": {
        "id": "OuY0KRVaaYq_"
      },
      "outputs": [],
      "source": [
        "from lightgbm import LGBMClassifier\n",
        "\n",
        "final_classifier = LGBMClassifier(n_estimators = 500)\n",
        "\n",
        "final_classifier.fit(X_train_final, y_train_final)\n",
        "y_test_pred = final_classifier.predict_proba(X_test)"
      ]
    },
    {
      "cell_type": "code",
      "execution_count": null,
      "metadata": {
        "colab": {
          "base_uri": "https://localhost:8080/"
        },
        "id": "4gFw2v1ll3BS",
        "outputId": "086b3e18-a7b6-4265-eefe-4a0a2fc57219"
      },
      "outputs": [
        {
          "data": {
            "text/plain": [
              "array([[0.03049928, 0.96950072],\n",
              "       [0.0688094 , 0.9311906 ],\n",
              "       [0.31183463, 0.68816537],\n",
              "       ...,\n",
              "       [0.29225355, 0.70774645],\n",
              "       [0.12828192, 0.87171808],\n",
              "       [0.03900285, 0.96099715]])"
            ]
          },
          "execution_count": 23,
          "metadata": {},
          "output_type": "execute_result"
        }
      ],
      "source": [
        "y_test_pred"
      ]
    },
    {
      "cell_type": "markdown",
      "metadata": {
        "id": "j6ZXrdGgoVTe"
      },
      "source": [
        "- Delayed = 1\n",
        "- Not_Delayed = 0"
      ]
    },
    {
      "cell_type": "code",
      "execution_count": null,
      "metadata": {
        "colab": {
          "base_uri": "https://localhost:8080/",
          "height": 175
        },
        "id": "aUb6-sfyinOj",
        "outputId": "3cc1e2ba-40e8-4294-b68b-d571ddd7a372"
      },
      "outputs": [
        {
          "data": {
            "text/html": [
              "<div>\n",
              "<style scoped>\n",
              "    .dataframe tbody tr th:only-of-type {\n",
              "        vertical-align: middle;\n",
              "    }\n",
              "\n",
              "    .dataframe tbody tr th {\n",
              "        vertical-align: top;\n",
              "    }\n",
              "\n",
              "    .dataframe thead th {\n",
              "        text-align: right;\n",
              "    }\n",
              "</style>\n",
              "<table border=\"1\" class=\"dataframe\">\n",
              "  <thead>\n",
              "    <tr style=\"text-align: right;\">\n",
              "      <th></th>\n",
              "      <th>Not_Delayed</th>\n",
              "      <th>Delayed</th>\n",
              "    </tr>\n",
              "    <tr>\n",
              "      <th>ID</th>\n",
              "      <th></th>\n",
              "      <th></th>\n",
              "    </tr>\n",
              "  </thead>\n",
              "  <tbody>\n",
              "    <tr>\n",
              "      <th>TEST_000000</th>\n",
              "      <td>0</td>\n",
              "      <td>1</td>\n",
              "    </tr>\n",
              "    <tr>\n",
              "      <th>TEST_000001</th>\n",
              "      <td>0</td>\n",
              "      <td>1</td>\n",
              "    </tr>\n",
              "    <tr>\n",
              "      <th>TEST_000002</th>\n",
              "      <td>0</td>\n",
              "      <td>1</td>\n",
              "    </tr>\n",
              "  </tbody>\n",
              "</table>\n",
              "</div>"
            ],
            "text/plain": [
              "             Not_Delayed  Delayed\n",
              "ID                               \n",
              "TEST_000000            0        1\n",
              "TEST_000001            0        1\n",
              "TEST_000002            0        1"
            ]
          },
          "execution_count": 24,
          "metadata": {},
          "output_type": "execute_result"
        }
      ],
      "source": [
        "sample_submission.head(3)"
      ]
    },
    {
      "cell_type": "code",
      "execution_count": null,
      "metadata": {
        "id": "z_T50fapjcUK"
      },
      "outputs": [],
      "source": [
        "submission = pd.DataFrame(data = y_test_pred, columns = sample_submission.columns,\n",
        "                          index = sample_submission.index)"
      ]
    },
    {
      "cell_type": "code",
      "execution_count": null,
      "metadata": {
        "colab": {
          "base_uri": "https://localhost:8080/",
          "height": 175
        },
        "id": "CeFFidcFst-x",
        "outputId": "4d66c1a3-c7c4-47fd-8f2a-1a0bd7f818f6"
      },
      "outputs": [
        {
          "data": {
            "text/html": [
              "<div>\n",
              "<style scoped>\n",
              "    .dataframe tbody tr th:only-of-type {\n",
              "        vertical-align: middle;\n",
              "    }\n",
              "\n",
              "    .dataframe tbody tr th {\n",
              "        vertical-align: top;\n",
              "    }\n",
              "\n",
              "    .dataframe thead th {\n",
              "        text-align: right;\n",
              "    }\n",
              "</style>\n",
              "<table border=\"1\" class=\"dataframe\">\n",
              "  <thead>\n",
              "    <tr style=\"text-align: right;\">\n",
              "      <th></th>\n",
              "      <th>Not_Delayed</th>\n",
              "      <th>Delayed</th>\n",
              "    </tr>\n",
              "    <tr>\n",
              "      <th>ID</th>\n",
              "      <th></th>\n",
              "      <th></th>\n",
              "    </tr>\n",
              "  </thead>\n",
              "  <tbody>\n",
              "    <tr>\n",
              "      <th>TEST_000000</th>\n",
              "      <td>0.030499</td>\n",
              "      <td>0.969501</td>\n",
              "    </tr>\n",
              "    <tr>\n",
              "      <th>TEST_000001</th>\n",
              "      <td>0.068809</td>\n",
              "      <td>0.931191</td>\n",
              "    </tr>\n",
              "    <tr>\n",
              "      <th>TEST_000002</th>\n",
              "      <td>0.311835</td>\n",
              "      <td>0.688165</td>\n",
              "    </tr>\n",
              "  </tbody>\n",
              "</table>\n",
              "</div>"
            ],
            "text/plain": [
              "             Not_Delayed   Delayed\n",
              "ID                                \n",
              "TEST_000000     0.030499  0.969501\n",
              "TEST_000001     0.068809  0.931191\n",
              "TEST_000002     0.311835  0.688165"
            ]
          },
          "execution_count": 26,
          "metadata": {},
          "output_type": "execute_result"
        }
      ],
      "source": [
        "submission.head(3)"
      ]
    },
    {
      "cell_type": "code",
      "execution_count": null,
      "metadata": {
        "id": "6cmltuvks2Hd"
      },
      "outputs": [],
      "source": [
        "submission.to_csv('baseline_submission.csv', index = True)"
      ]
    },
    {
      "cell_type": "markdown",
      "metadata": {
        "id": "aJz1LXMNN1C_"
      },
      "source": [
        "**GridSearchCV를 활용하여 하이퍼파라미터 튜닝 적용**"
      ]
    },
    {
      "cell_type": "code",
      "execution_count": null,
      "metadata": {
        "id": "66WakaTAcDnc"
      },
      "outputs": [],
      "source": [
        "from sklearn.model_selection import train_test_split\n",
        "\n",
        "X_train,X_valid,y_train,y_valid = train_test_split(X_train_final,y_train_final, test_size = 0.2, random_state = 156)"
      ]
    },
    {
      "cell_type": "code",
      "execution_count": null,
      "metadata": {
        "id": "G8b2oANmENUx",
        "outputId": "1742b49f-0845-4f47-8009-387e276c37b0"
      },
      "outputs": [
        {
          "name": "stdout",
          "output_type": "stream",
          "text": [
            "하이퍼파라미터 조합 및 평균 Log Loss:\n",
            "하이퍼파라미터 조합: {'max_depth': 128, 'min_child_samples': 60, 'num_leaves': 32, 'subsample': 0.8}, 평균 Log Loss: 0.8952\n",
            "하이퍼파라미터 조합: {'max_depth': 128, 'min_child_samples': 60, 'num_leaves': 32, 'subsample': 1}, 평균 Log Loss: 0.8952\n",
            "하이퍼파라미터 조합: {'max_depth': 128, 'min_child_samples': 60, 'num_leaves': 64, 'subsample': 0.8}, 평균 Log Loss: 0.8950\n",
            "하이퍼파라미터 조합: {'max_depth': 128, 'min_child_samples': 60, 'num_leaves': 64, 'subsample': 1}, 평균 Log Loss: 0.8950\n",
            "하이퍼파라미터 조합: {'max_depth': 128, 'min_child_samples': 100, 'num_leaves': 32, 'subsample': 0.8}, 평균 Log Loss: 0.8952\n",
            "하이퍼파라미터 조합: {'max_depth': 128, 'min_child_samples': 100, 'num_leaves': 32, 'subsample': 1}, 평균 Log Loss: 0.8952\n",
            "하이퍼파라미터 조합: {'max_depth': 128, 'min_child_samples': 100, 'num_leaves': 64, 'subsample': 0.8}, 평균 Log Loss: 0.8950\n",
            "하이퍼파라미터 조합: {'max_depth': 128, 'min_child_samples': 100, 'num_leaves': 64, 'subsample': 1}, 평균 Log Loss: 0.8950\n",
            "하이퍼파라미터 조합: {'max_depth': 160, 'min_child_samples': 60, 'num_leaves': 32, 'subsample': 0.8}, 평균 Log Loss: 0.8952\n",
            "하이퍼파라미터 조합: {'max_depth': 160, 'min_child_samples': 60, 'num_leaves': 32, 'subsample': 1}, 평균 Log Loss: 0.8952\n",
            "하이퍼파라미터 조합: {'max_depth': 160, 'min_child_samples': 60, 'num_leaves': 64, 'subsample': 0.8}, 평균 Log Loss: 0.8950\n",
            "하이퍼파라미터 조합: {'max_depth': 160, 'min_child_samples': 60, 'num_leaves': 64, 'subsample': 1}, 평균 Log Loss: 0.8950\n",
            "하이퍼파라미터 조합: {'max_depth': 160, 'min_child_samples': 100, 'num_leaves': 32, 'subsample': 0.8}, 평균 Log Loss: 0.8952\n",
            "하이퍼파라미터 조합: {'max_depth': 160, 'min_child_samples': 100, 'num_leaves': 32, 'subsample': 1}, 평균 Log Loss: 0.8952\n",
            "하이퍼파라미터 조합: {'max_depth': 160, 'min_child_samples': 100, 'num_leaves': 64, 'subsample': 0.8}, 평균 Log Loss: 0.8950\n",
            "하이퍼파라미터 조합: {'max_depth': 160, 'min_child_samples': 100, 'num_leaves': 64, 'subsample': 1}, 평균 Log Loss: 0.8950\n",
            "\n",
            "최적 하이퍼 파라미터:\n",
            "{'max_depth': 128, 'min_child_samples': 60, 'num_leaves': 32, 'subsample': 0.8}\n",
            "최적 Log Loss: 0.8952016129398904\n"
          ]
        }
      ],
      "source": [
        "from lightgbm import LGBMClassifier\n",
        "from sklearn.model_selection import GridSearchCV\n",
        "\n",
        "final_classifier = LGBMClassifier(n_estimators=200)\n",
        "\n",
        "params = {\n",
        "    'num_leaves': [32, 64],\n",
        "    'max_depth': [128, 160],\n",
        "    'min_child_samples': [60, 100],\n",
        "    'subsample': [0.8, 1]\n",
        "}\n",
        "\n",
        "gridcv = GridSearchCV(final_classifier, param_grid=params, cv=3)\n",
        "# GridSearchCV는 교차 검증을 통해 하이퍼파라미터를 평가하므로, eval_set을 사용할 필요가 없음 -> 제거\n",
        "gridcv.fit(X_train_final, y_train_final)\n",
        "\n",
        "print('하이퍼파라미터 조합 및 평균 Log Loss:')\n",
        "results = gridcv.cv_results_\n",
        "for mean_score, params in zip(results[\"mean_test_score\"], results[\"params\"]):\n",
        "    print(f\"하이퍼파라미터 조합: {params}, 평균 Log Loss: {mean_score:.4f}\")\n",
        "\n",
        "print('\\n최적 하이퍼 파라미터:')\n",
        "print(gridcv.best_params_)\n",
        "print('최적 Log Loss:', gridcv.best_score_)"
      ]
    },
    {
      "cell_type": "code",
      "execution_count": null,
      "metadata": {
        "id": "1hUoOWw8ENU7",
        "outputId": "78b744d6-bc59-472a-a5a8-3234e22d6d86"
      },
      "outputs": [
        {
          "data": {
            "text/plain": [
              "LGBMClassifier(max_depth=128, min_child_samples=60, n_estimators=200,\n",
              "               num_leaves=32, subsample=0.8)"
            ]
          },
          "execution_count": 34,
          "metadata": {},
          "output_type": "execute_result"
        }
      ],
      "source": [
        "### 최종 모델 생성\n",
        "final_classifier2 = LGBMClassifier(n_estimators=200, num_leaves=32, subsample=0.8,\n",
        "                                   min_child_samples=60, max_depth=128)\n",
        "\n",
        "# early_stopping_rounds와 eval_metric 설정하여 모델 학습\n",
        "evals = [(X_valid, y_valid)]\n",
        "final_classifier2.fit(X_train, y_train, early_stopping_rounds=100, eval_metric=\"logloss\",\n",
        "                      eval_set = evals, verbose = 0)"
      ]
    },
    {
      "cell_type": "code",
      "execution_count": null,
      "metadata": {
        "id": "6g6KV1uNENU7"
      },
      "outputs": [],
      "source": [
        "# 최종 예측\n",
        "\n",
        "preds2 = final_classifier2.predict_proba(X_test) # predict_proba를 써야 함"
      ]
    },
    {
      "cell_type": "code",
      "execution_count": null,
      "metadata": {
        "colab": {
          "base_uri": "https://localhost:8080/"
        },
        "id": "2ju5tiNGfDVm",
        "outputId": "aeb3e320-71a9-4517-fd0f-1a2efa117754"
      },
      "outputs": [
        {
          "data": {
            "text/plain": [
              "array([[0.04209381, 0.95790619],\n",
              "       [0.04629662, 0.95370338],\n",
              "       [0.22795744, 0.77204256],\n",
              "       ...,\n",
              "       [0.27146766, 0.72853234],\n",
              "       [0.07720579, 0.92279421],\n",
              "       [0.03898425, 0.96101575]])"
            ]
          },
          "execution_count": 36,
          "metadata": {},
          "output_type": "execute_result"
        }
      ],
      "source": [
        "preds2"
      ]
    },
    {
      "cell_type": "code",
      "execution_count": null,
      "metadata": {
        "colab": {
          "base_uri": "https://localhost:8080/",
          "height": 175
        },
        "id": "Gs-KnLjOO5tg",
        "outputId": "3e96a630-48b2-422a-da8c-1fafda93e24f"
      },
      "outputs": [
        {
          "data": {
            "text/html": [
              "<div>\n",
              "<style scoped>\n",
              "    .dataframe tbody tr th:only-of-type {\n",
              "        vertical-align: middle;\n",
              "    }\n",
              "\n",
              "    .dataframe tbody tr th {\n",
              "        vertical-align: top;\n",
              "    }\n",
              "\n",
              "    .dataframe thead th {\n",
              "        text-align: right;\n",
              "    }\n",
              "</style>\n",
              "<table border=\"1\" class=\"dataframe\">\n",
              "  <thead>\n",
              "    <tr style=\"text-align: right;\">\n",
              "      <th></th>\n",
              "      <th>Not_Delayed</th>\n",
              "      <th>Delayed</th>\n",
              "    </tr>\n",
              "    <tr>\n",
              "      <th>ID</th>\n",
              "      <th></th>\n",
              "      <th></th>\n",
              "    </tr>\n",
              "  </thead>\n",
              "  <tbody>\n",
              "    <tr>\n",
              "      <th>TEST_000000</th>\n",
              "      <td>0</td>\n",
              "      <td>1</td>\n",
              "    </tr>\n",
              "    <tr>\n",
              "      <th>TEST_000001</th>\n",
              "      <td>0</td>\n",
              "      <td>1</td>\n",
              "    </tr>\n",
              "    <tr>\n",
              "      <th>TEST_000002</th>\n",
              "      <td>0</td>\n",
              "      <td>1</td>\n",
              "    </tr>\n",
              "  </tbody>\n",
              "</table>\n",
              "</div>"
            ],
            "text/plain": [
              "             Not_Delayed  Delayed\n",
              "ID                               \n",
              "TEST_000000            0        1\n",
              "TEST_000001            0        1\n",
              "TEST_000002            0        1"
            ]
          },
          "execution_count": 37,
          "metadata": {},
          "output_type": "execute_result"
        }
      ],
      "source": [
        "sample_submission.head(3)"
      ]
    },
    {
      "cell_type": "code",
      "execution_count": null,
      "metadata": {
        "id": "fcuc8aknO9Ea"
      },
      "outputs": [],
      "source": [
        "submission2 = pd.DataFrame(data = preds2, columns = sample_submission.columns,\n",
        "                          index = sample_submission.index)"
      ]
    },
    {
      "cell_type": "code",
      "execution_count": null,
      "metadata": {
        "colab": {
          "base_uri": "https://localhost:8080/",
          "height": 175
        },
        "id": "0G67JvKiPAVr",
        "outputId": "4ddd63e0-4031-470b-eeca-dd7c3ab62904"
      },
      "outputs": [
        {
          "data": {
            "text/html": [
              "<div>\n",
              "<style scoped>\n",
              "    .dataframe tbody tr th:only-of-type {\n",
              "        vertical-align: middle;\n",
              "    }\n",
              "\n",
              "    .dataframe tbody tr th {\n",
              "        vertical-align: top;\n",
              "    }\n",
              "\n",
              "    .dataframe thead th {\n",
              "        text-align: right;\n",
              "    }\n",
              "</style>\n",
              "<table border=\"1\" class=\"dataframe\">\n",
              "  <thead>\n",
              "    <tr style=\"text-align: right;\">\n",
              "      <th></th>\n",
              "      <th>Not_Delayed</th>\n",
              "      <th>Delayed</th>\n",
              "    </tr>\n",
              "    <tr>\n",
              "      <th>ID</th>\n",
              "      <th></th>\n",
              "      <th></th>\n",
              "    </tr>\n",
              "  </thead>\n",
              "  <tbody>\n",
              "    <tr>\n",
              "      <th>TEST_000000</th>\n",
              "      <td>0.042094</td>\n",
              "      <td>0.957906</td>\n",
              "    </tr>\n",
              "    <tr>\n",
              "      <th>TEST_000001</th>\n",
              "      <td>0.046297</td>\n",
              "      <td>0.953703</td>\n",
              "    </tr>\n",
              "    <tr>\n",
              "      <th>TEST_000002</th>\n",
              "      <td>0.227957</td>\n",
              "      <td>0.772043</td>\n",
              "    </tr>\n",
              "  </tbody>\n",
              "</table>\n",
              "</div>"
            ],
            "text/plain": [
              "             Not_Delayed   Delayed\n",
              "ID                                \n",
              "TEST_000000     0.042094  0.957906\n",
              "TEST_000001     0.046297  0.953703\n",
              "TEST_000002     0.227957  0.772043"
            ]
          },
          "execution_count": 41,
          "metadata": {},
          "output_type": "execute_result"
        }
      ],
      "source": [
        "submission2.head(3)"
      ]
    },
    {
      "cell_type": "code",
      "execution_count": null,
      "metadata": {
        "id": "IjKXzc6tPBtq"
      },
      "outputs": [],
      "source": [
        "submission2.to_csv('LGBM_submission.csv', index = True)"
      ]
    }
  ],
  "metadata": {
    "colab": {
      "provenance": [],
      "include_colab_link": true
    },
    "kernelspec": {
      "display_name": "Python 3 (ipykernel)",
      "language": "python",
      "name": "python3"
    },
    "language_info": {
      "codemirror_mode": {
        "name": "ipython",
        "version": 3
      },
      "file_extension": ".py",
      "mimetype": "text/x-python",
      "name": "python",
      "nbconvert_exporter": "python",
      "pygments_lexer": "ipython3",
      "version": "3.8.9"
    }
  },
  "nbformat": 4,
  "nbformat_minor": 0
}